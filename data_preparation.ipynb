{
  "cells": [
    {
      "cell_type": "markdown",
      "source": [
        "# Data Preparation"
      ],
      "metadata": {
        "id": "nG0Wj_0UIaBV"
      }
    },
    {
      "cell_type": "code",
      "execution_count": 1,
      "metadata": {
        "id": "cxzQslEkDic7"
      },
      "outputs": [],
      "source": [
        "import os\n",
        "from google.colab import drive\n",
        "import matplotlib.pyplot as plt\n",
        "import numpy as np\n",
        "import pandas as pd"
      ]
    },
    {
      "cell_type": "code",
      "source": [
        "drive.mount('/content/drive')"
      ],
      "metadata": {
        "colab": {
          "base_uri": "https://localhost:8080/"
        },
        "id": "ukbCoxttLPUB",
        "outputId": "fdff8144-1eb1-4f57-dc63-ff353cfe3116"
      },
      "execution_count": 2,
      "outputs": [
        {
          "output_type": "stream",
          "name": "stdout",
          "text": [
            "Mounted at /content/drive\n"
          ]
        }
      ]
    },
    {
      "cell_type": "code",
      "source": [
        "folder_path = '/content/drive/My Drive/news_classifier/'\n",
        "file_list = os.listdir(folder_path)"
      ],
      "metadata": {
        "id": "e4dfnCJJLWAQ"
      },
      "execution_count": 3,
      "outputs": []
    },
    {
      "cell_type": "code",
      "source": [
        "file_name = 'News_Category_Dataset_v3.json'\n",
        "full_path = os.path.join(folder_path, file_name)\n",
        "data = pd.read_json(full_path, lines=True)"
      ],
      "metadata": {
        "id": "-Ns4KuOoLWhI"
      },
      "execution_count": 4,
      "outputs": []
    },
    {
      "cell_type": "markdown",
      "metadata": {
        "id": "x_fH28bHDic_"
      },
      "source": [
        "## Explore data"
      ]
    },
    {
      "cell_type": "code",
      "execution_count": 5,
      "metadata": {
        "colab": {
          "base_uri": "https://localhost:8080/"
        },
        "id": "3Q0G-mgNDidA",
        "outputId": "da1a670c-56e2-4664-c1a4-0859e5491c63"
      },
      "outputs": [
        {
          "output_type": "stream",
          "name": "stdout",
          "text": [
            "<class 'pandas.core.frame.DataFrame'>\n",
            "RangeIndex: 209527 entries, 0 to 209526\n",
            "Data columns (total 6 columns):\n",
            " #   Column             Non-Null Count   Dtype         \n",
            "---  ------             --------------   -----         \n",
            " 0   link               209527 non-null  object        \n",
            " 1   headline           209527 non-null  object        \n",
            " 2   category           209527 non-null  object        \n",
            " 3   short_description  209527 non-null  object        \n",
            " 4   authors            209527 non-null  object        \n",
            " 5   date               209527 non-null  datetime64[ns]\n",
            "dtypes: datetime64[ns](1), object(5)\n",
            "memory usage: 9.6+ MB\n"
          ]
        }
      ],
      "source": [
        "data.info()"
      ]
    },
    {
      "cell_type": "code",
      "execution_count": 6,
      "metadata": {
        "colab": {
          "base_uri": "https://localhost:8080/"
        },
        "id": "jkYMwAJSDidB",
        "outputId": "f1c5981f-5972-4cd8-a029-fdaf72942357"
      },
      "outputs": [
        {
          "output_type": "execute_result",
          "data": {
            "text/plain": [
              "array(['U.S. NEWS', 'COMEDY', 'PARENTING', 'WORLD NEWS', 'CULTURE & ARTS',\n",
              "       'TECH', 'SPORTS', 'ENTERTAINMENT', 'POLITICS', 'WEIRD NEWS',\n",
              "       'ENVIRONMENT', 'EDUCATION', 'CRIME', 'SCIENCE', 'WELLNESS',\n",
              "       'BUSINESS', 'STYLE & BEAUTY', 'FOOD & DRINK', 'MEDIA',\n",
              "       'QUEER VOICES', 'HOME & LIVING', 'WOMEN', 'BLACK VOICES', 'TRAVEL',\n",
              "       'MONEY', 'RELIGION', 'LATINO VOICES', 'IMPACT', 'WEDDINGS',\n",
              "       'COLLEGE', 'PARENTS', 'ARTS & CULTURE', 'STYLE', 'GREEN', 'TASTE',\n",
              "       'HEALTHY LIVING', 'THE WORLDPOST', 'GOOD NEWS', 'WORLDPOST',\n",
              "       'FIFTY', 'ARTS', 'DIVORCE'], dtype=object)"
            ]
          },
          "metadata": {},
          "execution_count": 6
        }
      ],
      "source": [
        "data['category'].unique()"
      ]
    },
    {
      "cell_type": "code",
      "execution_count": 7,
      "metadata": {
        "colab": {
          "base_uri": "https://localhost:8080/",
          "height": 238
        },
        "id": "PIV9re7uDidB",
        "outputId": "8bb60490-6115-47b3-90f6-4e881363b298"
      },
      "outputs": [
        {
          "output_type": "execute_result",
          "data": {
            "text/plain": [
              "                                                     link headline  \\\n",
              "90944   https://www.huffingtonpost.com/entry/lincoln-2...            \n",
              "95567   https://www.huffingtonpost.com/entry/post_9671...            \n",
              "103675  https://www.huffingtonpost.com/entry/us-and-eu...            \n",
              "109100  https://www.huffingtonpost.com/entry/disney-ce...            \n",
              "110153  https://www.huffingtonpost.com/entry/beverly-h...            \n",
              "122145  https://www.huffingtonpost.com/entry/beverly-h...            \n",
              "\n",
              "            category                                  short_description  \\\n",
              "90944       POLITICS                                                      \n",
              "95567       RELIGION  Let everyone not wrapped in tired and disprove...   \n",
              "103675     WORLDPOST                                                      \n",
              "109100      BUSINESS                                                      \n",
              "110153         MEDIA                                                      \n",
              "122145  QUEER VOICES                                                      \n",
              "\n",
              "                                                  authors       date  \n",
              "90944   Robert Moran, ContributorRobert Moran leads Br... 2015-08-22  \n",
              "95567   Matthew Fox, ContributorRadical theologian Mat... 2015-06-30  \n",
              "103675  Natasha Srdoc, ContributorAuthor, Economist, C... 2015-03-29  \n",
              "109100  Gary Snyder, ContributorWriter and Media Strat... 2015-01-25  \n",
              "110153  Gary Snyder, ContributorWriter and Media Strat... 2015-01-13  \n",
              "122145  Gary Snyder, ContributorWriter and Media Strat... 2014-08-28  "
            ],
            "text/html": [
              "\n",
              "  <div id=\"df-a4bc8c5b-5805-4888-8b4a-8a72463a3b75\" class=\"colab-df-container\">\n",
              "    <div>\n",
              "<style scoped>\n",
              "    .dataframe tbody tr th:only-of-type {\n",
              "        vertical-align: middle;\n",
              "    }\n",
              "\n",
              "    .dataframe tbody tr th {\n",
              "        vertical-align: top;\n",
              "    }\n",
              "\n",
              "    .dataframe thead th {\n",
              "        text-align: right;\n",
              "    }\n",
              "</style>\n",
              "<table border=\"1\" class=\"dataframe\">\n",
              "  <thead>\n",
              "    <tr style=\"text-align: right;\">\n",
              "      <th></th>\n",
              "      <th>link</th>\n",
              "      <th>headline</th>\n",
              "      <th>category</th>\n",
              "      <th>short_description</th>\n",
              "      <th>authors</th>\n",
              "      <th>date</th>\n",
              "    </tr>\n",
              "  </thead>\n",
              "  <tbody>\n",
              "    <tr>\n",
              "      <th>90944</th>\n",
              "      <td>https://www.huffingtonpost.com/entry/lincoln-2...</td>\n",
              "      <td></td>\n",
              "      <td>POLITICS</td>\n",
              "      <td></td>\n",
              "      <td>Robert Moran, ContributorRobert Moran leads Br...</td>\n",
              "      <td>2015-08-22</td>\n",
              "    </tr>\n",
              "    <tr>\n",
              "      <th>95567</th>\n",
              "      <td>https://www.huffingtonpost.com/entry/post_9671...</td>\n",
              "      <td></td>\n",
              "      <td>RELIGION</td>\n",
              "      <td>Let everyone not wrapped in tired and disprove...</td>\n",
              "      <td>Matthew Fox, ContributorRadical theologian Mat...</td>\n",
              "      <td>2015-06-30</td>\n",
              "    </tr>\n",
              "    <tr>\n",
              "      <th>103675</th>\n",
              "      <td>https://www.huffingtonpost.com/entry/us-and-eu...</td>\n",
              "      <td></td>\n",
              "      <td>WORLDPOST</td>\n",
              "      <td></td>\n",
              "      <td>Natasha Srdoc, ContributorAuthor, Economist, C...</td>\n",
              "      <td>2015-03-29</td>\n",
              "    </tr>\n",
              "    <tr>\n",
              "      <th>109100</th>\n",
              "      <td>https://www.huffingtonpost.com/entry/disney-ce...</td>\n",
              "      <td></td>\n",
              "      <td>BUSINESS</td>\n",
              "      <td></td>\n",
              "      <td>Gary Snyder, ContributorWriter and Media Strat...</td>\n",
              "      <td>2015-01-25</td>\n",
              "    </tr>\n",
              "    <tr>\n",
              "      <th>110153</th>\n",
              "      <td>https://www.huffingtonpost.com/entry/beverly-h...</td>\n",
              "      <td></td>\n",
              "      <td>MEDIA</td>\n",
              "      <td></td>\n",
              "      <td>Gary Snyder, ContributorWriter and Media Strat...</td>\n",
              "      <td>2015-01-13</td>\n",
              "    </tr>\n",
              "    <tr>\n",
              "      <th>122145</th>\n",
              "      <td>https://www.huffingtonpost.com/entry/beverly-h...</td>\n",
              "      <td></td>\n",
              "      <td>QUEER VOICES</td>\n",
              "      <td></td>\n",
              "      <td>Gary Snyder, ContributorWriter and Media Strat...</td>\n",
              "      <td>2014-08-28</td>\n",
              "    </tr>\n",
              "  </tbody>\n",
              "</table>\n",
              "</div>\n",
              "    <div class=\"colab-df-buttons\">\n",
              "\n",
              "  <div class=\"colab-df-container\">\n",
              "    <button class=\"colab-df-convert\" onclick=\"convertToInteractive('df-a4bc8c5b-5805-4888-8b4a-8a72463a3b75')\"\n",
              "            title=\"Convert this dataframe to an interactive table.\"\n",
              "            style=\"display:none;\">\n",
              "\n",
              "  <svg xmlns=\"http://www.w3.org/2000/svg\" height=\"24px\" viewBox=\"0 -960 960 960\">\n",
              "    <path d=\"M120-120v-720h720v720H120Zm60-500h600v-160H180v160Zm220 220h160v-160H400v160Zm0 220h160v-160H400v160ZM180-400h160v-160H180v160Zm440 0h160v-160H620v160ZM180-180h160v-160H180v160Zm440 0h160v-160H620v160Z\"/>\n",
              "  </svg>\n",
              "    </button>\n",
              "\n",
              "  <style>\n",
              "    .colab-df-container {\n",
              "      display:flex;\n",
              "      gap: 12px;\n",
              "    }\n",
              "\n",
              "    .colab-df-convert {\n",
              "      background-color: #E8F0FE;\n",
              "      border: none;\n",
              "      border-radius: 50%;\n",
              "      cursor: pointer;\n",
              "      display: none;\n",
              "      fill: #1967D2;\n",
              "      height: 32px;\n",
              "      padding: 0 0 0 0;\n",
              "      width: 32px;\n",
              "    }\n",
              "\n",
              "    .colab-df-convert:hover {\n",
              "      background-color: #E2EBFA;\n",
              "      box-shadow: 0px 1px 2px rgba(60, 64, 67, 0.3), 0px 1px 3px 1px rgba(60, 64, 67, 0.15);\n",
              "      fill: #174EA6;\n",
              "    }\n",
              "\n",
              "    .colab-df-buttons div {\n",
              "      margin-bottom: 4px;\n",
              "    }\n",
              "\n",
              "    [theme=dark] .colab-df-convert {\n",
              "      background-color: #3B4455;\n",
              "      fill: #D2E3FC;\n",
              "    }\n",
              "\n",
              "    [theme=dark] .colab-df-convert:hover {\n",
              "      background-color: #434B5C;\n",
              "      box-shadow: 0px 1px 3px 1px rgba(0, 0, 0, 0.15);\n",
              "      filter: drop-shadow(0px 1px 2px rgba(0, 0, 0, 0.3));\n",
              "      fill: #FFFFFF;\n",
              "    }\n",
              "  </style>\n",
              "\n",
              "    <script>\n",
              "      const buttonEl =\n",
              "        document.querySelector('#df-a4bc8c5b-5805-4888-8b4a-8a72463a3b75 button.colab-df-convert');\n",
              "      buttonEl.style.display =\n",
              "        google.colab.kernel.accessAllowed ? 'block' : 'none';\n",
              "\n",
              "      async function convertToInteractive(key) {\n",
              "        const element = document.querySelector('#df-a4bc8c5b-5805-4888-8b4a-8a72463a3b75');\n",
              "        const dataTable =\n",
              "          await google.colab.kernel.invokeFunction('convertToInteractive',\n",
              "                                                    [key], {});\n",
              "        if (!dataTable) return;\n",
              "\n",
              "        const docLinkHtml = 'Like what you see? Visit the ' +\n",
              "          '<a target=\"_blank\" href=https://colab.research.google.com/notebooks/data_table.ipynb>data table notebook</a>'\n",
              "          + ' to learn more about interactive tables.';\n",
              "        element.innerHTML = '';\n",
              "        dataTable['output_type'] = 'display_data';\n",
              "        await google.colab.output.renderOutput(dataTable, element);\n",
              "        const docLink = document.createElement('div');\n",
              "        docLink.innerHTML = docLinkHtml;\n",
              "        element.appendChild(docLink);\n",
              "      }\n",
              "    </script>\n",
              "  </div>\n",
              "\n",
              "\n",
              "<div id=\"df-7606903a-2282-408f-8da4-777e1b191c99\">\n",
              "  <button class=\"colab-df-quickchart\" onclick=\"quickchart('df-7606903a-2282-408f-8da4-777e1b191c99')\"\n",
              "            title=\"Suggest charts\"\n",
              "            style=\"display:none;\">\n",
              "\n",
              "<svg xmlns=\"http://www.w3.org/2000/svg\" height=\"24px\"viewBox=\"0 0 24 24\"\n",
              "     width=\"24px\">\n",
              "    <g>\n",
              "        <path d=\"M19 3H5c-1.1 0-2 .9-2 2v14c0 1.1.9 2 2 2h14c1.1 0 2-.9 2-2V5c0-1.1-.9-2-2-2zM9 17H7v-7h2v7zm4 0h-2V7h2v10zm4 0h-2v-4h2v4z\"/>\n",
              "    </g>\n",
              "</svg>\n",
              "  </button>\n",
              "\n",
              "<style>\n",
              "  .colab-df-quickchart {\n",
              "      --bg-color: #E8F0FE;\n",
              "      --fill-color: #1967D2;\n",
              "      --hover-bg-color: #E2EBFA;\n",
              "      --hover-fill-color: #174EA6;\n",
              "      --disabled-fill-color: #AAA;\n",
              "      --disabled-bg-color: #DDD;\n",
              "  }\n",
              "\n",
              "  [theme=dark] .colab-df-quickchart {\n",
              "      --bg-color: #3B4455;\n",
              "      --fill-color: #D2E3FC;\n",
              "      --hover-bg-color: #434B5C;\n",
              "      --hover-fill-color: #FFFFFF;\n",
              "      --disabled-bg-color: #3B4455;\n",
              "      --disabled-fill-color: #666;\n",
              "  }\n",
              "\n",
              "  .colab-df-quickchart {\n",
              "    background-color: var(--bg-color);\n",
              "    border: none;\n",
              "    border-radius: 50%;\n",
              "    cursor: pointer;\n",
              "    display: none;\n",
              "    fill: var(--fill-color);\n",
              "    height: 32px;\n",
              "    padding: 0;\n",
              "    width: 32px;\n",
              "  }\n",
              "\n",
              "  .colab-df-quickchart:hover {\n",
              "    background-color: var(--hover-bg-color);\n",
              "    box-shadow: 0 1px 2px rgba(60, 64, 67, 0.3), 0 1px 3px 1px rgba(60, 64, 67, 0.15);\n",
              "    fill: var(--button-hover-fill-color);\n",
              "  }\n",
              "\n",
              "  .colab-df-quickchart-complete:disabled,\n",
              "  .colab-df-quickchart-complete:disabled:hover {\n",
              "    background-color: var(--disabled-bg-color);\n",
              "    fill: var(--disabled-fill-color);\n",
              "    box-shadow: none;\n",
              "  }\n",
              "\n",
              "  .colab-df-spinner {\n",
              "    border: 2px solid var(--fill-color);\n",
              "    border-color: transparent;\n",
              "    border-bottom-color: var(--fill-color);\n",
              "    animation:\n",
              "      spin 1s steps(1) infinite;\n",
              "  }\n",
              "\n",
              "  @keyframes spin {\n",
              "    0% {\n",
              "      border-color: transparent;\n",
              "      border-bottom-color: var(--fill-color);\n",
              "      border-left-color: var(--fill-color);\n",
              "    }\n",
              "    20% {\n",
              "      border-color: transparent;\n",
              "      border-left-color: var(--fill-color);\n",
              "      border-top-color: var(--fill-color);\n",
              "    }\n",
              "    30% {\n",
              "      border-color: transparent;\n",
              "      border-left-color: var(--fill-color);\n",
              "      border-top-color: var(--fill-color);\n",
              "      border-right-color: var(--fill-color);\n",
              "    }\n",
              "    40% {\n",
              "      border-color: transparent;\n",
              "      border-right-color: var(--fill-color);\n",
              "      border-top-color: var(--fill-color);\n",
              "    }\n",
              "    60% {\n",
              "      border-color: transparent;\n",
              "      border-right-color: var(--fill-color);\n",
              "    }\n",
              "    80% {\n",
              "      border-color: transparent;\n",
              "      border-right-color: var(--fill-color);\n",
              "      border-bottom-color: var(--fill-color);\n",
              "    }\n",
              "    90% {\n",
              "      border-color: transparent;\n",
              "      border-bottom-color: var(--fill-color);\n",
              "    }\n",
              "  }\n",
              "</style>\n",
              "\n",
              "  <script>\n",
              "    async function quickchart(key) {\n",
              "      const quickchartButtonEl =\n",
              "        document.querySelector('#' + key + ' button');\n",
              "      quickchartButtonEl.disabled = true;  // To prevent multiple clicks.\n",
              "      quickchartButtonEl.classList.add('colab-df-spinner');\n",
              "      try {\n",
              "        const charts = await google.colab.kernel.invokeFunction(\n",
              "            'suggestCharts', [key], {});\n",
              "      } catch (error) {\n",
              "        console.error('Error during call to suggestCharts:', error);\n",
              "      }\n",
              "      quickchartButtonEl.classList.remove('colab-df-spinner');\n",
              "      quickchartButtonEl.classList.add('colab-df-quickchart-complete');\n",
              "    }\n",
              "    (() => {\n",
              "      let quickchartButtonEl =\n",
              "        document.querySelector('#df-7606903a-2282-408f-8da4-777e1b191c99 button');\n",
              "      quickchartButtonEl.style.display =\n",
              "        google.colab.kernel.accessAllowed ? 'block' : 'none';\n",
              "    })();\n",
              "  </script>\n",
              "</div>\n",
              "    </div>\n",
              "  </div>\n"
            ],
            "application/vnd.google.colaboratory.intrinsic+json": {
              "type": "dataframe",
              "repr_error": "0"
            }
          },
          "metadata": {},
          "execution_count": 7
        }
      ],
      "source": [
        "#show the empty lines in the [headline] column\n",
        "data.loc[data[\"headline\"] == \"\"]"
      ]
    },
    {
      "cell_type": "code",
      "execution_count": 8,
      "metadata": {
        "colab": {
          "base_uri": "https://localhost:8080/",
          "height": 424
        },
        "id": "SkHOvYXBDidC",
        "outputId": "0ec3f7c9-0620-415b-bcc3-61e7f51aafea"
      },
      "outputs": [
        {
          "output_type": "execute_result",
          "data": {
            "text/plain": [
              "                                                     link  \\\n",
              "20773   https://www.huffingtonpost.com/entry/the-big-b...   \n",
              "21523   https://www.huffingtonpost.com/entry/inside-ru...   \n",
              "22793   https://www.huffingtonpost.com/entry/syrian-re...   \n",
              "32223   https://www.huffingtonpost.com/entry/your-guid...   \n",
              "34488   https://www.huffingtonpost.com/entry/the-bechd...   \n",
              "...                                                   ...   \n",
              "206924  https://www.huffingtonpost.com/entry/true-lgbt...   \n",
              "206939  https://www.huffingtonpost.com/entry/chasing-i...   \n",
              "208803  https://www.huffingtonpost.com/entry/love-is-l...   \n",
              "208865  https://www.huffingtonpost.com/entry/zach-hust...   \n",
              "208940  https://www.huffingtonpost.com/entry/nail-tren...   \n",
              "\n",
              "                                                 headline        category  \\\n",
              "20773                                   The Big Blue Wave          COMEDY   \n",
              "21523   Inside Rukban Camp, One Of Syria’s Most Desper...      WORLD NEWS   \n",
              "22793   Syrian Refugees Return From Lebanon Only To Fl...      WORLD NEWS   \n",
              "32223   Your Guide To The Best BBQ In St. Louis Accord...           TASTE   \n",
              "34488                                    The Bechdel Test          COMEDY   \n",
              "...                                                   ...             ...   \n",
              "206924  True LGBTQ Stories: When A College Football Te...    QUEER VOICES   \n",
              "206939  'Chasing Ice' -- The Climate Change Debate Is ...     ENVIRONMENT   \n",
              "208803  Practice for International Kissing Day: 'Love ...          IMPACT   \n",
              "208865  Zach Huston, Victim of Brutal Ohio School Bull...    QUEER VOICES   \n",
              "208940    5 Nail Trends That You Can Actually Do Yourself  STYLE & BEAUTY   \n",
              "\n",
              "       short_description                                            authors  \\\n",
              "20773                     Shan Wells, ContributorSciency sun venerator +...   \n",
              "21523                                           Yasser Allawi, Syria Deeply   \n",
              "22793                                          Abby Sewell, Refugees Deeply   \n",
              "32223                                                                         \n",
              "34488                     Hilary Fitzgerald Campbell, ContributorHilary'...   \n",
              "...                  ...                                                ...   \n",
              "206924                    Nathan Manske, Contributor\\nExecutive Director...   \n",
              "206939                    Greg Reitman, Contributor\\nFounder of Blue Wat...   \n",
              "208803                    Karen Dalton-Beninato, Contributor\\nWriter Nea...   \n",
              "208865                    Ian Thompson, Contributor\\nLegislative Represe...   \n",
              "208940                            Brooke Moreland, Contributor\\nContributor   \n",
              "\n",
              "             date  \n",
              "20773  2017-11-10  \n",
              "21523  2017-10-31  \n",
              "22793  2017-10-14  \n",
              "32223  2017-06-19  \n",
              "34488  2017-05-24  \n",
              "...           ...  \n",
              "206924 2012-02-25  \n",
              "206939 2012-02-25  \n",
              "208803 2012-02-05  \n",
              "208865 2012-02-04  \n",
              "208940 2012-02-03  \n",
              "\n",
              "[19712 rows x 6 columns]"
            ],
            "text/html": [
              "\n",
              "  <div id=\"df-94f1518d-fc73-4e99-826b-a04ced34221f\" class=\"colab-df-container\">\n",
              "    <div>\n",
              "<style scoped>\n",
              "    .dataframe tbody tr th:only-of-type {\n",
              "        vertical-align: middle;\n",
              "    }\n",
              "\n",
              "    .dataframe tbody tr th {\n",
              "        vertical-align: top;\n",
              "    }\n",
              "\n",
              "    .dataframe thead th {\n",
              "        text-align: right;\n",
              "    }\n",
              "</style>\n",
              "<table border=\"1\" class=\"dataframe\">\n",
              "  <thead>\n",
              "    <tr style=\"text-align: right;\">\n",
              "      <th></th>\n",
              "      <th>link</th>\n",
              "      <th>headline</th>\n",
              "      <th>category</th>\n",
              "      <th>short_description</th>\n",
              "      <th>authors</th>\n",
              "      <th>date</th>\n",
              "    </tr>\n",
              "  </thead>\n",
              "  <tbody>\n",
              "    <tr>\n",
              "      <th>20773</th>\n",
              "      <td>https://www.huffingtonpost.com/entry/the-big-b...</td>\n",
              "      <td>The Big Blue Wave</td>\n",
              "      <td>COMEDY</td>\n",
              "      <td></td>\n",
              "      <td>Shan Wells, ContributorSciency sun venerator +...</td>\n",
              "      <td>2017-11-10</td>\n",
              "    </tr>\n",
              "    <tr>\n",
              "      <th>21523</th>\n",
              "      <td>https://www.huffingtonpost.com/entry/inside-ru...</td>\n",
              "      <td>Inside Rukban Camp, One Of Syria’s Most Desper...</td>\n",
              "      <td>WORLD NEWS</td>\n",
              "      <td></td>\n",
              "      <td>Yasser Allawi, Syria Deeply</td>\n",
              "      <td>2017-10-31</td>\n",
              "    </tr>\n",
              "    <tr>\n",
              "      <th>22793</th>\n",
              "      <td>https://www.huffingtonpost.com/entry/syrian-re...</td>\n",
              "      <td>Syrian Refugees Return From Lebanon Only To Fl...</td>\n",
              "      <td>WORLD NEWS</td>\n",
              "      <td></td>\n",
              "      <td>Abby Sewell, Refugees Deeply</td>\n",
              "      <td>2017-10-14</td>\n",
              "    </tr>\n",
              "    <tr>\n",
              "      <th>32223</th>\n",
              "      <td>https://www.huffingtonpost.com/entry/your-guid...</td>\n",
              "      <td>Your Guide To The Best BBQ In St. Louis Accord...</td>\n",
              "      <td>TASTE</td>\n",
              "      <td></td>\n",
              "      <td></td>\n",
              "      <td>2017-06-19</td>\n",
              "    </tr>\n",
              "    <tr>\n",
              "      <th>34488</th>\n",
              "      <td>https://www.huffingtonpost.com/entry/the-bechd...</td>\n",
              "      <td>The Bechdel Test</td>\n",
              "      <td>COMEDY</td>\n",
              "      <td></td>\n",
              "      <td>Hilary Fitzgerald Campbell, ContributorHilary'...</td>\n",
              "      <td>2017-05-24</td>\n",
              "    </tr>\n",
              "    <tr>\n",
              "      <th>...</th>\n",
              "      <td>...</td>\n",
              "      <td>...</td>\n",
              "      <td>...</td>\n",
              "      <td>...</td>\n",
              "      <td>...</td>\n",
              "      <td>...</td>\n",
              "    </tr>\n",
              "    <tr>\n",
              "      <th>206924</th>\n",
              "      <td>https://www.huffingtonpost.com/entry/true-lgbt...</td>\n",
              "      <td>True LGBTQ Stories: When A College Football Te...</td>\n",
              "      <td>QUEER VOICES</td>\n",
              "      <td></td>\n",
              "      <td>Nathan Manske, Contributor\\nExecutive Director...</td>\n",
              "      <td>2012-02-25</td>\n",
              "    </tr>\n",
              "    <tr>\n",
              "      <th>206939</th>\n",
              "      <td>https://www.huffingtonpost.com/entry/chasing-i...</td>\n",
              "      <td>'Chasing Ice' -- The Climate Change Debate Is ...</td>\n",
              "      <td>ENVIRONMENT</td>\n",
              "      <td></td>\n",
              "      <td>Greg Reitman, Contributor\\nFounder of Blue Wat...</td>\n",
              "      <td>2012-02-25</td>\n",
              "    </tr>\n",
              "    <tr>\n",
              "      <th>208803</th>\n",
              "      <td>https://www.huffingtonpost.com/entry/love-is-l...</td>\n",
              "      <td>Practice for International Kissing Day: 'Love ...</td>\n",
              "      <td>IMPACT</td>\n",
              "      <td></td>\n",
              "      <td>Karen Dalton-Beninato, Contributor\\nWriter Nea...</td>\n",
              "      <td>2012-02-05</td>\n",
              "    </tr>\n",
              "    <tr>\n",
              "      <th>208865</th>\n",
              "      <td>https://www.huffingtonpost.com/entry/zach-hust...</td>\n",
              "      <td>Zach Huston, Victim of Brutal Ohio School Bull...</td>\n",
              "      <td>QUEER VOICES</td>\n",
              "      <td></td>\n",
              "      <td>Ian Thompson, Contributor\\nLegislative Represe...</td>\n",
              "      <td>2012-02-04</td>\n",
              "    </tr>\n",
              "    <tr>\n",
              "      <th>208940</th>\n",
              "      <td>https://www.huffingtonpost.com/entry/nail-tren...</td>\n",
              "      <td>5 Nail Trends That You Can Actually Do Yourself</td>\n",
              "      <td>STYLE &amp; BEAUTY</td>\n",
              "      <td></td>\n",
              "      <td>Brooke Moreland, Contributor\\nContributor</td>\n",
              "      <td>2012-02-03</td>\n",
              "    </tr>\n",
              "  </tbody>\n",
              "</table>\n",
              "<p>19712 rows × 6 columns</p>\n",
              "</div>\n",
              "    <div class=\"colab-df-buttons\">\n",
              "\n",
              "  <div class=\"colab-df-container\">\n",
              "    <button class=\"colab-df-convert\" onclick=\"convertToInteractive('df-94f1518d-fc73-4e99-826b-a04ced34221f')\"\n",
              "            title=\"Convert this dataframe to an interactive table.\"\n",
              "            style=\"display:none;\">\n",
              "\n",
              "  <svg xmlns=\"http://www.w3.org/2000/svg\" height=\"24px\" viewBox=\"0 -960 960 960\">\n",
              "    <path d=\"M120-120v-720h720v720H120Zm60-500h600v-160H180v160Zm220 220h160v-160H400v160Zm0 220h160v-160H400v160ZM180-400h160v-160H180v160Zm440 0h160v-160H620v160ZM180-180h160v-160H180v160Zm440 0h160v-160H620v160Z\"/>\n",
              "  </svg>\n",
              "    </button>\n",
              "\n",
              "  <style>\n",
              "    .colab-df-container {\n",
              "      display:flex;\n",
              "      gap: 12px;\n",
              "    }\n",
              "\n",
              "    .colab-df-convert {\n",
              "      background-color: #E8F0FE;\n",
              "      border: none;\n",
              "      border-radius: 50%;\n",
              "      cursor: pointer;\n",
              "      display: none;\n",
              "      fill: #1967D2;\n",
              "      height: 32px;\n",
              "      padding: 0 0 0 0;\n",
              "      width: 32px;\n",
              "    }\n",
              "\n",
              "    .colab-df-convert:hover {\n",
              "      background-color: #E2EBFA;\n",
              "      box-shadow: 0px 1px 2px rgba(60, 64, 67, 0.3), 0px 1px 3px 1px rgba(60, 64, 67, 0.15);\n",
              "      fill: #174EA6;\n",
              "    }\n",
              "\n",
              "    .colab-df-buttons div {\n",
              "      margin-bottom: 4px;\n",
              "    }\n",
              "\n",
              "    [theme=dark] .colab-df-convert {\n",
              "      background-color: #3B4455;\n",
              "      fill: #D2E3FC;\n",
              "    }\n",
              "\n",
              "    [theme=dark] .colab-df-convert:hover {\n",
              "      background-color: #434B5C;\n",
              "      box-shadow: 0px 1px 3px 1px rgba(0, 0, 0, 0.15);\n",
              "      filter: drop-shadow(0px 1px 2px rgba(0, 0, 0, 0.3));\n",
              "      fill: #FFFFFF;\n",
              "    }\n",
              "  </style>\n",
              "\n",
              "    <script>\n",
              "      const buttonEl =\n",
              "        document.querySelector('#df-94f1518d-fc73-4e99-826b-a04ced34221f button.colab-df-convert');\n",
              "      buttonEl.style.display =\n",
              "        google.colab.kernel.accessAllowed ? 'block' : 'none';\n",
              "\n",
              "      async function convertToInteractive(key) {\n",
              "        const element = document.querySelector('#df-94f1518d-fc73-4e99-826b-a04ced34221f');\n",
              "        const dataTable =\n",
              "          await google.colab.kernel.invokeFunction('convertToInteractive',\n",
              "                                                    [key], {});\n",
              "        if (!dataTable) return;\n",
              "\n",
              "        const docLinkHtml = 'Like what you see? Visit the ' +\n",
              "          '<a target=\"_blank\" href=https://colab.research.google.com/notebooks/data_table.ipynb>data table notebook</a>'\n",
              "          + ' to learn more about interactive tables.';\n",
              "        element.innerHTML = '';\n",
              "        dataTable['output_type'] = 'display_data';\n",
              "        await google.colab.output.renderOutput(dataTable, element);\n",
              "        const docLink = document.createElement('div');\n",
              "        docLink.innerHTML = docLinkHtml;\n",
              "        element.appendChild(docLink);\n",
              "      }\n",
              "    </script>\n",
              "  </div>\n",
              "\n",
              "\n",
              "<div id=\"df-ba3758e6-155d-4635-86c6-8749dd8a2fb5\">\n",
              "  <button class=\"colab-df-quickchart\" onclick=\"quickchart('df-ba3758e6-155d-4635-86c6-8749dd8a2fb5')\"\n",
              "            title=\"Suggest charts\"\n",
              "            style=\"display:none;\">\n",
              "\n",
              "<svg xmlns=\"http://www.w3.org/2000/svg\" height=\"24px\"viewBox=\"0 0 24 24\"\n",
              "     width=\"24px\">\n",
              "    <g>\n",
              "        <path d=\"M19 3H5c-1.1 0-2 .9-2 2v14c0 1.1.9 2 2 2h14c1.1 0 2-.9 2-2V5c0-1.1-.9-2-2-2zM9 17H7v-7h2v7zm4 0h-2V7h2v10zm4 0h-2v-4h2v4z\"/>\n",
              "    </g>\n",
              "</svg>\n",
              "  </button>\n",
              "\n",
              "<style>\n",
              "  .colab-df-quickchart {\n",
              "      --bg-color: #E8F0FE;\n",
              "      --fill-color: #1967D2;\n",
              "      --hover-bg-color: #E2EBFA;\n",
              "      --hover-fill-color: #174EA6;\n",
              "      --disabled-fill-color: #AAA;\n",
              "      --disabled-bg-color: #DDD;\n",
              "  }\n",
              "\n",
              "  [theme=dark] .colab-df-quickchart {\n",
              "      --bg-color: #3B4455;\n",
              "      --fill-color: #D2E3FC;\n",
              "      --hover-bg-color: #434B5C;\n",
              "      --hover-fill-color: #FFFFFF;\n",
              "      --disabled-bg-color: #3B4455;\n",
              "      --disabled-fill-color: #666;\n",
              "  }\n",
              "\n",
              "  .colab-df-quickchart {\n",
              "    background-color: var(--bg-color);\n",
              "    border: none;\n",
              "    border-radius: 50%;\n",
              "    cursor: pointer;\n",
              "    display: none;\n",
              "    fill: var(--fill-color);\n",
              "    height: 32px;\n",
              "    padding: 0;\n",
              "    width: 32px;\n",
              "  }\n",
              "\n",
              "  .colab-df-quickchart:hover {\n",
              "    background-color: var(--hover-bg-color);\n",
              "    box-shadow: 0 1px 2px rgba(60, 64, 67, 0.3), 0 1px 3px 1px rgba(60, 64, 67, 0.15);\n",
              "    fill: var(--button-hover-fill-color);\n",
              "  }\n",
              "\n",
              "  .colab-df-quickchart-complete:disabled,\n",
              "  .colab-df-quickchart-complete:disabled:hover {\n",
              "    background-color: var(--disabled-bg-color);\n",
              "    fill: var(--disabled-fill-color);\n",
              "    box-shadow: none;\n",
              "  }\n",
              "\n",
              "  .colab-df-spinner {\n",
              "    border: 2px solid var(--fill-color);\n",
              "    border-color: transparent;\n",
              "    border-bottom-color: var(--fill-color);\n",
              "    animation:\n",
              "      spin 1s steps(1) infinite;\n",
              "  }\n",
              "\n",
              "  @keyframes spin {\n",
              "    0% {\n",
              "      border-color: transparent;\n",
              "      border-bottom-color: var(--fill-color);\n",
              "      border-left-color: var(--fill-color);\n",
              "    }\n",
              "    20% {\n",
              "      border-color: transparent;\n",
              "      border-left-color: var(--fill-color);\n",
              "      border-top-color: var(--fill-color);\n",
              "    }\n",
              "    30% {\n",
              "      border-color: transparent;\n",
              "      border-left-color: var(--fill-color);\n",
              "      border-top-color: var(--fill-color);\n",
              "      border-right-color: var(--fill-color);\n",
              "    }\n",
              "    40% {\n",
              "      border-color: transparent;\n",
              "      border-right-color: var(--fill-color);\n",
              "      border-top-color: var(--fill-color);\n",
              "    }\n",
              "    60% {\n",
              "      border-color: transparent;\n",
              "      border-right-color: var(--fill-color);\n",
              "    }\n",
              "    80% {\n",
              "      border-color: transparent;\n",
              "      border-right-color: var(--fill-color);\n",
              "      border-bottom-color: var(--fill-color);\n",
              "    }\n",
              "    90% {\n",
              "      border-color: transparent;\n",
              "      border-bottom-color: var(--fill-color);\n",
              "    }\n",
              "  }\n",
              "</style>\n",
              "\n",
              "  <script>\n",
              "    async function quickchart(key) {\n",
              "      const quickchartButtonEl =\n",
              "        document.querySelector('#' + key + ' button');\n",
              "      quickchartButtonEl.disabled = true;  // To prevent multiple clicks.\n",
              "      quickchartButtonEl.classList.add('colab-df-spinner');\n",
              "      try {\n",
              "        const charts = await google.colab.kernel.invokeFunction(\n",
              "            'suggestCharts', [key], {});\n",
              "      } catch (error) {\n",
              "        console.error('Error during call to suggestCharts:', error);\n",
              "      }\n",
              "      quickchartButtonEl.classList.remove('colab-df-spinner');\n",
              "      quickchartButtonEl.classList.add('colab-df-quickchart-complete');\n",
              "    }\n",
              "    (() => {\n",
              "      let quickchartButtonEl =\n",
              "        document.querySelector('#df-ba3758e6-155d-4635-86c6-8749dd8a2fb5 button');\n",
              "      quickchartButtonEl.style.display =\n",
              "        google.colab.kernel.accessAllowed ? 'block' : 'none';\n",
              "    })();\n",
              "  </script>\n",
              "</div>\n",
              "    </div>\n",
              "  </div>\n"
            ],
            "application/vnd.google.colaboratory.intrinsic+json": {
              "type": "dataframe",
              "repr_error": "0"
            }
          },
          "metadata": {},
          "execution_count": 8
        }
      ],
      "source": [
        "#show the empty lines in the [short_description] column\n",
        "data.loc[data[\"short_description\"] == \"\",]"
      ]
    },
    {
      "cell_type": "markdown",
      "metadata": {
        "id": "2kJcZ09HDidC"
      },
      "source": [
        "## Pre-processing data"
      ]
    },
    {
      "cell_type": "code",
      "execution_count": 9,
      "metadata": {
        "id": "zXppY-oEDidD"
      },
      "outputs": [],
      "source": [
        "# remove the link, date, authors and short_description column\n",
        "data_cleaned = data.drop(['link', 'date', 'authors'], axis=1)"
      ]
    },
    {
      "cell_type": "code",
      "execution_count": 10,
      "metadata": {
        "id": "vIVun_6hDidE"
      },
      "outputs": [],
      "source": [
        "# remove empty rows in headline and short_description\n",
        "def remove_empty_rows(df):\n",
        "\treturn df.loc[(df['headline'] != \"\") & (df['short_description'] != \"\")]"
      ]
    },
    {
      "cell_type": "code",
      "execution_count": 11,
      "metadata": {
        "id": "jeaO_GDnDidF"
      },
      "outputs": [],
      "source": [
        "data_cleaned = remove_empty_rows(data_cleaned)"
      ]
    },
    {
      "cell_type": "code",
      "execution_count": 12,
      "metadata": {
        "colab": {
          "base_uri": "https://localhost:8080/"
        },
        "id": "TS8cyWy7DidF",
        "outputId": "5dc97bd3-ffac-495b-b948-f4fd90e58a09"
      },
      "outputs": [
        {
          "output_type": "stream",
          "name": "stdout",
          "text": [
            "0\n",
            "0\n"
          ]
        }
      ],
      "source": [
        "#Verify that empty line was remove successfully\n",
        "print((data_cleaned[\"headline\"] == \"\").sum())\n",
        "print((data_cleaned[\"short_description\"] == \"\").sum())"
      ]
    },
    {
      "cell_type": "code",
      "execution_count": 13,
      "metadata": {
        "colab": {
          "base_uri": "https://localhost:8080/",
          "height": 175
        },
        "id": "Kod5cu9oDidG",
        "outputId": "6cc8d1cd-ca69-4bf4-98df-23224e5360a1"
      },
      "outputs": [
        {
          "output_type": "execute_result",
          "data": {
            "text/plain": [
              "              headline  category  \\\n",
              "count           189814    189814   \n",
              "unique          188417        42   \n",
              "top     Sunday Roundup  POLITICS   \n",
              "freq                90     32441   \n",
              "\n",
              "                                        short_description  \n",
              "count                                              189814  \n",
              "unique                                             187020  \n",
              "top     Welcome to the HuffPost Rise Morning Newsbrief...  \n",
              "freq                                                  192  "
            ],
            "text/html": [
              "\n",
              "  <div id=\"df-670791c8-2aa5-4143-acc4-8cbc4e536e3b\" class=\"colab-df-container\">\n",
              "    <div>\n",
              "<style scoped>\n",
              "    .dataframe tbody tr th:only-of-type {\n",
              "        vertical-align: middle;\n",
              "    }\n",
              "\n",
              "    .dataframe tbody tr th {\n",
              "        vertical-align: top;\n",
              "    }\n",
              "\n",
              "    .dataframe thead th {\n",
              "        text-align: right;\n",
              "    }\n",
              "</style>\n",
              "<table border=\"1\" class=\"dataframe\">\n",
              "  <thead>\n",
              "    <tr style=\"text-align: right;\">\n",
              "      <th></th>\n",
              "      <th>headline</th>\n",
              "      <th>category</th>\n",
              "      <th>short_description</th>\n",
              "    </tr>\n",
              "  </thead>\n",
              "  <tbody>\n",
              "    <tr>\n",
              "      <th>count</th>\n",
              "      <td>189814</td>\n",
              "      <td>189814</td>\n",
              "      <td>189814</td>\n",
              "    </tr>\n",
              "    <tr>\n",
              "      <th>unique</th>\n",
              "      <td>188417</td>\n",
              "      <td>42</td>\n",
              "      <td>187020</td>\n",
              "    </tr>\n",
              "    <tr>\n",
              "      <th>top</th>\n",
              "      <td>Sunday Roundup</td>\n",
              "      <td>POLITICS</td>\n",
              "      <td>Welcome to the HuffPost Rise Morning Newsbrief...</td>\n",
              "    </tr>\n",
              "    <tr>\n",
              "      <th>freq</th>\n",
              "      <td>90</td>\n",
              "      <td>32441</td>\n",
              "      <td>192</td>\n",
              "    </tr>\n",
              "  </tbody>\n",
              "</table>\n",
              "</div>\n",
              "    <div class=\"colab-df-buttons\">\n",
              "\n",
              "  <div class=\"colab-df-container\">\n",
              "    <button class=\"colab-df-convert\" onclick=\"convertToInteractive('df-670791c8-2aa5-4143-acc4-8cbc4e536e3b')\"\n",
              "            title=\"Convert this dataframe to an interactive table.\"\n",
              "            style=\"display:none;\">\n",
              "\n",
              "  <svg xmlns=\"http://www.w3.org/2000/svg\" height=\"24px\" viewBox=\"0 -960 960 960\">\n",
              "    <path d=\"M120-120v-720h720v720H120Zm60-500h600v-160H180v160Zm220 220h160v-160H400v160Zm0 220h160v-160H400v160ZM180-400h160v-160H180v160Zm440 0h160v-160H620v160ZM180-180h160v-160H180v160Zm440 0h160v-160H620v160Z\"/>\n",
              "  </svg>\n",
              "    </button>\n",
              "\n",
              "  <style>\n",
              "    .colab-df-container {\n",
              "      display:flex;\n",
              "      gap: 12px;\n",
              "    }\n",
              "\n",
              "    .colab-df-convert {\n",
              "      background-color: #E8F0FE;\n",
              "      border: none;\n",
              "      border-radius: 50%;\n",
              "      cursor: pointer;\n",
              "      display: none;\n",
              "      fill: #1967D2;\n",
              "      height: 32px;\n",
              "      padding: 0 0 0 0;\n",
              "      width: 32px;\n",
              "    }\n",
              "\n",
              "    .colab-df-convert:hover {\n",
              "      background-color: #E2EBFA;\n",
              "      box-shadow: 0px 1px 2px rgba(60, 64, 67, 0.3), 0px 1px 3px 1px rgba(60, 64, 67, 0.15);\n",
              "      fill: #174EA6;\n",
              "    }\n",
              "\n",
              "    .colab-df-buttons div {\n",
              "      margin-bottom: 4px;\n",
              "    }\n",
              "\n",
              "    [theme=dark] .colab-df-convert {\n",
              "      background-color: #3B4455;\n",
              "      fill: #D2E3FC;\n",
              "    }\n",
              "\n",
              "    [theme=dark] .colab-df-convert:hover {\n",
              "      background-color: #434B5C;\n",
              "      box-shadow: 0px 1px 3px 1px rgba(0, 0, 0, 0.15);\n",
              "      filter: drop-shadow(0px 1px 2px rgba(0, 0, 0, 0.3));\n",
              "      fill: #FFFFFF;\n",
              "    }\n",
              "  </style>\n",
              "\n",
              "    <script>\n",
              "      const buttonEl =\n",
              "        document.querySelector('#df-670791c8-2aa5-4143-acc4-8cbc4e536e3b button.colab-df-convert');\n",
              "      buttonEl.style.display =\n",
              "        google.colab.kernel.accessAllowed ? 'block' : 'none';\n",
              "\n",
              "      async function convertToInteractive(key) {\n",
              "        const element = document.querySelector('#df-670791c8-2aa5-4143-acc4-8cbc4e536e3b');\n",
              "        const dataTable =\n",
              "          await google.colab.kernel.invokeFunction('convertToInteractive',\n",
              "                                                    [key], {});\n",
              "        if (!dataTable) return;\n",
              "\n",
              "        const docLinkHtml = 'Like what you see? Visit the ' +\n",
              "          '<a target=\"_blank\" href=https://colab.research.google.com/notebooks/data_table.ipynb>data table notebook</a>'\n",
              "          + ' to learn more about interactive tables.';\n",
              "        element.innerHTML = '';\n",
              "        dataTable['output_type'] = 'display_data';\n",
              "        await google.colab.output.renderOutput(dataTable, element);\n",
              "        const docLink = document.createElement('div');\n",
              "        docLink.innerHTML = docLinkHtml;\n",
              "        element.appendChild(docLink);\n",
              "      }\n",
              "    </script>\n",
              "  </div>\n",
              "\n",
              "\n",
              "<div id=\"df-ee9f7a6b-8618-49a3-bf24-184c8b292621\">\n",
              "  <button class=\"colab-df-quickchart\" onclick=\"quickchart('df-ee9f7a6b-8618-49a3-bf24-184c8b292621')\"\n",
              "            title=\"Suggest charts\"\n",
              "            style=\"display:none;\">\n",
              "\n",
              "<svg xmlns=\"http://www.w3.org/2000/svg\" height=\"24px\"viewBox=\"0 0 24 24\"\n",
              "     width=\"24px\">\n",
              "    <g>\n",
              "        <path d=\"M19 3H5c-1.1 0-2 .9-2 2v14c0 1.1.9 2 2 2h14c1.1 0 2-.9 2-2V5c0-1.1-.9-2-2-2zM9 17H7v-7h2v7zm4 0h-2V7h2v10zm4 0h-2v-4h2v4z\"/>\n",
              "    </g>\n",
              "</svg>\n",
              "  </button>\n",
              "\n",
              "<style>\n",
              "  .colab-df-quickchart {\n",
              "      --bg-color: #E8F0FE;\n",
              "      --fill-color: #1967D2;\n",
              "      --hover-bg-color: #E2EBFA;\n",
              "      --hover-fill-color: #174EA6;\n",
              "      --disabled-fill-color: #AAA;\n",
              "      --disabled-bg-color: #DDD;\n",
              "  }\n",
              "\n",
              "  [theme=dark] .colab-df-quickchart {\n",
              "      --bg-color: #3B4455;\n",
              "      --fill-color: #D2E3FC;\n",
              "      --hover-bg-color: #434B5C;\n",
              "      --hover-fill-color: #FFFFFF;\n",
              "      --disabled-bg-color: #3B4455;\n",
              "      --disabled-fill-color: #666;\n",
              "  }\n",
              "\n",
              "  .colab-df-quickchart {\n",
              "    background-color: var(--bg-color);\n",
              "    border: none;\n",
              "    border-radius: 50%;\n",
              "    cursor: pointer;\n",
              "    display: none;\n",
              "    fill: var(--fill-color);\n",
              "    height: 32px;\n",
              "    padding: 0;\n",
              "    width: 32px;\n",
              "  }\n",
              "\n",
              "  .colab-df-quickchart:hover {\n",
              "    background-color: var(--hover-bg-color);\n",
              "    box-shadow: 0 1px 2px rgba(60, 64, 67, 0.3), 0 1px 3px 1px rgba(60, 64, 67, 0.15);\n",
              "    fill: var(--button-hover-fill-color);\n",
              "  }\n",
              "\n",
              "  .colab-df-quickchart-complete:disabled,\n",
              "  .colab-df-quickchart-complete:disabled:hover {\n",
              "    background-color: var(--disabled-bg-color);\n",
              "    fill: var(--disabled-fill-color);\n",
              "    box-shadow: none;\n",
              "  }\n",
              "\n",
              "  .colab-df-spinner {\n",
              "    border: 2px solid var(--fill-color);\n",
              "    border-color: transparent;\n",
              "    border-bottom-color: var(--fill-color);\n",
              "    animation:\n",
              "      spin 1s steps(1) infinite;\n",
              "  }\n",
              "\n",
              "  @keyframes spin {\n",
              "    0% {\n",
              "      border-color: transparent;\n",
              "      border-bottom-color: var(--fill-color);\n",
              "      border-left-color: var(--fill-color);\n",
              "    }\n",
              "    20% {\n",
              "      border-color: transparent;\n",
              "      border-left-color: var(--fill-color);\n",
              "      border-top-color: var(--fill-color);\n",
              "    }\n",
              "    30% {\n",
              "      border-color: transparent;\n",
              "      border-left-color: var(--fill-color);\n",
              "      border-top-color: var(--fill-color);\n",
              "      border-right-color: var(--fill-color);\n",
              "    }\n",
              "    40% {\n",
              "      border-color: transparent;\n",
              "      border-right-color: var(--fill-color);\n",
              "      border-top-color: var(--fill-color);\n",
              "    }\n",
              "    60% {\n",
              "      border-color: transparent;\n",
              "      border-right-color: var(--fill-color);\n",
              "    }\n",
              "    80% {\n",
              "      border-color: transparent;\n",
              "      border-right-color: var(--fill-color);\n",
              "      border-bottom-color: var(--fill-color);\n",
              "    }\n",
              "    90% {\n",
              "      border-color: transparent;\n",
              "      border-bottom-color: var(--fill-color);\n",
              "    }\n",
              "  }\n",
              "</style>\n",
              "\n",
              "  <script>\n",
              "    async function quickchart(key) {\n",
              "      const quickchartButtonEl =\n",
              "        document.querySelector('#' + key + ' button');\n",
              "      quickchartButtonEl.disabled = true;  // To prevent multiple clicks.\n",
              "      quickchartButtonEl.classList.add('colab-df-spinner');\n",
              "      try {\n",
              "        const charts = await google.colab.kernel.invokeFunction(\n",
              "            'suggestCharts', [key], {});\n",
              "      } catch (error) {\n",
              "        console.error('Error during call to suggestCharts:', error);\n",
              "      }\n",
              "      quickchartButtonEl.classList.remove('colab-df-spinner');\n",
              "      quickchartButtonEl.classList.add('colab-df-quickchart-complete');\n",
              "    }\n",
              "    (() => {\n",
              "      let quickchartButtonEl =\n",
              "        document.querySelector('#df-ee9f7a6b-8618-49a3-bf24-184c8b292621 button');\n",
              "      quickchartButtonEl.style.display =\n",
              "        google.colab.kernel.accessAllowed ? 'block' : 'none';\n",
              "    })();\n",
              "  </script>\n",
              "</div>\n",
              "    </div>\n",
              "  </div>\n"
            ],
            "application/vnd.google.colaboratory.intrinsic+json": {
              "type": "dataframe",
              "summary": "{\n  \"name\": \"data_cleaned\",\n  \"rows\": 4,\n  \"fields\": [\n    {\n      \"column\": \"headline\",\n      \"properties\": {\n        \"dtype\": \"string\",\n        \"num_unique_values\": 4,\n        \"samples\": [\n          188417,\n          \"90\",\n          \"189814\"\n        ],\n        \"semantic_type\": \"\",\n        \"description\": \"\"\n      }\n    },\n    {\n      \"column\": \"category\",\n      \"properties\": {\n        \"dtype\": \"string\",\n        \"num_unique_values\": 4,\n        \"samples\": [\n          42,\n          \"32441\",\n          \"189814\"\n        ],\n        \"semantic_type\": \"\",\n        \"description\": \"\"\n      }\n    },\n    {\n      \"column\": \"short_description\",\n      \"properties\": {\n        \"dtype\": \"string\",\n        \"num_unique_values\": 4,\n        \"samples\": [\n          187020,\n          \"192\",\n          \"189814\"\n        ],\n        \"semantic_type\": \"\",\n        \"description\": \"\"\n      }\n    }\n  ]\n}"
            }
          },
          "metadata": {},
          "execution_count": 13
        }
      ],
      "source": [
        "data_cleaned.describe()"
      ]
    },
    {
      "cell_type": "code",
      "execution_count": 14,
      "metadata": {
        "colab": {
          "base_uri": "https://localhost:8080/"
        },
        "id": "0xMdoDKRDidG",
        "outputId": "ad95c76e-1a78-4350-87cb-7b863fc03d5e"
      },
      "outputs": [
        {
          "output_type": "execute_result",
          "data": {
            "text/plain": [
              "array(['U.S. NEWS', 'COMEDY', 'PARENTING', 'WORLD NEWS', 'CULTURE & ARTS',\n",
              "       'TECH', 'SPORTS', 'ENTERTAINMENT', 'POLITICS', 'WEIRD NEWS',\n",
              "       'ENVIRONMENT', 'EDUCATION', 'CRIME', 'SCIENCE', 'WELLNESS',\n",
              "       'BUSINESS', 'STYLE & BEAUTY', 'FOOD & DRINK', 'MEDIA',\n",
              "       'QUEER VOICES', 'HOME & LIVING', 'WOMEN', 'BLACK VOICES', 'TRAVEL',\n",
              "       'MONEY', 'RELIGION', 'LATINO VOICES', 'IMPACT', 'WEDDINGS',\n",
              "       'COLLEGE', 'PARENTS', 'ARTS & CULTURE', 'STYLE', 'GREEN', 'TASTE',\n",
              "       'HEALTHY LIVING', 'THE WORLDPOST', 'GOOD NEWS', 'WORLDPOST',\n",
              "       'FIFTY', 'ARTS', 'DIVORCE'], dtype=object)"
            ]
          },
          "metadata": {},
          "execution_count": 14
        }
      ],
      "source": [
        "# show all the categories\n",
        "data_cleaned['category'].unique()"
      ]
    },
    {
      "cell_type": "code",
      "execution_count": 15,
      "metadata": {
        "colab": {
          "base_uri": "https://localhost:8080/",
          "height": 424
        },
        "id": "kp7a4L-tDidG",
        "outputId": "dfb7073d-033a-43fe-c971-4039165361de"
      },
      "outputs": [
        {
          "output_type": "execute_result",
          "data": {
            "text/plain": [
              "                                                 headline category  \\\n",
              "16173   It's Weird That American Restaurants Serve Ice...    TASTE   \n",
              "16242   Pineapple Casserole, The Southern Dish That's ...    TASTE   \n",
              "16516         How To Actually Get A Bartender's Attention    TASTE   \n",
              "16599   Diet Coke's Millennial-Inspired Makeover Leave...    TASTE   \n",
              "16776   We Tested The New 'Tearless' Onions To See If ...    TASTE   \n",
              "...                                                   ...      ...   \n",
              "133523  The Most Bizarre Canned Foods From Around The ...    TASTE   \n",
              "133595  The Answers To Every Question You've Never Ask...    TASTE   \n",
              "133602            Margarita Fanatics, We've Got Your Swag    TASTE   \n",
              "133635                              Easter Cheese Crescia    TASTE   \n",
              "133659                      Five Tips For Cooking For One    TASTE   \n",
              "\n",
              "                                        short_description  \n",
              "16173   But why do we even have ice in our drinks in t...  \n",
              "16242   It's got pineapple, cheddar and a whole lot of...  \n",
              "16516               Plus other things they wish you knew.  \n",
              "16599     It's not like a regular soda, it's a cool soda.  \n",
              "16776                      Put away your goggles, people.  \n",
              "...                                                   ...  \n",
              "133523  There are plenty of foods that have no busines...  \n",
              "133595                       Do you love 'em or hate 'em?  \n",
              "133602  If Jimmy Buffet's Margaritaville is your happy...  \n",
              "133635  I collected this recipe from scraps found in m...  \n",
              "133659  I often hear people describe cooking for one a...  \n",
              "\n",
              "[1940 rows x 3 columns]"
            ],
            "text/html": [
              "\n",
              "  <div id=\"df-ec1af2e0-387b-4853-a701-b1b87f17d776\" class=\"colab-df-container\">\n",
              "    <div>\n",
              "<style scoped>\n",
              "    .dataframe tbody tr th:only-of-type {\n",
              "        vertical-align: middle;\n",
              "    }\n",
              "\n",
              "    .dataframe tbody tr th {\n",
              "        vertical-align: top;\n",
              "    }\n",
              "\n",
              "    .dataframe thead th {\n",
              "        text-align: right;\n",
              "    }\n",
              "</style>\n",
              "<table border=\"1\" class=\"dataframe\">\n",
              "  <thead>\n",
              "    <tr style=\"text-align: right;\">\n",
              "      <th></th>\n",
              "      <th>headline</th>\n",
              "      <th>category</th>\n",
              "      <th>short_description</th>\n",
              "    </tr>\n",
              "  </thead>\n",
              "  <tbody>\n",
              "    <tr>\n",
              "      <th>16173</th>\n",
              "      <td>It's Weird That American Restaurants Serve Ice...</td>\n",
              "      <td>TASTE</td>\n",
              "      <td>But why do we even have ice in our drinks in t...</td>\n",
              "    </tr>\n",
              "    <tr>\n",
              "      <th>16242</th>\n",
              "      <td>Pineapple Casserole, The Southern Dish That's ...</td>\n",
              "      <td>TASTE</td>\n",
              "      <td>It's got pineapple, cheddar and a whole lot of...</td>\n",
              "    </tr>\n",
              "    <tr>\n",
              "      <th>16516</th>\n",
              "      <td>How To Actually Get A Bartender's Attention</td>\n",
              "      <td>TASTE</td>\n",
              "      <td>Plus other things they wish you knew.</td>\n",
              "    </tr>\n",
              "    <tr>\n",
              "      <th>16599</th>\n",
              "      <td>Diet Coke's Millennial-Inspired Makeover Leave...</td>\n",
              "      <td>TASTE</td>\n",
              "      <td>It's not like a regular soda, it's a cool soda.</td>\n",
              "    </tr>\n",
              "    <tr>\n",
              "      <th>16776</th>\n",
              "      <td>We Tested The New 'Tearless' Onions To See If ...</td>\n",
              "      <td>TASTE</td>\n",
              "      <td>Put away your goggles, people.</td>\n",
              "    </tr>\n",
              "    <tr>\n",
              "      <th>...</th>\n",
              "      <td>...</td>\n",
              "      <td>...</td>\n",
              "      <td>...</td>\n",
              "    </tr>\n",
              "    <tr>\n",
              "      <th>133523</th>\n",
              "      <td>The Most Bizarre Canned Foods From Around The ...</td>\n",
              "      <td>TASTE</td>\n",
              "      <td>There are plenty of foods that have no busines...</td>\n",
              "    </tr>\n",
              "    <tr>\n",
              "      <th>133595</th>\n",
              "      <td>The Answers To Every Question You've Never Ask...</td>\n",
              "      <td>TASTE</td>\n",
              "      <td>Do you love 'em or hate 'em?</td>\n",
              "    </tr>\n",
              "    <tr>\n",
              "      <th>133602</th>\n",
              "      <td>Margarita Fanatics, We've Got Your Swag</td>\n",
              "      <td>TASTE</td>\n",
              "      <td>If Jimmy Buffet's Margaritaville is your happy...</td>\n",
              "    </tr>\n",
              "    <tr>\n",
              "      <th>133635</th>\n",
              "      <td>Easter Cheese Crescia</td>\n",
              "      <td>TASTE</td>\n",
              "      <td>I collected this recipe from scraps found in m...</td>\n",
              "    </tr>\n",
              "    <tr>\n",
              "      <th>133659</th>\n",
              "      <td>Five Tips For Cooking For One</td>\n",
              "      <td>TASTE</td>\n",
              "      <td>I often hear people describe cooking for one a...</td>\n",
              "    </tr>\n",
              "  </tbody>\n",
              "</table>\n",
              "<p>1940 rows × 3 columns</p>\n",
              "</div>\n",
              "    <div class=\"colab-df-buttons\">\n",
              "\n",
              "  <div class=\"colab-df-container\">\n",
              "    <button class=\"colab-df-convert\" onclick=\"convertToInteractive('df-ec1af2e0-387b-4853-a701-b1b87f17d776')\"\n",
              "            title=\"Convert this dataframe to an interactive table.\"\n",
              "            style=\"display:none;\">\n",
              "\n",
              "  <svg xmlns=\"http://www.w3.org/2000/svg\" height=\"24px\" viewBox=\"0 -960 960 960\">\n",
              "    <path d=\"M120-120v-720h720v720H120Zm60-500h600v-160H180v160Zm220 220h160v-160H400v160Zm0 220h160v-160H400v160ZM180-400h160v-160H180v160Zm440 0h160v-160H620v160ZM180-180h160v-160H180v160Zm440 0h160v-160H620v160Z\"/>\n",
              "  </svg>\n",
              "    </button>\n",
              "\n",
              "  <style>\n",
              "    .colab-df-container {\n",
              "      display:flex;\n",
              "      gap: 12px;\n",
              "    }\n",
              "\n",
              "    .colab-df-convert {\n",
              "      background-color: #E8F0FE;\n",
              "      border: none;\n",
              "      border-radius: 50%;\n",
              "      cursor: pointer;\n",
              "      display: none;\n",
              "      fill: #1967D2;\n",
              "      height: 32px;\n",
              "      padding: 0 0 0 0;\n",
              "      width: 32px;\n",
              "    }\n",
              "\n",
              "    .colab-df-convert:hover {\n",
              "      background-color: #E2EBFA;\n",
              "      box-shadow: 0px 1px 2px rgba(60, 64, 67, 0.3), 0px 1px 3px 1px rgba(60, 64, 67, 0.15);\n",
              "      fill: #174EA6;\n",
              "    }\n",
              "\n",
              "    .colab-df-buttons div {\n",
              "      margin-bottom: 4px;\n",
              "    }\n",
              "\n",
              "    [theme=dark] .colab-df-convert {\n",
              "      background-color: #3B4455;\n",
              "      fill: #D2E3FC;\n",
              "    }\n",
              "\n",
              "    [theme=dark] .colab-df-convert:hover {\n",
              "      background-color: #434B5C;\n",
              "      box-shadow: 0px 1px 3px 1px rgba(0, 0, 0, 0.15);\n",
              "      filter: drop-shadow(0px 1px 2px rgba(0, 0, 0, 0.3));\n",
              "      fill: #FFFFFF;\n",
              "    }\n",
              "  </style>\n",
              "\n",
              "    <script>\n",
              "      const buttonEl =\n",
              "        document.querySelector('#df-ec1af2e0-387b-4853-a701-b1b87f17d776 button.colab-df-convert');\n",
              "      buttonEl.style.display =\n",
              "        google.colab.kernel.accessAllowed ? 'block' : 'none';\n",
              "\n",
              "      async function convertToInteractive(key) {\n",
              "        const element = document.querySelector('#df-ec1af2e0-387b-4853-a701-b1b87f17d776');\n",
              "        const dataTable =\n",
              "          await google.colab.kernel.invokeFunction('convertToInteractive',\n",
              "                                                    [key], {});\n",
              "        if (!dataTable) return;\n",
              "\n",
              "        const docLinkHtml = 'Like what you see? Visit the ' +\n",
              "          '<a target=\"_blank\" href=https://colab.research.google.com/notebooks/data_table.ipynb>data table notebook</a>'\n",
              "          + ' to learn more about interactive tables.';\n",
              "        element.innerHTML = '';\n",
              "        dataTable['output_type'] = 'display_data';\n",
              "        await google.colab.output.renderOutput(dataTable, element);\n",
              "        const docLink = document.createElement('div');\n",
              "        docLink.innerHTML = docLinkHtml;\n",
              "        element.appendChild(docLink);\n",
              "      }\n",
              "    </script>\n",
              "  </div>\n",
              "\n",
              "\n",
              "<div id=\"df-f886a798-9903-421c-a544-c5c91e1a5b56\">\n",
              "  <button class=\"colab-df-quickchart\" onclick=\"quickchart('df-f886a798-9903-421c-a544-c5c91e1a5b56')\"\n",
              "            title=\"Suggest charts\"\n",
              "            style=\"display:none;\">\n",
              "\n",
              "<svg xmlns=\"http://www.w3.org/2000/svg\" height=\"24px\"viewBox=\"0 0 24 24\"\n",
              "     width=\"24px\">\n",
              "    <g>\n",
              "        <path d=\"M19 3H5c-1.1 0-2 .9-2 2v14c0 1.1.9 2 2 2h14c1.1 0 2-.9 2-2V5c0-1.1-.9-2-2-2zM9 17H7v-7h2v7zm4 0h-2V7h2v10zm4 0h-2v-4h2v4z\"/>\n",
              "    </g>\n",
              "</svg>\n",
              "  </button>\n",
              "\n",
              "<style>\n",
              "  .colab-df-quickchart {\n",
              "      --bg-color: #E8F0FE;\n",
              "      --fill-color: #1967D2;\n",
              "      --hover-bg-color: #E2EBFA;\n",
              "      --hover-fill-color: #174EA6;\n",
              "      --disabled-fill-color: #AAA;\n",
              "      --disabled-bg-color: #DDD;\n",
              "  }\n",
              "\n",
              "  [theme=dark] .colab-df-quickchart {\n",
              "      --bg-color: #3B4455;\n",
              "      --fill-color: #D2E3FC;\n",
              "      --hover-bg-color: #434B5C;\n",
              "      --hover-fill-color: #FFFFFF;\n",
              "      --disabled-bg-color: #3B4455;\n",
              "      --disabled-fill-color: #666;\n",
              "  }\n",
              "\n",
              "  .colab-df-quickchart {\n",
              "    background-color: var(--bg-color);\n",
              "    border: none;\n",
              "    border-radius: 50%;\n",
              "    cursor: pointer;\n",
              "    display: none;\n",
              "    fill: var(--fill-color);\n",
              "    height: 32px;\n",
              "    padding: 0;\n",
              "    width: 32px;\n",
              "  }\n",
              "\n",
              "  .colab-df-quickchart:hover {\n",
              "    background-color: var(--hover-bg-color);\n",
              "    box-shadow: 0 1px 2px rgba(60, 64, 67, 0.3), 0 1px 3px 1px rgba(60, 64, 67, 0.15);\n",
              "    fill: var(--button-hover-fill-color);\n",
              "  }\n",
              "\n",
              "  .colab-df-quickchart-complete:disabled,\n",
              "  .colab-df-quickchart-complete:disabled:hover {\n",
              "    background-color: var(--disabled-bg-color);\n",
              "    fill: var(--disabled-fill-color);\n",
              "    box-shadow: none;\n",
              "  }\n",
              "\n",
              "  .colab-df-spinner {\n",
              "    border: 2px solid var(--fill-color);\n",
              "    border-color: transparent;\n",
              "    border-bottom-color: var(--fill-color);\n",
              "    animation:\n",
              "      spin 1s steps(1) infinite;\n",
              "  }\n",
              "\n",
              "  @keyframes spin {\n",
              "    0% {\n",
              "      border-color: transparent;\n",
              "      border-bottom-color: var(--fill-color);\n",
              "      border-left-color: var(--fill-color);\n",
              "    }\n",
              "    20% {\n",
              "      border-color: transparent;\n",
              "      border-left-color: var(--fill-color);\n",
              "      border-top-color: var(--fill-color);\n",
              "    }\n",
              "    30% {\n",
              "      border-color: transparent;\n",
              "      border-left-color: var(--fill-color);\n",
              "      border-top-color: var(--fill-color);\n",
              "      border-right-color: var(--fill-color);\n",
              "    }\n",
              "    40% {\n",
              "      border-color: transparent;\n",
              "      border-right-color: var(--fill-color);\n",
              "      border-top-color: var(--fill-color);\n",
              "    }\n",
              "    60% {\n",
              "      border-color: transparent;\n",
              "      border-right-color: var(--fill-color);\n",
              "    }\n",
              "    80% {\n",
              "      border-color: transparent;\n",
              "      border-right-color: var(--fill-color);\n",
              "      border-bottom-color: var(--fill-color);\n",
              "    }\n",
              "    90% {\n",
              "      border-color: transparent;\n",
              "      border-bottom-color: var(--fill-color);\n",
              "    }\n",
              "  }\n",
              "</style>\n",
              "\n",
              "  <script>\n",
              "    async function quickchart(key) {\n",
              "      const quickchartButtonEl =\n",
              "        document.querySelector('#' + key + ' button');\n",
              "      quickchartButtonEl.disabled = true;  // To prevent multiple clicks.\n",
              "      quickchartButtonEl.classList.add('colab-df-spinner');\n",
              "      try {\n",
              "        const charts = await google.colab.kernel.invokeFunction(\n",
              "            'suggestCharts', [key], {});\n",
              "      } catch (error) {\n",
              "        console.error('Error during call to suggestCharts:', error);\n",
              "      }\n",
              "      quickchartButtonEl.classList.remove('colab-df-spinner');\n",
              "      quickchartButtonEl.classList.add('colab-df-quickchart-complete');\n",
              "    }\n",
              "    (() => {\n",
              "      let quickchartButtonEl =\n",
              "        document.querySelector('#df-f886a798-9903-421c-a544-c5c91e1a5b56 button');\n",
              "      quickchartButtonEl.style.display =\n",
              "        google.colab.kernel.accessAllowed ? 'block' : 'none';\n",
              "    })();\n",
              "  </script>\n",
              "</div>\n",
              "    </div>\n",
              "  </div>\n"
            ],
            "application/vnd.google.colaboratory.intrinsic+json": {
              "type": "dataframe",
              "summary": "{\n  \"name\": \"data_cleaned\",\n  \"rows\": 1940,\n  \"fields\": [\n    {\n      \"column\": \"headline\",\n      \"properties\": {\n        \"dtype\": \"string\",\n        \"num_unique_values\": 1940,\n        \"samples\": [\n          \"A Guide To How Much Butter Is In Your Favorite Baked Goods\",\n          \"All About Dulce De Leche -- And How To Make It\",\n          \"The Best Food Processors, According To Amazon Reviewers\"\n        ],\n        \"semantic_type\": \"\",\n        \"description\": \"\"\n      }\n    },\n    {\n      \"column\": \"category\",\n      \"properties\": {\n        \"dtype\": \"category\",\n        \"num_unique_values\": 1,\n        \"samples\": [\n          \"TASTE\"\n        ],\n        \"semantic_type\": \"\",\n        \"description\": \"\"\n      }\n    },\n    {\n      \"column\": \"short_description\",\n      \"properties\": {\n        \"dtype\": \"string\",\n        \"num_unique_values\": 1927,\n        \"samples\": [\n          \"Pour out some beer for spots that opened up the doors and let you out into the world... forever.\"\n        ],\n        \"semantic_type\": \"\",\n        \"description\": \"\"\n      }\n    }\n  ]\n}"
            }
          },
          "metadata": {},
          "execution_count": 15
        }
      ],
      "source": [
        "# show category 'TASTE'\n",
        "data_cleaned.loc[data_cleaned['category'] == 'TASTE']"
      ]
    },
    {
      "cell_type": "code",
      "execution_count": 16,
      "metadata": {
        "id": "2BIWJP9nDidH"
      },
      "outputs": [],
      "source": [
        "# chnage name of categories ['WELLNESS', 'HEALTHY LIVING','HOME & LIVING','STYLE & BEAUTY' ,'STYLE'] to 'LIFESTYLE AND WELLNESS'\n",
        "data_cleaned['category'] = data_cleaned['category'].replace(['WELLNESS', 'HEALTHY LIVING','HOME & LIVING','STYLE & BEAUTY' ,'STYLE'], 'LIFESTYLE AND WELLNESS')"
      ]
    },
    {
      "cell_type": "code",
      "execution_count": 17,
      "metadata": {
        "id": "5GM-ITH0DidH"
      },
      "outputs": [],
      "source": [
        "# change name of categories ['PARENTING', 'PARENTS' ,'EDUCATION' ,'COLLEGE'] to 'PARENTING AND EDUCATION'\n",
        "data_cleaned['category'] = data_cleaned['category'].replace(['PARENTING', 'PARENTS' ,'EDUCATION' ,'COLLEGE'], 'PARENTING AND EDUCATION')"
      ]
    },
    {
      "cell_type": "code",
      "source": [
        "# change name of categories ['SPORTS', 'ENTERTAINMENT', 'COMEDY', 'ARTS'] to 'SPORTS AND ENTERTAINMENT'\n",
        "data_cleaned['category'] = data_cleaned['category'].replace(['SPORTS', 'ENTERTAINMENT', 'COMEDY', 'ARTS'], 'SPORTS AND ENTERTAINMENT')"
      ],
      "metadata": {
        "id": "ke-BvfwQFade"
      },
      "execution_count": 18,
      "outputs": []
    },
    {
      "cell_type": "code",
      "source": [
        "# change name of categories ['ENTERTAINMENT', 'COMEDY', 'ARTS'] to 'ENTERTAINMENT'\n",
        "data_cleaned['category'] = data_cleaned['category'].replace(['ENTERTAINMENT', 'COMEDY', 'ARTS'], 'ENTERTAINMENT')"
      ],
      "metadata": {
        "id": "IB4Sgb1OHaWP"
      },
      "execution_count": 19,
      "outputs": []
    },
    {
      "cell_type": "code",
      "source": [
        "# change name of categories ['TRAVEL', 'ARTS & CULTURE','CULTURE & ARTS'] to 'TRAVEL AND ART & CULTURE'\n",
        "data_cleaned['category'] = data_cleaned['category'].replace(['TRAVEL', 'ARTS & CULTURE','CULTURE & ARTS'], 'TRAVEL AND ART & CULTURE')"
      ],
      "metadata": {
        "id": "vMURZGmjGtjw"
      },
      "execution_count": 20,
      "outputs": []
    },
    {
      "cell_type": "code",
      "source": [
        "# change name of categories ['FOOD & DRINK', 'TASTE'] to 'FOOD & DRINK'\n",
        "data_cleaned['category'] = data_cleaned['category'].replace(['FOOD & DRINK', 'TASTE'], 'FOOD & DRINK')"
      ],
      "metadata": {
        "id": "nXTwzEtoG6nx"
      },
      "execution_count": 21,
      "outputs": []
    },
    {
      "cell_type": "code",
      "source": [
        "# change name of categories ['WOMEN','QUEER VOICES', 'LATINO VOICES', 'BLACK VOICES'] to 'EMPOWERED VOICES'\n",
        "data_cleaned['category'] = data_cleaned['category'].replace(['WOMEN','QUEER VOICES', 'LATINO VOICES', 'BLACK VOICES'], 'EMPOWERED VOICES')"
      ],
      "metadata": {
        "id": "Hdt1lJqAIC1s"
      },
      "execution_count": 22,
      "outputs": []
    },
    {
      "cell_type": "code",
      "source": [
        "# change name of categories ['BUSINESS', 'MONEY'] to 'BUSINESS'\n",
        "data_cleaned['category'] = data_cleaned['category'].replace(['BUSINESS', 'MONEY'], 'BUSINESS')"
      ],
      "metadata": {
        "id": "TD5Jn7J3H6kw"
      },
      "execution_count": 23,
      "outputs": []
    },
    {
      "cell_type": "code",
      "source": [
        "# change name of categories ['THE WORLDPOST', 'WORLDPOST', 'WORLD NEWS'] to 'WORLD NEWS'\n",
        "data_cleaned['category'] = data_cleaned['category'].replace(['THE WORLDPOST', 'WORLDPOST', 'WORLD NEWS'], 'WORLD NEWS')"
      ],
      "metadata": {
        "id": "6X_o57XpICjQ"
      },
      "execution_count": 24,
      "outputs": []
    },
    {
      "cell_type": "code",
      "source": [
        "# change name of categories ['ENVIRONMENT','GREEN'] to 'ENVIRONMENT'\n",
        "data_cleaned['category'] = data_cleaned['category'].replace(['ENVIRONMENT', 'GREEN'], 'ENVIRONMENT')"
      ],
      "metadata": {
        "id": "9N3QMNiJJC3l"
      },
      "execution_count": 25,
      "outputs": []
    },
    {
      "cell_type": "code",
      "source": [
        "# change name of categories ['TECH', 'SCIENCE'] to 'SCIENCE AND TECH'\n",
        "data_cleaned['category'] = data_cleaned['category'].replace(['TECH', 'SCIENCE'], 'SCIENCE AND TECH')"
      ],
      "metadata": {
        "id": "ZxRqZoZqJDOn"
      },
      "execution_count": 26,
      "outputs": []
    },
    {
      "cell_type": "code",
      "source": [
        "# change name of categories ['FIFTY', 'IMPACT' ,'GOOD NEWS', 'CRIME', 'U.S. NEWS'] to 'GENERAL'\n",
        "data_cleaned['category'] = data_cleaned['category'].replace(['FIFTY', 'IMPACT' ,'GOOD NEWS', 'CRIME', 'U.S. NEWS'], 'GENERAL')"
      ],
      "metadata": {
        "id": "EniDu41UKJJ5"
      },
      "execution_count": 30,
      "outputs": []
    },
    {
      "cell_type": "code",
      "source": [
        "# change name of categories ['WEDDINGS', 'DIVORCE', 'RELIGION', 'MEDIA', 'WEIRD NEWS'] to 'MISC'\n",
        "data_cleaned['category'] = data_cleaned['category'].replace(['WEDDINGS', 'DIVORCE', 'RELIGION', 'MEDIA', 'WEIRD NEWS'], 'MISC')"
      ],
      "metadata": {
        "id": "OVe0_4VOFxse"
      },
      "execution_count": 28,
      "outputs": []
    },
    {
      "cell_type": "code",
      "execution_count": 31,
      "metadata": {
        "colab": {
          "base_uri": "https://localhost:8080/"
        },
        "id": "GfzPJriGDidI",
        "outputId": "7e3f434f-a14e-4b80-9a21-4e9f4a42a9ec"
      },
      "outputs": [
        {
          "output_type": "execute_result",
          "data": {
            "text/plain": [
              "array(['GENERAL', 'SPORTS AND ENTERTAINMENT', 'PARENTING AND EDUCATION',\n",
              "       'WORLD NEWS', 'TRAVEL AND ART & CULTURE', 'SCIENCE AND TECH',\n",
              "       'POLITICS', 'MISC', 'ENVIRONMENT', 'LIFESTYLE AND WELLNESS',\n",
              "       'BUSINESS', 'FOOD & DRINK', 'EMPOWERED VOICES'], dtype=object)"
            ]
          },
          "metadata": {},
          "execution_count": 31
        }
      ],
      "source": [
        "data_cleaned['category'].unique()"
      ]
    },
    {
      "cell_type": "code",
      "execution_count": 32,
      "metadata": {
        "colab": {
          "base_uri": "https://localhost:8080/"
        },
        "id": "GTeLVVavDidI",
        "outputId": "9c0d494a-6b71-4335-e389-e33c4bbc5fa2"
      },
      "outputs": [
        {
          "output_type": "execute_result",
          "data": {
            "text/plain": [
              "category\n",
              "LIFESTYLE AND WELLNESS      38894\n",
              "POLITICS                    32441\n",
              "SPORTS AND ENTERTAINMENT    24693\n",
              "PARENTING AND EDUCATION     14169\n",
              "EMPOWERED VOICES            13986\n",
              "MISC                        13677\n",
              "TRAVEL AND ART & CULTURE    11823\n",
              "GENERAL                      9376\n",
              "FOOD & DRINK                 8271\n",
              "WORLD NEWS                   8203\n",
              "BUSINESS                     6887\n",
              "SCIENCE AND TECH             3906\n",
              "ENVIRONMENT                  3488\n",
              "Name: count, dtype: int64"
            ]
          },
          "metadata": {},
          "execution_count": 32
        }
      ],
      "source": [
        "# show how many articles are in each category\n",
        "data_cleaned['category'].value_counts()"
      ]
    },
    {
      "cell_type": "code",
      "execution_count": 33,
      "metadata": {
        "id": "gbYg5tjJDidJ"
      },
      "outputs": [],
      "source": [
        "#Selecting only the first 3488 rows of each category for training\n",
        "data_train = data_cleaned.groupby('category').head(3488)"
      ]
    },
    {
      "cell_type": "code",
      "execution_count": 34,
      "metadata": {
        "id": "qdM4Qt2aDidJ"
      },
      "outputs": [],
      "source": [
        "# create the training tests ('headline and short_description') and labels('category')\n",
        "data_texts = data_train['headline'] + \" \" + data_train['short_description']\n",
        "data_labels = data_train['category']\n"
      ]
    },
    {
      "cell_type": "markdown",
      "metadata": {
        "id": "reFFpEGNDidJ"
      },
      "source": [
        "## Collect Key Metrics"
      ]
    },
    {
      "cell_type": "code",
      "source": [
        "# list of each unique category in the data_labels and code it to a numbers (as a list)\n",
        "labels = data_labels.unique().tolist()\n",
        "labels = [i for i in range(len(labels))]"
      ],
      "metadata": {
        "id": "2QOzChC6N82m"
      },
      "execution_count": 36,
      "outputs": []
    },
    {
      "cell_type": "code",
      "source": [
        "# number of classes\n",
        "def get_num_classes(labels):\n",
        "    \"\"\"Gets the total number of classes.\n",
        "\n",
        "    # Arguments\n",
        "        labels: list, label values.\n",
        "            There should be at lease one sample for values in the\n",
        "            range (0, num_classes -1)\n",
        "\n",
        "    # Returns\n",
        "        int, total number of classes.\n",
        "\n",
        "    # Raises\n",
        "        ValueError: if any label value in the range(0, num_classes - 1)\n",
        "            is missing or if number of classes is <= 1.\n",
        "    \"\"\"\n",
        "    num_classes = max(labels) + 1\n",
        "    missing_classes = [i for i in range(num_classes) if i not in labels]\n",
        "    if len(missing_classes):\n",
        "        raise ValueError('Missing samples with label value(s) '\n",
        "                         '{missing_classes}. Please make sure you have '\n",
        "                         'at least one sample for every label value '\n",
        "                         'in the range(0, {max_class})'.format(\n",
        "                            missing_classes=missing_classes,\n",
        "                            max_class=num_classes - 1))\n",
        "\n",
        "    if num_classes <= 1:\n",
        "        raise ValueError('Invalid number of labels: {num_classes}.'\n",
        "                         'Please make sure there are at least two classes '\n",
        "                         'of samples'.format(num_classes=num_classes))\n",
        "    return num_classes"
      ],
      "metadata": {
        "id": "-nUpHdU4OAMI"
      },
      "execution_count": 37,
      "outputs": []
    },
    {
      "cell_type": "code",
      "source": [
        "get_num_classes(labels)"
      ],
      "metadata": {
        "colab": {
          "base_uri": "https://localhost:8080/"
        },
        "id": "M4Qr1ybBOBrp",
        "outputId": "f26ca1b0-3c5f-4e49-ca36-a6f85869421d"
      },
      "execution_count": 38,
      "outputs": [
        {
          "output_type": "execute_result",
          "data": {
            "text/plain": [
              "13"
            ]
          },
          "metadata": {},
          "execution_count": 38
        }
      ]
    },
    {
      "cell_type": "code",
      "source": [
        "# number of samples per class\n",
        "def get_samples_per_class(labels):\n",
        "\t\"\"\"Gets the number of samples per class.\n",
        "\n",
        "\t# Arguments\n",
        "\t\tlabels: list, label values.\n",
        "\n",
        "\t# Returns\n",
        "\t\tdict, map from class index to the number of samples in each class.\n",
        "\t\"\"\"\n",
        "\tsamples_per_class = {}\n",
        "\tfor label in labels:\n",
        "\t\tif label not in samples_per_class:\n",
        "\t\t\tsamples_per_class[label] = 0\n",
        "\t\tsamples_per_class[label] += 1\n",
        "\treturn samples_per_class"
      ],
      "metadata": {
        "id": "I3f37j-IJLdK"
      },
      "execution_count": 39,
      "outputs": []
    },
    {
      "cell_type": "code",
      "source": [
        "get_samples_per_class(data_labels)"
      ],
      "metadata": {
        "colab": {
          "base_uri": "https://localhost:8080/"
        },
        "id": "iIanPy7uJOZa",
        "outputId": "057e8ae3-7e9b-4840-9832-b5971106ca9a"
      },
      "execution_count": 40,
      "outputs": [
        {
          "output_type": "execute_result",
          "data": {
            "text/plain": [
              "{'GENERAL': 3488,\n",
              " 'SPORTS AND ENTERTAINMENT': 3488,\n",
              " 'PARENTING AND EDUCATION': 3488,\n",
              " 'WORLD NEWS': 3488,\n",
              " 'TRAVEL AND ART & CULTURE': 3488,\n",
              " 'SCIENCE AND TECH': 3488,\n",
              " 'POLITICS': 3488,\n",
              " 'MISC': 3488,\n",
              " 'ENVIRONMENT': 3488,\n",
              " 'LIFESTYLE AND WELLNESS': 3488,\n",
              " 'BUSINESS': 3488,\n",
              " 'FOOD & DRINK': 3488,\n",
              " 'EMPOWERED VOICES': 3488}"
            ]
          },
          "metadata": {},
          "execution_count": 40
        }
      ]
    },
    {
      "cell_type": "code",
      "source": [
        "# number of words per sample\n",
        "def get_num_words_per_sample(sample_texts):\n",
        "    \"\"\"Gets the median number of words per sample given corpus.\n",
        "\n",
        "    # Arguments\n",
        "        sample_texts: list, sample texts.\n",
        "\n",
        "    # Returns\n",
        "        int, median number of words per sample.\n",
        "    \"\"\"\n",
        "    num_words = [len(s.split()) for s in sample_texts]\n",
        "    return np.median(num_words)"
      ],
      "metadata": {
        "id": "MyhA5U4PNlkD"
      },
      "execution_count": 41,
      "outputs": []
    },
    {
      "cell_type": "code",
      "source": [
        "get_num_words_per_sample(data_texts)"
      ],
      "metadata": {
        "colab": {
          "base_uri": "https://localhost:8080/"
        },
        "id": "OxOfRiJANotI",
        "outputId": "c28f7776-994b-4a68-edae-e8e54bb45616"
      },
      "execution_count": 42,
      "outputs": [
        {
          "output_type": "execute_result",
          "data": {
            "text/plain": [
              "27.0"
            ]
          },
          "metadata": {},
          "execution_count": 42
        }
      ]
    },
    {
      "cell_type": "code",
      "source": [
        "# distribution of sample length\n",
        "def plot_sample_length_distribution(sample_texts):\n",
        "    \"\"\"Plots the sample length distribution.\n",
        "\n",
        "    # Arguments\n",
        "        samples_texts: list, sample texts.\n",
        "    \"\"\"\n",
        "    plt.hist([len(s) for s in sample_texts], 50)\n",
        "    plt.xlabel('Length of a sample')\n",
        "    plt.ylabel('Number of samples')\n",
        "    plt.title('Sample length distribution')\n",
        "    plt.show()"
      ],
      "metadata": {
        "id": "IsbwV-wpJSCb"
      },
      "execution_count": 43,
      "outputs": []
    },
    {
      "cell_type": "code",
      "source": [
        "plot_sample_length_distribution(data_texts)"
      ],
      "metadata": {
        "colab": {
          "base_uri": "https://localhost:8080/",
          "height": 472
        },
        "id": "3WfvjTPvJTY0",
        "outputId": "d7afaebb-f721-4b36-e9ef-cc4141d4607e"
      },
      "execution_count": 44,
      "outputs": [
        {
          "output_type": "display_data",
          "data": {
            "text/plain": [
              "<Figure size 640x480 with 1 Axes>"
            ],
            "image/png": "[encoded data removed]"
          },
          "metadata": {}
        }
      ]
    },
    {
      "cell_type": "code",
      "source": [
        "# calculate ratio between the samples/words-per-sample\n",
        "len(data_texts) / get_num_words_per_sample(data_texts)"
      ],
      "metadata": {
        "colab": {
          "base_uri": "https://localhost:8080/"
        },
        "id": "BI3iRujWJVEc",
        "outputId": "baca9a09-56ff-4303-b661-a49ada2a9dcb"
      },
      "execution_count": 45,
      "outputs": [
        {
          "output_type": "execute_result",
          "data": {
            "text/plain": [
              "1679.4074074074074"
            ]
          },
          "metadata": {},
          "execution_count": 45
        }
      ]
    },
    {
      "cell_type": "markdown",
      "source": [
        "## Export Data"
      ],
      "metadata": {
        "id": "c1m3v5wSOUgD"
      }
    },
    {
      "cell_type": "code",
      "source": [
        "data_texts.to_csv('data_texts.csv', index=False)\n",
        "data_labels.to_csv('data_labels.csv', index=False)"
      ],
      "metadata": {
        "id": "R-OjTzhMOX0K"
      },
      "execution_count": 46,
      "outputs": []
    }
  ],
  "metadata": {
    "kernelspec": {
      "display_name": "Python 3",
      "name": "python3"
    },
    "language_info": {
      "codemirror_mode": {
        "name": "ipython",
        "version": 3
      },
      "file_extension": ".py",
      "mimetype": "text/x-python",
      "name": "python",
      "nbconvert_exporter": "python",
      "pygments_lexer": "ipython3",
      "version": "3.10.14"
    },
    "colab": {
      "provenance": [],
      "machine_shape": "hm",
      "gpuType": "T4"
    },
    "accelerator": "GPU"
  },
  "nbformat": 4,
  "nbformat_minor": 0
}