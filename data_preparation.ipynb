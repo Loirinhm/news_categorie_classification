{
  "cells": [
    {
      "cell_type": "markdown",
      "source": [
        "# Data Preparation"
      ],
      "metadata": {
        "id": "nG0Wj_0UIaBV"
      }
    },
    {
      "cell_type": "code",
      "execution_count": null,
      "metadata": {
        "id": "cxzQslEkDic7"
      },
      "outputs": [],
      "source": [
        "import pandas as pd"
      ]
    },
    {
      "cell_type": "code",
      "execution_count": null,
      "metadata": {
        "id": "5KQrF1fuDic9"
      },
      "outputs": [],
      "source": [
        "# Load the data\n",
        "data = pd.read_json('News_Category_Dataset_v3.json', lines=True)"
      ]
    },
    {
      "cell_type": "markdown",
      "metadata": {
        "id": "x_fH28bHDic_"
      },
      "source": [
        "## Explore data"
      ]
    },
    {
      "cell_type": "code",
      "execution_count": null,
      "metadata": {
        "id": "3Q0G-mgNDidA",
        "outputId": "0412c286-f309-4ced-db0e-347057313f72"
      },
      "outputs": [
        {
          "name": "stdout",
          "output_type": "stream",
          "text": [
            "<class 'pandas.core.frame.DataFrame'>\n",
            "RangeIndex: 209527 entries, 0 to 209526\n",
            "Data columns (total 6 columns):\n",
            " #   Column             Non-Null Count   Dtype         \n",
            "---  ------             --------------   -----         \n",
            " 0   link               209527 non-null  object        \n",
            " 1   headline           209527 non-null  object        \n",
            " 2   category           209527 non-null  object        \n",
            " 3   short_description  209527 non-null  object        \n",
            " 4   authors            209527 non-null  object        \n",
            " 5   date               209527 non-null  datetime64[ns]\n",
            "dtypes: datetime64[ns](1), object(5)\n",
            "memory usage: 9.6+ MB\n"
          ]
        }
      ],
      "source": [
        "data.info()"
      ]
    },
    {
      "cell_type": "code",
      "execution_count": null,
      "metadata": {
        "id": "jkYMwAJSDidB",
        "outputId": "c7a8492a-d061-4a27-fe8b-c508fee2dd0b"
      },
      "outputs": [
        {
          "data": {
            "text/plain": [
              "array(['U.S. NEWS', 'COMEDY', 'PARENTING', 'WORLD NEWS', 'CULTURE & ARTS',\n",
              "       'TECH', 'SPORTS', 'ENTERTAINMENT', 'POLITICS', 'WEIRD NEWS',\n",
              "       'ENVIRONMENT', 'EDUCATION', 'CRIME', 'SCIENCE', 'WELLNESS',\n",
              "       'BUSINESS', 'STYLE & BEAUTY', 'FOOD & DRINK', 'MEDIA',\n",
              "       'QUEER VOICES', 'HOME & LIVING', 'WOMEN', 'BLACK VOICES', 'TRAVEL',\n",
              "       'MONEY', 'RELIGION', 'LATINO VOICES', 'IMPACT', 'WEDDINGS',\n",
              "       'COLLEGE', 'PARENTS', 'ARTS & CULTURE', 'STYLE', 'GREEN', 'TASTE',\n",
              "       'HEALTHY LIVING', 'THE WORLDPOST', 'GOOD NEWS', 'WORLDPOST',\n",
              "       'FIFTY', 'ARTS', 'DIVORCE'], dtype=object)"
            ]
          },
          "execution_count": 4,
          "metadata": {},
          "output_type": "execute_result"
        }
      ],
      "source": [
        "data['category'].unique()"
      ]
    },
    {
      "cell_type": "code",
      "execution_count": null,
      "metadata": {
        "id": "PIV9re7uDidB",
        "outputId": "db0afe19-e491-4ffd-b4ce-336eab7aa1a2"
      },
      "outputs": [
        {
          "data": {
            "text/html": [
              "<div>\n",
              "<style scoped>\n",
              "    .dataframe tbody tr th:only-of-type {\n",
              "        vertical-align: middle;\n",
              "    }\n",
              "\n",
              "    .dataframe tbody tr th {\n",
              "        vertical-align: top;\n",
              "    }\n",
              "\n",
              "    .dataframe thead th {\n",
              "        text-align: right;\n",
              "    }\n",
              "</style>\n",
              "<table border=\"1\" class=\"dataframe\">\n",
              "  <thead>\n",
              "    <tr style=\"text-align: right;\">\n",
              "      <th></th>\n",
              "      <th>link</th>\n",
              "      <th>headline</th>\n",
              "      <th>category</th>\n",
              "      <th>short_description</th>\n",
              "      <th>authors</th>\n",
              "      <th>date</th>\n",
              "    </tr>\n",
              "  </thead>\n",
              "  <tbody>\n",
              "    <tr>\n",
              "      <th>90944</th>\n",
              "      <td>https://www.huffingtonpost.com/entry/lincoln-2...</td>\n",
              "      <td></td>\n",
              "      <td>POLITICS</td>\n",
              "      <td></td>\n",
              "      <td>Robert Moran, ContributorRobert Moran leads Br...</td>\n",
              "      <td>2015-08-22</td>\n",
              "    </tr>\n",
              "    <tr>\n",
              "      <th>95567</th>\n",
              "      <td>https://www.huffingtonpost.com/entry/post_9671...</td>\n",
              "      <td></td>\n",
              "      <td>RELIGION</td>\n",
              "      <td>Let everyone not wrapped in tired and disprove...</td>\n",
              "      <td>Matthew Fox, ContributorRadical theologian Mat...</td>\n",
              "      <td>2015-06-30</td>\n",
              "    </tr>\n",
              "    <tr>\n",
              "      <th>103675</th>\n",
              "      <td>https://www.huffingtonpost.com/entry/us-and-eu...</td>\n",
              "      <td></td>\n",
              "      <td>WORLDPOST</td>\n",
              "      <td></td>\n",
              "      <td>Natasha Srdoc, ContributorAuthor, Economist, C...</td>\n",
              "      <td>2015-03-29</td>\n",
              "    </tr>\n",
              "    <tr>\n",
              "      <th>109100</th>\n",
              "      <td>https://www.huffingtonpost.com/entry/disney-ce...</td>\n",
              "      <td></td>\n",
              "      <td>BUSINESS</td>\n",
              "      <td></td>\n",
              "      <td>Gary Snyder, ContributorWriter and Media Strat...</td>\n",
              "      <td>2015-01-25</td>\n",
              "    </tr>\n",
              "    <tr>\n",
              "      <th>110153</th>\n",
              "      <td>https://www.huffingtonpost.com/entry/beverly-h...</td>\n",
              "      <td></td>\n",
              "      <td>MEDIA</td>\n",
              "      <td></td>\n",
              "      <td>Gary Snyder, ContributorWriter and Media Strat...</td>\n",
              "      <td>2015-01-13</td>\n",
              "    </tr>\n",
              "    <tr>\n",
              "      <th>122145</th>\n",
              "      <td>https://www.huffingtonpost.com/entry/beverly-h...</td>\n",
              "      <td></td>\n",
              "      <td>QUEER VOICES</td>\n",
              "      <td></td>\n",
              "      <td>Gary Snyder, ContributorWriter and Media Strat...</td>\n",
              "      <td>2014-08-28</td>\n",
              "    </tr>\n",
              "  </tbody>\n",
              "</table>\n",
              "</div>"
            ],
            "text/plain": [
              "                                                     link headline  \\\n",
              "90944   https://www.huffingtonpost.com/entry/lincoln-2...            \n",
              "95567   https://www.huffingtonpost.com/entry/post_9671...            \n",
              "103675  https://www.huffingtonpost.com/entry/us-and-eu...            \n",
              "109100  https://www.huffingtonpost.com/entry/disney-ce...            \n",
              "110153  https://www.huffingtonpost.com/entry/beverly-h...            \n",
              "122145  https://www.huffingtonpost.com/entry/beverly-h...            \n",
              "\n",
              "            category                                  short_description  \\\n",
              "90944       POLITICS                                                      \n",
              "95567       RELIGION  Let everyone not wrapped in tired and disprove...   \n",
              "103675     WORLDPOST                                                      \n",
              "109100      BUSINESS                                                      \n",
              "110153         MEDIA                                                      \n",
              "122145  QUEER VOICES                                                      \n",
              "\n",
              "                                                  authors       date  \n",
              "90944   Robert Moran, ContributorRobert Moran leads Br... 2015-08-22  \n",
              "95567   Matthew Fox, ContributorRadical theologian Mat... 2015-06-30  \n",
              "103675  Natasha Srdoc, ContributorAuthor, Economist, C... 2015-03-29  \n",
              "109100  Gary Snyder, ContributorWriter and Media Strat... 2015-01-25  \n",
              "110153  Gary Snyder, ContributorWriter and Media Strat... 2015-01-13  \n",
              "122145  Gary Snyder, ContributorWriter and Media Strat... 2014-08-28  "
            ]
          },
          "execution_count": 5,
          "metadata": {},
          "output_type": "execute_result"
        }
      ],
      "source": [
        "#show the empty lines in the [headline] column\n",
        "data.loc[data[\"headline\"] == \"\"]"
      ]
    },
    {
      "cell_type": "code",
      "execution_count": null,
      "metadata": {
        "id": "SkHOvYXBDidC",
        "outputId": "adf88ce1-7116-479b-e239-44162a31df5f"
      },
      "outputs": [
        {
          "data": {
            "text/html": [
              "<div>\n",
              "<style scoped>\n",
              "    .dataframe tbody tr th:only-of-type {\n",
              "        vertical-align: middle;\n",
              "    }\n",
              "\n",
              "    .dataframe tbody tr th {\n",
              "        vertical-align: top;\n",
              "    }\n",
              "\n",
              "    .dataframe thead th {\n",
              "        text-align: right;\n",
              "    }\n",
              "</style>\n",
              "<table border=\"1\" class=\"dataframe\">\n",
              "  <thead>\n",
              "    <tr style=\"text-align: right;\">\n",
              "      <th></th>\n",
              "      <th>link</th>\n",
              "      <th>headline</th>\n",
              "      <th>category</th>\n",
              "      <th>short_description</th>\n",
              "      <th>authors</th>\n",
              "      <th>date</th>\n",
              "    </tr>\n",
              "  </thead>\n",
              "  <tbody>\n",
              "    <tr>\n",
              "      <th>20773</th>\n",
              "      <td>https://www.huffingtonpost.com/entry/the-big-b...</td>\n",
              "      <td>The Big Blue Wave</td>\n",
              "      <td>COMEDY</td>\n",
              "      <td></td>\n",
              "      <td>Shan Wells, ContributorSciency sun venerator +...</td>\n",
              "      <td>2017-11-10</td>\n",
              "    </tr>\n",
              "    <tr>\n",
              "      <th>21523</th>\n",
              "      <td>https://www.huffingtonpost.com/entry/inside-ru...</td>\n",
              "      <td>Inside Rukban Camp, One Of Syria’s Most Desper...</td>\n",
              "      <td>WORLD NEWS</td>\n",
              "      <td></td>\n",
              "      <td>Yasser Allawi, Syria Deeply</td>\n",
              "      <td>2017-10-31</td>\n",
              "    </tr>\n",
              "    <tr>\n",
              "      <th>22793</th>\n",
              "      <td>https://www.huffingtonpost.com/entry/syrian-re...</td>\n",
              "      <td>Syrian Refugees Return From Lebanon Only To Fl...</td>\n",
              "      <td>WORLD NEWS</td>\n",
              "      <td></td>\n",
              "      <td>Abby Sewell, Refugees Deeply</td>\n",
              "      <td>2017-10-14</td>\n",
              "    </tr>\n",
              "    <tr>\n",
              "      <th>32223</th>\n",
              "      <td>https://www.huffingtonpost.com/entry/your-guid...</td>\n",
              "      <td>Your Guide To The Best BBQ In St. Louis Accord...</td>\n",
              "      <td>TASTE</td>\n",
              "      <td></td>\n",
              "      <td></td>\n",
              "      <td>2017-06-19</td>\n",
              "    </tr>\n",
              "    <tr>\n",
              "      <th>34488</th>\n",
              "      <td>https://www.huffingtonpost.com/entry/the-bechd...</td>\n",
              "      <td>The Bechdel Test</td>\n",
              "      <td>COMEDY</td>\n",
              "      <td></td>\n",
              "      <td>Hilary Fitzgerald Campbell, ContributorHilary'...</td>\n",
              "      <td>2017-05-24</td>\n",
              "    </tr>\n",
              "    <tr>\n",
              "      <th>...</th>\n",
              "      <td>...</td>\n",
              "      <td>...</td>\n",
              "      <td>...</td>\n",
              "      <td>...</td>\n",
              "      <td>...</td>\n",
              "      <td>...</td>\n",
              "    </tr>\n",
              "    <tr>\n",
              "      <th>206924</th>\n",
              "      <td>https://www.huffingtonpost.com/entry/true-lgbt...</td>\n",
              "      <td>True LGBTQ Stories: When A College Football Te...</td>\n",
              "      <td>QUEER VOICES</td>\n",
              "      <td></td>\n",
              "      <td>Nathan Manske, Contributor\\nExecutive Director...</td>\n",
              "      <td>2012-02-25</td>\n",
              "    </tr>\n",
              "    <tr>\n",
              "      <th>206939</th>\n",
              "      <td>https://www.huffingtonpost.com/entry/chasing-i...</td>\n",
              "      <td>'Chasing Ice' -- The Climate Change Debate Is ...</td>\n",
              "      <td>ENVIRONMENT</td>\n",
              "      <td></td>\n",
              "      <td>Greg Reitman, Contributor\\nFounder of Blue Wat...</td>\n",
              "      <td>2012-02-25</td>\n",
              "    </tr>\n",
              "    <tr>\n",
              "      <th>208803</th>\n",
              "      <td>https://www.huffingtonpost.com/entry/love-is-l...</td>\n",
              "      <td>Practice for International Kissing Day: 'Love ...</td>\n",
              "      <td>IMPACT</td>\n",
              "      <td></td>\n",
              "      <td>Karen Dalton-Beninato, Contributor\\nWriter Nea...</td>\n",
              "      <td>2012-02-05</td>\n",
              "    </tr>\n",
              "    <tr>\n",
              "      <th>208865</th>\n",
              "      <td>https://www.huffingtonpost.com/entry/zach-hust...</td>\n",
              "      <td>Zach Huston, Victim of Brutal Ohio School Bull...</td>\n",
              "      <td>QUEER VOICES</td>\n",
              "      <td></td>\n",
              "      <td>Ian Thompson, Contributor\\nLegislative Represe...</td>\n",
              "      <td>2012-02-04</td>\n",
              "    </tr>\n",
              "    <tr>\n",
              "      <th>208940</th>\n",
              "      <td>https://www.huffingtonpost.com/entry/nail-tren...</td>\n",
              "      <td>5 Nail Trends That You Can Actually Do Yourself</td>\n",
              "      <td>STYLE &amp; BEAUTY</td>\n",
              "      <td></td>\n",
              "      <td>Brooke Moreland, Contributor\\nContributor</td>\n",
              "      <td>2012-02-03</td>\n",
              "    </tr>\n",
              "  </tbody>\n",
              "</table>\n",
              "<p>19712 rows × 6 columns</p>\n",
              "</div>"
            ],
            "text/plain": [
              "                                                     link  \\\n",
              "20773   https://www.huffingtonpost.com/entry/the-big-b...   \n",
              "21523   https://www.huffingtonpost.com/entry/inside-ru...   \n",
              "22793   https://www.huffingtonpost.com/entry/syrian-re...   \n",
              "32223   https://www.huffingtonpost.com/entry/your-guid...   \n",
              "34488   https://www.huffingtonpost.com/entry/the-bechd...   \n",
              "...                                                   ...   \n",
              "206924  https://www.huffingtonpost.com/entry/true-lgbt...   \n",
              "206939  https://www.huffingtonpost.com/entry/chasing-i...   \n",
              "208803  https://www.huffingtonpost.com/entry/love-is-l...   \n",
              "208865  https://www.huffingtonpost.com/entry/zach-hust...   \n",
              "208940  https://www.huffingtonpost.com/entry/nail-tren...   \n",
              "\n",
              "                                                 headline        category  \\\n",
              "20773                                   The Big Blue Wave          COMEDY   \n",
              "21523   Inside Rukban Camp, One Of Syria’s Most Desper...      WORLD NEWS   \n",
              "22793   Syrian Refugees Return From Lebanon Only To Fl...      WORLD NEWS   \n",
              "32223   Your Guide To The Best BBQ In St. Louis Accord...           TASTE   \n",
              "34488                                    The Bechdel Test          COMEDY   \n",
              "...                                                   ...             ...   \n",
              "206924  True LGBTQ Stories: When A College Football Te...    QUEER VOICES   \n",
              "206939  'Chasing Ice' -- The Climate Change Debate Is ...     ENVIRONMENT   \n",
              "208803  Practice for International Kissing Day: 'Love ...          IMPACT   \n",
              "208865  Zach Huston, Victim of Brutal Ohio School Bull...    QUEER VOICES   \n",
              "208940    5 Nail Trends That You Can Actually Do Yourself  STYLE & BEAUTY   \n",
              "\n",
              "       short_description                                            authors  \\\n",
              "20773                     Shan Wells, ContributorSciency sun venerator +...   \n",
              "21523                                           Yasser Allawi, Syria Deeply   \n",
              "22793                                          Abby Sewell, Refugees Deeply   \n",
              "32223                                                                         \n",
              "34488                     Hilary Fitzgerald Campbell, ContributorHilary'...   \n",
              "...                  ...                                                ...   \n",
              "206924                    Nathan Manske, Contributor\\nExecutive Director...   \n",
              "206939                    Greg Reitman, Contributor\\nFounder of Blue Wat...   \n",
              "208803                    Karen Dalton-Beninato, Contributor\\nWriter Nea...   \n",
              "208865                    Ian Thompson, Contributor\\nLegislative Represe...   \n",
              "208940                            Brooke Moreland, Contributor\\nContributor   \n",
              "\n",
              "             date  \n",
              "20773  2017-11-10  \n",
              "21523  2017-10-31  \n",
              "22793  2017-10-14  \n",
              "32223  2017-06-19  \n",
              "34488  2017-05-24  \n",
              "...           ...  \n",
              "206924 2012-02-25  \n",
              "206939 2012-02-25  \n",
              "208803 2012-02-05  \n",
              "208865 2012-02-04  \n",
              "208940 2012-02-03  \n",
              "\n",
              "[19712 rows x 6 columns]"
            ]
          },
          "execution_count": 6,
          "metadata": {},
          "output_type": "execute_result"
        }
      ],
      "source": [
        "#show the empty lines in the [short_description] column\n",
        "data.loc[data[\"short_description\"] == \"\",]"
      ]
    },
    {
      "cell_type": "markdown",
      "metadata": {
        "id": "2kJcZ09HDidC"
      },
      "source": [
        "## Pre-processing data"
      ]
    },
    {
      "cell_type": "code",
      "execution_count": null,
      "metadata": {
        "id": "zXppY-oEDidD"
      },
      "outputs": [],
      "source": [
        "# remove the link, date, authors and short_description column\n",
        "data_cleaned = data.drop(['link', 'date', 'authors'], axis=1)"
      ]
    },
    {
      "cell_type": "code",
      "execution_count": null,
      "metadata": {
        "id": "vIVun_6hDidE"
      },
      "outputs": [],
      "source": [
        "# remove empty rows in headline and short_description\n",
        "def remove_empty_rows(df):\n",
        "\treturn df.loc[(df['headline'] != \"\") & (df['short_description'] != \"\")]"
      ]
    },
    {
      "cell_type": "code",
      "execution_count": null,
      "metadata": {
        "id": "jeaO_GDnDidF"
      },
      "outputs": [],
      "source": [
        "data_cleaned = remove_empty_rows(data_cleaned)"
      ]
    },
    {
      "cell_type": "code",
      "execution_count": null,
      "metadata": {
        "id": "TS8cyWy7DidF",
        "outputId": "414d1d21-d3c0-49bc-c707-75d682c90f7b"
      },
      "outputs": [
        {
          "name": "stdout",
          "output_type": "stream",
          "text": [
            "0\n",
            "0\n"
          ]
        }
      ],
      "source": [
        "#Verify that empty line was remove successfully\n",
        "print((data_cleaned[\"headline\"] == \"\").sum())\n",
        "print((data_cleaned[\"short_description\"] == \"\").sum())"
      ]
    },
    {
      "cell_type": "code",
      "execution_count": null,
      "metadata": {
        "id": "Kod5cu9oDidG",
        "outputId": "1db67c9b-b13d-4d5e-a1a2-f1cc3ad83868"
      },
      "outputs": [
        {
          "data": {
            "text/html": [
              "<div>\n",
              "<style scoped>\n",
              "    .dataframe tbody tr th:only-of-type {\n",
              "        vertical-align: middle;\n",
              "    }\n",
              "\n",
              "    .dataframe tbody tr th {\n",
              "        vertical-align: top;\n",
              "    }\n",
              "\n",
              "    .dataframe thead th {\n",
              "        text-align: right;\n",
              "    }\n",
              "</style>\n",
              "<table border=\"1\" class=\"dataframe\">\n",
              "  <thead>\n",
              "    <tr style=\"text-align: right;\">\n",
              "      <th></th>\n",
              "      <th>headline</th>\n",
              "      <th>category</th>\n",
              "      <th>short_description</th>\n",
              "    </tr>\n",
              "  </thead>\n",
              "  <tbody>\n",
              "    <tr>\n",
              "      <th>count</th>\n",
              "      <td>189814</td>\n",
              "      <td>189814</td>\n",
              "      <td>189814</td>\n",
              "    </tr>\n",
              "    <tr>\n",
              "      <th>unique</th>\n",
              "      <td>188417</td>\n",
              "      <td>42</td>\n",
              "      <td>187020</td>\n",
              "    </tr>\n",
              "    <tr>\n",
              "      <th>top</th>\n",
              "      <td>Sunday Roundup</td>\n",
              "      <td>POLITICS</td>\n",
              "      <td>Welcome to the HuffPost Rise Morning Newsbrief...</td>\n",
              "    </tr>\n",
              "    <tr>\n",
              "      <th>freq</th>\n",
              "      <td>90</td>\n",
              "      <td>32441</td>\n",
              "      <td>192</td>\n",
              "    </tr>\n",
              "  </tbody>\n",
              "</table>\n",
              "</div>"
            ],
            "text/plain": [
              "              headline  category  \\\n",
              "count           189814    189814   \n",
              "unique          188417        42   \n",
              "top     Sunday Roundup  POLITICS   \n",
              "freq                90     32441   \n",
              "\n",
              "                                        short_description  \n",
              "count                                              189814  \n",
              "unique                                             187020  \n",
              "top     Welcome to the HuffPost Rise Morning Newsbrief...  \n",
              "freq                                                  192  "
            ]
          },
          "execution_count": 11,
          "metadata": {},
          "output_type": "execute_result"
        }
      ],
      "source": [
        "data_cleaned.describe()"
      ]
    },
    {
      "cell_type": "code",
      "execution_count": null,
      "metadata": {
        "id": "0xMdoDKRDidG",
        "outputId": "c95d10f4-96e6-4cde-9022-52244718a61a"
      },
      "outputs": [
        {
          "data": {
            "text/plain": [
              "array(['U.S. NEWS', 'COMEDY', 'PARENTING', 'WORLD NEWS', 'CULTURE & ARTS',\n",
              "       'TECH', 'SPORTS', 'ENTERTAINMENT', 'POLITICS', 'WEIRD NEWS',\n",
              "       'ENVIRONMENT', 'EDUCATION', 'CRIME', 'SCIENCE', 'WELLNESS',\n",
              "       'BUSINESS', 'STYLE & BEAUTY', 'FOOD & DRINK', 'MEDIA',\n",
              "       'QUEER VOICES', 'HOME & LIVING', 'WOMEN', 'BLACK VOICES', 'TRAVEL',\n",
              "       'MONEY', 'RELIGION', 'LATINO VOICES', 'IMPACT', 'WEDDINGS',\n",
              "       'COLLEGE', 'PARENTS', 'ARTS & CULTURE', 'STYLE', 'GREEN', 'TASTE',\n",
              "       'HEALTHY LIVING', 'THE WORLDPOST', 'GOOD NEWS', 'WORLDPOST',\n",
              "       'FIFTY', 'ARTS', 'DIVORCE'], dtype=object)"
            ]
          },
          "execution_count": 12,
          "metadata": {},
          "output_type": "execute_result"
        }
      ],
      "source": [
        "# show all the categories\n",
        "data_cleaned['category'].unique()"
      ]
    },
    {
      "cell_type": "code",
      "execution_count": null,
      "metadata": {
        "id": "kp7a4L-tDidG",
        "outputId": "0cb642b4-e50c-459a-918c-adc555cb0893"
      },
      "outputs": [
        {
          "data": {
            "text/html": [
              "<div>\n",
              "<style scoped>\n",
              "    .dataframe tbody tr th:only-of-type {\n",
              "        vertical-align: middle;\n",
              "    }\n",
              "\n",
              "    .dataframe tbody tr th {\n",
              "        vertical-align: top;\n",
              "    }\n",
              "\n",
              "    .dataframe thead th {\n",
              "        text-align: right;\n",
              "    }\n",
              "</style>\n",
              "<table border=\"1\" class=\"dataframe\">\n",
              "  <thead>\n",
              "    <tr style=\"text-align: right;\">\n",
              "      <th></th>\n",
              "      <th>headline</th>\n",
              "      <th>category</th>\n",
              "      <th>short_description</th>\n",
              "    </tr>\n",
              "  </thead>\n",
              "  <tbody>\n",
              "    <tr>\n",
              "      <th>16173</th>\n",
              "      <td>It's Weird That American Restaurants Serve Ice...</td>\n",
              "      <td>TASTE</td>\n",
              "      <td>But why do we even have ice in our drinks in t...</td>\n",
              "    </tr>\n",
              "    <tr>\n",
              "      <th>16242</th>\n",
              "      <td>Pineapple Casserole, The Southern Dish That's ...</td>\n",
              "      <td>TASTE</td>\n",
              "      <td>It's got pineapple, cheddar and a whole lot of...</td>\n",
              "    </tr>\n",
              "    <tr>\n",
              "      <th>16516</th>\n",
              "      <td>How To Actually Get A Bartender's Attention</td>\n",
              "      <td>TASTE</td>\n",
              "      <td>Plus other things they wish you knew.</td>\n",
              "    </tr>\n",
              "    <tr>\n",
              "      <th>16599</th>\n",
              "      <td>Diet Coke's Millennial-Inspired Makeover Leave...</td>\n",
              "      <td>TASTE</td>\n",
              "      <td>It's not like a regular soda, it's a cool soda.</td>\n",
              "    </tr>\n",
              "    <tr>\n",
              "      <th>16776</th>\n",
              "      <td>We Tested The New 'Tearless' Onions To See If ...</td>\n",
              "      <td>TASTE</td>\n",
              "      <td>Put away your goggles, people.</td>\n",
              "    </tr>\n",
              "    <tr>\n",
              "      <th>...</th>\n",
              "      <td>...</td>\n",
              "      <td>...</td>\n",
              "      <td>...</td>\n",
              "    </tr>\n",
              "    <tr>\n",
              "      <th>133523</th>\n",
              "      <td>The Most Bizarre Canned Foods From Around The ...</td>\n",
              "      <td>TASTE</td>\n",
              "      <td>There are plenty of foods that have no busines...</td>\n",
              "    </tr>\n",
              "    <tr>\n",
              "      <th>133595</th>\n",
              "      <td>The Answers To Every Question You've Never Ask...</td>\n",
              "      <td>TASTE</td>\n",
              "      <td>Do you love 'em or hate 'em?</td>\n",
              "    </tr>\n",
              "    <tr>\n",
              "      <th>133602</th>\n",
              "      <td>Margarita Fanatics, We've Got Your Swag</td>\n",
              "      <td>TASTE</td>\n",
              "      <td>If Jimmy Buffet's Margaritaville is your happy...</td>\n",
              "    </tr>\n",
              "    <tr>\n",
              "      <th>133635</th>\n",
              "      <td>Easter Cheese Crescia</td>\n",
              "      <td>TASTE</td>\n",
              "      <td>I collected this recipe from scraps found in m...</td>\n",
              "    </tr>\n",
              "    <tr>\n",
              "      <th>133659</th>\n",
              "      <td>Five Tips For Cooking For One</td>\n",
              "      <td>TASTE</td>\n",
              "      <td>I often hear people describe cooking for one a...</td>\n",
              "    </tr>\n",
              "  </tbody>\n",
              "</table>\n",
              "<p>1940 rows × 3 columns</p>\n",
              "</div>"
            ],
            "text/plain": [
              "                                                 headline category  \\\n",
              "16173   It's Weird That American Restaurants Serve Ice...    TASTE   \n",
              "16242   Pineapple Casserole, The Southern Dish That's ...    TASTE   \n",
              "16516         How To Actually Get A Bartender's Attention    TASTE   \n",
              "16599   Diet Coke's Millennial-Inspired Makeover Leave...    TASTE   \n",
              "16776   We Tested The New 'Tearless' Onions To See If ...    TASTE   \n",
              "...                                                   ...      ...   \n",
              "133523  The Most Bizarre Canned Foods From Around The ...    TASTE   \n",
              "133595  The Answers To Every Question You've Never Ask...    TASTE   \n",
              "133602            Margarita Fanatics, We've Got Your Swag    TASTE   \n",
              "133635                              Easter Cheese Crescia    TASTE   \n",
              "133659                      Five Tips For Cooking For One    TASTE   \n",
              "\n",
              "                                        short_description  \n",
              "16173   But why do we even have ice in our drinks in t...  \n",
              "16242   It's got pineapple, cheddar and a whole lot of...  \n",
              "16516               Plus other things they wish you knew.  \n",
              "16599     It's not like a regular soda, it's a cool soda.  \n",
              "16776                      Put away your goggles, people.  \n",
              "...                                                   ...  \n",
              "133523  There are plenty of foods that have no busines...  \n",
              "133595                       Do you love 'em or hate 'em?  \n",
              "133602  If Jimmy Buffet's Margaritaville is your happy...  \n",
              "133635  I collected this recipe from scraps found in m...  \n",
              "133659  I often hear people describe cooking for one a...  \n",
              "\n",
              "[1940 rows x 3 columns]"
            ]
          },
          "execution_count": 13,
          "metadata": {},
          "output_type": "execute_result"
        }
      ],
      "source": [
        "# show category 'fifty'\n",
        "data_cleaned.loc[data_cleaned['category'] == 'TASTE']"
      ]
    },
    {
      "cell_type": "code",
      "execution_count": null,
      "metadata": {
        "id": "2BIWJP9nDidH"
      },
      "outputs": [],
      "source": [
        "# chnage name of category 'U.S. NEWS' to 'NEWS'\n",
        "data_cleaned['category'] = data_cleaned['category'].replace('U.S. NEWS', 'NEWS')"
      ]
    },
    {
      "cell_type": "code",
      "execution_count": null,
      "metadata": {
        "id": "5GM-ITH0DidH"
      },
      "outputs": [],
      "source": [
        "# chnage name of category 'ARTS & CULTURE' to 'CELEBRITIES'\n",
        "data_cleaned['category'] = data_cleaned['category'].replace('ARTS & CULTURE', 'CELEBRITIES')"
      ]
    },
    {
      "cell_type": "code",
      "execution_count": null,
      "metadata": {
        "id": "_ihnCKqQDidH"
      },
      "outputs": [],
      "source": [
        "data_cleaned.category = data_cleaned.category.map(lambda x: 'EDUCATION' if x == 'COLLEGE' else x)"
      ]
    },
    {
      "cell_type": "code",
      "execution_count": null,
      "metadata": {
        "id": "XuEc_6WeDidH"
      },
      "outputs": [],
      "source": [
        "data_cleaned.category = data_cleaned.category.map(lambda x: 'CULTURE & ARTS' if x == 'ARTS' else x)"
      ]
    },
    {
      "cell_type": "code",
      "execution_count": null,
      "metadata": {
        "id": "qcLwoLSCDidH"
      },
      "outputs": [],
      "source": [
        "data_cleaned.category = data_cleaned.category.map(lambda x: 'STYLE & BEAUTY' if x == 'STYLE' else x)"
      ]
    },
    {
      "cell_type": "code",
      "execution_count": null,
      "metadata": {
        "id": "C_XLCuwDDidI"
      },
      "outputs": [],
      "source": [
        "data_cleaned.category = data_cleaned.category.map(lambda x: 'FOOD & DRINK' if x == 'TASTE' else x)"
      ]
    },
    {
      "cell_type": "code",
      "execution_count": null,
      "metadata": {
        "id": "SZcadC5WDidI"
      },
      "outputs": [],
      "source": [
        "data_cleaned.category = data_cleaned.category.map(lambda x: 'PARENTING' if x == 'PARENTS' else x)"
      ]
    },
    {
      "cell_type": "code",
      "execution_count": null,
      "metadata": {
        "id": "-IEF0zHWDidI"
      },
      "outputs": [],
      "source": [
        "# remove the categories\n",
        "data_cleaned = data_cleaned.loc[~data_cleaned['category'].isin(['QUEER VOICES', 'LATINO VOICES', 'THE WORLDPOST', 'WORLDPOST', 'BLACK VOICES', 'GOOD NEWS', 'WEDDINGS', 'DIVORCE'])]"
      ]
    },
    {
      "cell_type": "code",
      "execution_count": null,
      "metadata": {
        "id": "GfzPJriGDidI",
        "outputId": "8fb89c3f-5d09-451e-b7fa-cd0f6d4b889a"
      },
      "outputs": [
        {
          "data": {
            "text/plain": [
              "array(['NEWS', 'COMEDY', 'PARENTING', 'WORLD NEWS', 'CULTURE & ARTS',\n",
              "       'TECH', 'SPORTS', 'ENTERTAINMENT', 'POLITICS', 'WEIRD NEWS',\n",
              "       'ENVIRONMENT', 'EDUCATION', 'CRIME', 'SCIENCE', 'WELLNESS',\n",
              "       'BUSINESS', 'STYLE & BEAUTY', 'FOOD & DRINK', 'MEDIA',\n",
              "       'HOME & LIVING', 'WOMEN', 'TRAVEL', 'MONEY', 'RELIGION', 'IMPACT',\n",
              "       'CELEBRITIES', 'GREEN', 'HEALTHY LIVING', 'FIFTY'], dtype=object)"
            ]
          },
          "execution_count": 22,
          "metadata": {},
          "output_type": "execute_result"
        }
      ],
      "source": [
        "data_cleaned['category'].unique()"
      ]
    },
    {
      "cell_type": "code",
      "execution_count": null,
      "metadata": {
        "id": "GTeLVVavDidI",
        "outputId": "a9626518-d0fc-4367-d922-8cea492b980c"
      },
      "outputs": [
        {
          "data": {
            "text/plain": [
              "category\n",
              "POLITICS          32441\n",
              "WELLNESS          17943\n",
              "ENTERTAINMENT     14774\n",
              "PARENTING         12346\n",
              "STYLE & BEAUTY    11369\n",
              "TRAVEL             9421\n",
              "FOOD & DRINK       8271\n",
              "HEALTHY LIVING     5265\n",
              "BUSINESS           5132\n",
              "COMEDY             4642\n",
              "SPORTS             4414\n",
              "HOME & LIVING      4317\n",
              "WORLD NEWS         3297\n",
              "WOMEN              3184\n",
              "IMPACT             3086\n",
              "CRIME              2832\n",
              "MEDIA              2404\n",
              "WEIRD NEWS         2316\n",
              "TECH               2103\n",
              "GREEN              2046\n",
              "CULTURE & ARTS     1926\n",
              "RELIGION           1878\n",
              "EDUCATION          1823\n",
              "SCIENCE            1803\n",
              "MONEY              1755\n",
              "ENVIRONMENT        1442\n",
              "NEWS               1377\n",
              "CELEBRITIES        1339\n",
              "FIFTY              1042\n",
              "Name: count, dtype: int64"
            ]
          },
          "execution_count": 23,
          "metadata": {},
          "output_type": "execute_result"
        }
      ],
      "source": [
        "# show how many articles are in each category\n",
        "data_cleaned['category'].value_counts()"
      ]
    },
    {
      "cell_type": "code",
      "execution_count": null,
      "metadata": {
        "id": "gbYg5tjJDidJ"
      },
      "outputs": [],
      "source": [
        "#Selecting only the first 1042 rows of each category for training\n",
        "data_train = data_cleaned.groupby('category').head(1042)"
      ]
    },
    {
      "cell_type": "code",
      "execution_count": null,
      "metadata": {
        "id": "qdM4Qt2aDidJ",
        "outputId": "c9de16e4-16a7-4613-b852-2aedead77009"
      },
      "outputs": [
        {
          "data": {
            "text/plain": [
              "7402642"
            ]
          },
          "execution_count": 25,
          "metadata": {},
          "output_type": "execute_result"
        }
      ],
      "source": [
        "# create the training tests ('headline and short_description') and labels('category')\n",
        "data_texts = data_cleaned['headline'] + \" \" + data_cleaned['short_description']\n",
        "data_labels = data_cleaned['category']\n"
      ]
    },
    {
      "cell_type": "markdown",
      "metadata": {
        "id": "reFFpEGNDidJ"
      },
      "source": [
        "## Collect Key Metrics"
      ]
    },
    {
      "cell_type": "code",
      "source": [
        "# number of classes\n",
        "def get_num_classes(labels):\n",
        "    \"\"\"Gets the total number of classes.\n",
        "\n",
        "    # Arguments\n",
        "        labels: list, label values.\n",
        "            There should be at lease one sample for values in the\n",
        "            range (0, num_classes -1)\n",
        "\n",
        "    # Returns\n",
        "        int, total number of classes.\n",
        "\n",
        "    # Raises\n",
        "        ValueError: if any label value in the range(0, num_classes - 1)\n",
        "            is missing or if number of classes is <= 1.\n",
        "    \"\"\"\n",
        "    num_classes = max(labels) + 1\n",
        "    missing_classes = [i for i in range(num_classes) if i not in labels]\n",
        "    if len(missing_classes):\n",
        "        raise ValueError('Missing samples with label value(s) '\n",
        "                         '{missing_classes}. Please make sure you have '\n",
        "                         'at least one sample for every label value '\n",
        "                         'in the range(0, {max_class})'.format(\n",
        "                            missing_classes=missing_classes,\n",
        "                            max_class=num_classes - 1))\n",
        "\n",
        "    if num_classes <= 1:\n",
        "        raise ValueError('Invalid number of labels: {num_classes}.'\n",
        "                         'Please make sure there are at least two classes '\n",
        "                         'of samples'.format(num_classes=num_classes))\n",
        "    return num_classes"
      ],
      "metadata": {
        "id": "seqLnXSzJBcP"
      },
      "execution_count": null,
      "outputs": []
    },
    {
      "cell_type": "code",
      "source": [
        "get_num_classes(data_labels)"
      ],
      "metadata": {
        "id": "fsSYVai-JEO2"
      },
      "execution_count": null,
      "outputs": []
    },
    {
      "cell_type": "code",
      "source": [
        "# number of samples per class\n",
        "def get_samples_per_class(labels):\n",
        "\t\"\"\"Gets the number of samples per class.\n",
        "\n",
        "\t# Arguments\n",
        "\t\tlabels: list, label values.\n",
        "\n",
        "\t# Returns\n",
        "\t\tdict, map from class index to the number of samples in each class.\n",
        "\t\"\"\"\n",
        "\tsamples_per_class = {}\n",
        "\tfor label in labels:\n",
        "\t\tif label not in samples_per_class:\n",
        "\t\t\tsamples_per_class[label] = 0\n",
        "\t\tsamples_per_class[label] += 1\n",
        "\treturn samples_per_class"
      ],
      "metadata": {
        "id": "I3f37j-IJLdK"
      },
      "execution_count": null,
      "outputs": []
    },
    {
      "cell_type": "code",
      "source": [
        "get_num_words_per_sample(data_texts)"
      ],
      "metadata": {
        "id": "iIanPy7uJOZa"
      },
      "execution_count": null,
      "outputs": []
    },
    {
      "cell_type": "code",
      "source": [
        "# distribution of sample length\n",
        "def plot_sample_length_distribution(sample_texts):\n",
        "    \"\"\"Plots the sample length distribution.\n",
        "\n",
        "    # Arguments\n",
        "        samples_texts: list, sample texts.\n",
        "    \"\"\"\n",
        "    plt.hist([len(s) for s in sample_texts], 50)\n",
        "    plt.xlabel('Length of a sample')\n",
        "    plt.ylabel('Number of samples')\n",
        "    plt.title('Sample length distribution')\n",
        "    plt.show()"
      ],
      "metadata": {
        "id": "IsbwV-wpJSCb"
      },
      "execution_count": null,
      "outputs": []
    },
    {
      "cell_type": "code",
      "source": [
        "plot_sample_length_distribution(data_texts)"
      ],
      "metadata": {
        "id": "3WfvjTPvJTY0"
      },
      "execution_count": null,
      "outputs": []
    },
    {
      "cell_type": "code",
      "source": [
        "# calculate ratio between the samples/words-per-sample\n",
        "len(data_texts) / get_num_words_per_sample(data_texts)"
      ],
      "metadata": {
        "id": "BI3iRujWJVEc"
      },
      "execution_count": null,
      "outputs": []
    }
  ],
  "metadata": {
    "kernelspec": {
      "display_name": "Python 3",
      "language": "python",
      "name": "python3"
    },
    "language_info": {
      "codemirror_mode": {
        "name": "ipython",
        "version": 3
      },
      "file_extension": ".py",
      "mimetype": "text/x-python",
      "name": "python",
      "nbconvert_exporter": "python",
      "pygments_lexer": "ipython3",
      "version": "3.10.14"
    },
    "colab": {
      "provenance": []
    }
  },
  "nbformat": 4,
  "nbformat_minor": 0
}