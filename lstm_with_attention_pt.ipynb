{
  "cells": [
    {
      "cell_type": "markdown",
      "metadata": {
        "id": "iIRCeFFnS5TS"
      },
      "source": [
        "# LTSM with Atttention"
      ]
    },
    {
      "cell_type": "code",
      "execution_count": 1,
      "metadata": {
        "id": "G9Qlyz4qS5TU"
      },
      "outputs": [],
      "source": [
        "import numpy as np\n",
        "import pandas as pd\n",
        "import matplotlib.pyplot as plt\n",
        "\n",
        "import tensorflow as tf"
      ]
    },
    {
      "cell_type": "code",
      "execution_count": 2,
      "metadata": {
        "colab": {
          "base_uri": "https://localhost:8080/"
        },
        "id": "DZ83-EzhS5TV",
        "outputId": "6dd9c4b6-8d86-4039-e376-3aeeee317b48"
      },
      "outputs": [
        {
          "output_type": "stream",
          "name": "stdout",
          "text": [
            "2.15.0\n"
          ]
        }
      ],
      "source": [
        "print(tf.__version__)"
      ]
    },
    {
      "cell_type": "markdown",
      "metadata": {
        "id": "MhMFl8GZS5TW"
      },
      "source": [
        "## Data"
      ]
    },
    {
      "cell_type": "code",
      "execution_count": 3,
      "metadata": {
        "id": "TQRx6nhMS5TW"
      },
      "outputs": [],
      "source": [
        "import os\n",
        "from google.colab import drive"
      ]
    },
    {
      "cell_type": "code",
      "execution_count": 5,
      "metadata": {
        "colab": {
          "base_uri": "https://localhost:8080/"
        },
        "id": "HI0oZl6jwK7u",
        "outputId": "0ca0b570-4453-447a-fe16-c9d3094dadd2"
      },
      "outputs": [
        {
          "output_type": "stream",
          "name": "stdout",
          "text": [
            "Mounted at /content/drive\n"
          ]
        }
      ],
      "source": [
        "drive.mount('/content/drive')"
      ]
    },
    {
      "cell_type": "code",
      "execution_count": 6,
      "metadata": {
        "id": "raTmJsnP0Dnf"
      },
      "outputs": [],
      "source": [
        "folder_path = '/content/drive/My Drive/news_classifier/'\n",
        "file_list = os.listdir(folder_path)"
      ]
    },
    {
      "cell_type": "code",
      "execution_count": 7,
      "metadata": {
        "id": "AC74-Wkgzr_W"
      },
      "outputs": [],
      "source": [
        "file_name = 'data_texts_pt.csv'\n",
        "full_path = os.path.join(folder_path, file_name)\n",
        "data_texts = pd.read_csv(full_path)"
      ]
    },
    {
      "cell_type": "code",
      "execution_count": 8,
      "metadata": {
        "id": "sz99rueSzM-e"
      },
      "outputs": [],
      "source": [
        "file_name = 'data_labels_pt.csv'\n",
        "full_path = os.path.join(folder_path, file_name)\n",
        "data_labels = pd.read_csv(full_path)"
      ]
    },
    {
      "cell_type": "markdown",
      "metadata": {
        "id": "PAn7ikoRS5Te"
      },
      "source": [
        "## Preprocessing the Data"
      ]
    },
    {
      "cell_type": "code",
      "source": [
        "data_texts"
      ],
      "metadata": {
        "colab": {
          "base_uri": "https://localhost:8080/",
          "height": 424
        },
        "id": "SAcJUWmCA2OO",
        "outputId": "d68449bd-aa2e-4a6c-ba34-a8dec0f9e551"
      },
      "execution_count": 24,
      "outputs": [
        {
          "output_type": "execute_result",
          "data": {
            "text/plain": [
              "                                                       0\n",
              "0      Mais de 4 milhões de americanos enrolam mangas...\n",
              "1      O Flyer da American Airlines cobrou, banido po...\n",
              "2      Mulher que chamou policiais em Black Bird-Watc...\n",
              "3      O limpador estava morto no banheiro de Belk po...\n",
              "4      Repórter fica adorável surpresa do namorado en...\n",
              "...                                                  ...\n",
              "30213  A Cúpula Global mira o Mistério Ultimate: o cé...\n",
              "30214  Por que '13 razões por que' não deveria ser a ...\n",
              "30215  Como a poluição do ar entra na corrente sanguí...\n",
              "30216  O cérebro de Aaron Hernandez será estudado par...\n",
              "30217  Toda dieta no mercado está basicamente tentand...\n",
              "\n",
              "[30218 rows x 1 columns]"
            ],
            "text/html": [
              "\n",
              "  <div id=\"df-b5f56133-e7df-41bf-9e9a-8deab2422f71\" class=\"colab-df-container\">\n",
              "    <div>\n",
              "<style scoped>\n",
              "    .dataframe tbody tr th:only-of-type {\n",
              "        vertical-align: middle;\n",
              "    }\n",
              "\n",
              "    .dataframe tbody tr th {\n",
              "        vertical-align: top;\n",
              "    }\n",
              "\n",
              "    .dataframe thead th {\n",
              "        text-align: right;\n",
              "    }\n",
              "</style>\n",
              "<table border=\"1\" class=\"dataframe\">\n",
              "  <thead>\n",
              "    <tr style=\"text-align: right;\">\n",
              "      <th></th>\n",
              "      <th>0</th>\n",
              "    </tr>\n",
              "  </thead>\n",
              "  <tbody>\n",
              "    <tr>\n",
              "      <th>0</th>\n",
              "      <td>Mais de 4 milhões de americanos enrolam mangas...</td>\n",
              "    </tr>\n",
              "    <tr>\n",
              "      <th>1</th>\n",
              "      <td>O Flyer da American Airlines cobrou, banido po...</td>\n",
              "    </tr>\n",
              "    <tr>\n",
              "      <th>2</th>\n",
              "      <td>Mulher que chamou policiais em Black Bird-Watc...</td>\n",
              "    </tr>\n",
              "    <tr>\n",
              "      <th>3</th>\n",
              "      <td>O limpador estava morto no banheiro de Belk po...</td>\n",
              "    </tr>\n",
              "    <tr>\n",
              "      <th>4</th>\n",
              "      <td>Repórter fica adorável surpresa do namorado en...</td>\n",
              "    </tr>\n",
              "    <tr>\n",
              "      <th>...</th>\n",
              "      <td>...</td>\n",
              "    </tr>\n",
              "    <tr>\n",
              "      <th>30213</th>\n",
              "      <td>A Cúpula Global mira o Mistério Ultimate: o cé...</td>\n",
              "    </tr>\n",
              "    <tr>\n",
              "      <th>30214</th>\n",
              "      <td>Por que '13 razões por que' não deveria ser a ...</td>\n",
              "    </tr>\n",
              "    <tr>\n",
              "      <th>30215</th>\n",
              "      <td>Como a poluição do ar entra na corrente sanguí...</td>\n",
              "    </tr>\n",
              "    <tr>\n",
              "      <th>30216</th>\n",
              "      <td>O cérebro de Aaron Hernandez será estudado par...</td>\n",
              "    </tr>\n",
              "    <tr>\n",
              "      <th>30217</th>\n",
              "      <td>Toda dieta no mercado está basicamente tentand...</td>\n",
              "    </tr>\n",
              "  </tbody>\n",
              "</table>\n",
              "<p>30218 rows × 1 columns</p>\n",
              "</div>\n",
              "    <div class=\"colab-df-buttons\">\n",
              "\n",
              "  <div class=\"colab-df-container\">\n",
              "    <button class=\"colab-df-convert\" onclick=\"convertToInteractive('df-b5f56133-e7df-41bf-9e9a-8deab2422f71')\"\n",
              "            title=\"Convert this dataframe to an interactive table.\"\n",
              "            style=\"display:none;\">\n",
              "\n",
              "  <svg xmlns=\"http://www.w3.org/2000/svg\" height=\"24px\" viewBox=\"0 -960 960 960\">\n",
              "    <path d=\"M120-120v-720h720v720H120Zm60-500h600v-160H180v160Zm220 220h160v-160H400v160Zm0 220h160v-160H400v160ZM180-400h160v-160H180v160Zm440 0h160v-160H620v160ZM180-180h160v-160H180v160Zm440 0h160v-160H620v160Z\"/>\n",
              "  </svg>\n",
              "    </button>\n",
              "\n",
              "  <style>\n",
              "    .colab-df-container {\n",
              "      display:flex;\n",
              "      gap: 12px;\n",
              "    }\n",
              "\n",
              "    .colab-df-convert {\n",
              "      background-color: #E8F0FE;\n",
              "      border: none;\n",
              "      border-radius: 50%;\n",
              "      cursor: pointer;\n",
              "      display: none;\n",
              "      fill: #1967D2;\n",
              "      height: 32px;\n",
              "      padding: 0 0 0 0;\n",
              "      width: 32px;\n",
              "    }\n",
              "\n",
              "    .colab-df-convert:hover {\n",
              "      background-color: #E2EBFA;\n",
              "      box-shadow: 0px 1px 2px rgba(60, 64, 67, 0.3), 0px 1px 3px 1px rgba(60, 64, 67, 0.15);\n",
              "      fill: #174EA6;\n",
              "    }\n",
              "\n",
              "    .colab-df-buttons div {\n",
              "      margin-bottom: 4px;\n",
              "    }\n",
              "\n",
              "    [theme=dark] .colab-df-convert {\n",
              "      background-color: #3B4455;\n",
              "      fill: #D2E3FC;\n",
              "    }\n",
              "\n",
              "    [theme=dark] .colab-df-convert:hover {\n",
              "      background-color: #434B5C;\n",
              "      box-shadow: 0px 1px 3px 1px rgba(0, 0, 0, 0.15);\n",
              "      filter: drop-shadow(0px 1px 2px rgba(0, 0, 0, 0.3));\n",
              "      fill: #FFFFFF;\n",
              "    }\n",
              "  </style>\n",
              "\n",
              "    <script>\n",
              "      const buttonEl =\n",
              "        document.querySelector('#df-b5f56133-e7df-41bf-9e9a-8deab2422f71 button.colab-df-convert');\n",
              "      buttonEl.style.display =\n",
              "        google.colab.kernel.accessAllowed ? 'block' : 'none';\n",
              "\n",
              "      async function convertToInteractive(key) {\n",
              "        const element = document.querySelector('#df-b5f56133-e7df-41bf-9e9a-8deab2422f71');\n",
              "        const dataTable =\n",
              "          await google.colab.kernel.invokeFunction('convertToInteractive',\n",
              "                                                    [key], {});\n",
              "        if (!dataTable) return;\n",
              "\n",
              "        const docLinkHtml = 'Like what you see? Visit the ' +\n",
              "          '<a target=\"_blank\" href=https://colab.research.google.com/notebooks/data_table.ipynb>data table notebook</a>'\n",
              "          + ' to learn more about interactive tables.';\n",
              "        element.innerHTML = '';\n",
              "        dataTable['output_type'] = 'display_data';\n",
              "        await google.colab.output.renderOutput(dataTable, element);\n",
              "        const docLink = document.createElement('div');\n",
              "        docLink.innerHTML = docLinkHtml;\n",
              "        element.appendChild(docLink);\n",
              "      }\n",
              "    </script>\n",
              "  </div>\n",
              "\n",
              "\n",
              "<div id=\"df-b9380c03-18f9-47be-a544-440e31809f40\">\n",
              "  <button class=\"colab-df-quickchart\" onclick=\"quickchart('df-b9380c03-18f9-47be-a544-440e31809f40')\"\n",
              "            title=\"Suggest charts\"\n",
              "            style=\"display:none;\">\n",
              "\n",
              "<svg xmlns=\"http://www.w3.org/2000/svg\" height=\"24px\"viewBox=\"0 0 24 24\"\n",
              "     width=\"24px\">\n",
              "    <g>\n",
              "        <path d=\"M19 3H5c-1.1 0-2 .9-2 2v14c0 1.1.9 2 2 2h14c1.1 0 2-.9 2-2V5c0-1.1-.9-2-2-2zM9 17H7v-7h2v7zm4 0h-2V7h2v10zm4 0h-2v-4h2v4z\"/>\n",
              "    </g>\n",
              "</svg>\n",
              "  </button>\n",
              "\n",
              "<style>\n",
              "  .colab-df-quickchart {\n",
              "      --bg-color: #E8F0FE;\n",
              "      --fill-color: #1967D2;\n",
              "      --hover-bg-color: #E2EBFA;\n",
              "      --hover-fill-color: #174EA6;\n",
              "      --disabled-fill-color: #AAA;\n",
              "      --disabled-bg-color: #DDD;\n",
              "  }\n",
              "\n",
              "  [theme=dark] .colab-df-quickchart {\n",
              "      --bg-color: #3B4455;\n",
              "      --fill-color: #D2E3FC;\n",
              "      --hover-bg-color: #434B5C;\n",
              "      --hover-fill-color: #FFFFFF;\n",
              "      --disabled-bg-color: #3B4455;\n",
              "      --disabled-fill-color: #666;\n",
              "  }\n",
              "\n",
              "  .colab-df-quickchart {\n",
              "    background-color: var(--bg-color);\n",
              "    border: none;\n",
              "    border-radius: 50%;\n",
              "    cursor: pointer;\n",
              "    display: none;\n",
              "    fill: var(--fill-color);\n",
              "    height: 32px;\n",
              "    padding: 0;\n",
              "    width: 32px;\n",
              "  }\n",
              "\n",
              "  .colab-df-quickchart:hover {\n",
              "    background-color: var(--hover-bg-color);\n",
              "    box-shadow: 0 1px 2px rgba(60, 64, 67, 0.3), 0 1px 3px 1px rgba(60, 64, 67, 0.15);\n",
              "    fill: var(--button-hover-fill-color);\n",
              "  }\n",
              "\n",
              "  .colab-df-quickchart-complete:disabled,\n",
              "  .colab-df-quickchart-complete:disabled:hover {\n",
              "    background-color: var(--disabled-bg-color);\n",
              "    fill: var(--disabled-fill-color);\n",
              "    box-shadow: none;\n",
              "  }\n",
              "\n",
              "  .colab-df-spinner {\n",
              "    border: 2px solid var(--fill-color);\n",
              "    border-color: transparent;\n",
              "    border-bottom-color: var(--fill-color);\n",
              "    animation:\n",
              "      spin 1s steps(1) infinite;\n",
              "  }\n",
              "\n",
              "  @keyframes spin {\n",
              "    0% {\n",
              "      border-color: transparent;\n",
              "      border-bottom-color: var(--fill-color);\n",
              "      border-left-color: var(--fill-color);\n",
              "    }\n",
              "    20% {\n",
              "      border-color: transparent;\n",
              "      border-left-color: var(--fill-color);\n",
              "      border-top-color: var(--fill-color);\n",
              "    }\n",
              "    30% {\n",
              "      border-color: transparent;\n",
              "      border-left-color: var(--fill-color);\n",
              "      border-top-color: var(--fill-color);\n",
              "      border-right-color: var(--fill-color);\n",
              "    }\n",
              "    40% {\n",
              "      border-color: transparent;\n",
              "      border-right-color: var(--fill-color);\n",
              "      border-top-color: var(--fill-color);\n",
              "    }\n",
              "    60% {\n",
              "      border-color: transparent;\n",
              "      border-right-color: var(--fill-color);\n",
              "    }\n",
              "    80% {\n",
              "      border-color: transparent;\n",
              "      border-right-color: var(--fill-color);\n",
              "      border-bottom-color: var(--fill-color);\n",
              "    }\n",
              "    90% {\n",
              "      border-color: transparent;\n",
              "      border-bottom-color: var(--fill-color);\n",
              "    }\n",
              "  }\n",
              "</style>\n",
              "\n",
              "  <script>\n",
              "    async function quickchart(key) {\n",
              "      const quickchartButtonEl =\n",
              "        document.querySelector('#' + key + ' button');\n",
              "      quickchartButtonEl.disabled = true;  // To prevent multiple clicks.\n",
              "      quickchartButtonEl.classList.add('colab-df-spinner');\n",
              "      try {\n",
              "        const charts = await google.colab.kernel.invokeFunction(\n",
              "            'suggestCharts', [key], {});\n",
              "      } catch (error) {\n",
              "        console.error('Error during call to suggestCharts:', error);\n",
              "      }\n",
              "      quickchartButtonEl.classList.remove('colab-df-spinner');\n",
              "      quickchartButtonEl.classList.add('colab-df-quickchart-complete');\n",
              "    }\n",
              "    (() => {\n",
              "      let quickchartButtonEl =\n",
              "        document.querySelector('#df-b9380c03-18f9-47be-a544-440e31809f40 button');\n",
              "      quickchartButtonEl.style.display =\n",
              "        google.colab.kernel.accessAllowed ? 'block' : 'none';\n",
              "    })();\n",
              "  </script>\n",
              "</div>\n",
              "    </div>\n",
              "  </div>\n"
            ],
            "application/vnd.google.colaboratory.intrinsic+json": {
              "type": "dataframe",
              "variable_name": "data_texts",
              "summary": "{\n  \"name\": \"data_texts\",\n  \"rows\": 30218,\n  \"fields\": [\n    {\n      \"column\": \"0\",\n      \"properties\": {\n        \"dtype\": \"string\",\n        \"num_unique_values\": 30175,\n        \"samples\": [\n          \"KFC Trolls Trump com a par\\u00f3dia Ronald McDonald \\\"A minha \\u00e9 uma refei\\u00e7\\u00e3o de caixa maior e mais poderosa que a dele, e a minha tem molho!\\\"\",\n          \"Como seria um mundo sem dinheiro? 8. Problema de indivisibilidade.Suponha que voc\\u00ea vendeu todo o seu trigo por um par de sapatos.E se amanh\\u00e3, voc\\u00ea quiser usar parte de\",\n          \"Uma hist\\u00f3ria verdadeira Esper\\u00e1vamos que fosse um protesto tempor\\u00e1rio, mas durou os dois anos em que ela morava l\\u00e1.Liguei para o gerente da cidade para ver o que poderia ser feito.\\\"Eu sei que \\u00e9 horr\\u00edvel de se olhar e eu certamente odiaria ser o vizinho dela, mas isso \\u00e9 New Hampshire. Live Free Or Die\\\".\"\n        ],\n        \"semantic_type\": \"\",\n        \"description\": \"\"\n      }\n    }\n  ]\n}"
            }
          },
          "metadata": {},
          "execution_count": 24
        }
      ]
    },
    {
      "cell_type": "code",
      "source": [
        "data_texts = data_texts['0'].str.lower()"
      ],
      "metadata": {
        "id": "YUkbwIhL_ncC"
      },
      "execution_count": 27,
      "outputs": []
    },
    {
      "cell_type": "code",
      "source": [
        "data_labels = data_labels['categoria'].str.lower()"
      ],
      "metadata": {
        "id": "nNx6vJ-4BcSY"
      },
      "execution_count": 31,
      "outputs": []
    },
    {
      "cell_type": "code",
      "execution_count": 33,
      "metadata": {
        "id": "K5Q4xXAcS5Tj"
      },
      "outputs": [],
      "source": [
        "# slipt the data into training (train_text) and testing (test_text)\n",
        "from sklearn.model_selection import train_test_split\n",
        "\n",
        "\n",
        "x_train, x_val, y_train, y_val = train_test_split(data_texts, data_labels, test_size=0.2, random_state=29)"
      ]
    },
    {
      "cell_type": "markdown",
      "metadata": {
        "id": "RE-StmDi4HCz"
      },
      "source": [
        "### Stop Words Removal and Lemmatization\n"
      ]
    },
    {
      "cell_type": "code",
      "source": [
        "import spacy\n",
        "\n",
        "!python -m spacy download pt_core_news_lg"
      ],
      "metadata": {
        "id": "6_gM6Twoaoph"
      },
      "execution_count": null,
      "outputs": []
    },
    {
      "cell_type": "code",
      "source": [
        "nlp = spacy.load(\"pt_core_news_lg\")\n",
        "\n",
        "def preprocess_text(text):\n",
        "    doc = nlp(text.lower())\n",
        "    filtered_words = [token.lemma_ for token in doc if not token.is_stop and not token.is_punct]\n",
        "    return ' '.join(filtered_words)"
      ],
      "metadata": {
        "id": "w0WYGoEKXj78"
      },
      "execution_count": null,
      "outputs": []
    },
    {
      "cell_type": "code",
      "source": [
        "x_train = x_train['0'].apply(preprocess_text)\n",
        "x_val = x_val['0'].apply(preprocess_text)"
      ],
      "metadata": {
        "id": "kUj-Sj18X4ap"
      },
      "execution_count": null,
      "outputs": []
    },
    {
      "cell_type": "markdown",
      "metadata": {
        "id": "XWPzsuHLS5Tl"
      },
      "source": [
        "### Tokenization"
      ]
    },
    {
      "cell_type": "code",
      "execution_count": 34,
      "metadata": {
        "id": "gR1_5USAS5Tl"
      },
      "outputs": [],
      "source": [
        "# maximum number of tokens\n",
        "TOK_MAX = 20000"
      ]
    },
    {
      "cell_type": "code",
      "execution_count": 35,
      "metadata": {
        "id": "CQFrtox-S5Tl"
      },
      "outputs": [],
      "source": [
        "# Limit on the length of text sequences. Sequences longer than this\n",
        "# will be truncated.\n",
        "MAX_SEQUENCE_LENGTH = 300"
      ]
    },
    {
      "cell_type": "code",
      "execution_count": 36,
      "metadata": {
        "id": "udXcPFuOS5Tl"
      },
      "outputs": [],
      "source": [
        "from keras.layers import TextVectorization\n",
        "\n",
        "def tokenization(train_texts, val_texts):\n",
        "    max_length = len(max(train_texts, key=len))\n",
        "    if max_length > MAX_SEQUENCE_LENGTH:\n",
        "        max_length = MAX_SEQUENCE_LENGTH\n",
        "\n",
        "    vectorize_layer = TextVectorization(\n",
        "        max_tokens=TOK_MAX,\n",
        "\t\t    output_mode='int',\n",
        "\t\t    output_sequence_length=max_length)\n",
        "\n",
        "\t# Call adapt on the training texts\n",
        "    vectorize_layer.adapt(train_texts)\n",
        "    x_train = vectorize_layer(train_texts)\n",
        "    x_val = vectorize_layer(val_texts)\n",
        "\n",
        "\t#get the word index\n",
        "    vocab = vectorize_layer.get_vocabulary()\n",
        "    word_index = dict(zip(vocab, range(len(vocab))))\n",
        "\n",
        "    return x_train, x_val, word_index"
      ]
    },
    {
      "cell_type": "code",
      "execution_count": 37,
      "metadata": {
        "id": "WK2QyNh3S5Tm"
      },
      "outputs": [],
      "source": [
        "x_train, x_val, word_index = tokenization(x_train, x_val)"
      ]
    },
    {
      "cell_type": "code",
      "execution_count": 38,
      "metadata": {
        "colab": {
          "base_uri": "https://localhost:8080/"
        },
        "id": "uZPPbFzXS5Tm",
        "outputId": "2ce55b39-f5d4-4f8f-f34c-1d4a595d4136"
      },
      "outputs": [
        {
          "output_type": "execute_result",
          "data": {
            "text/plain": [
              "TensorShape([24174, 300])"
            ]
          },
          "metadata": {},
          "execution_count": 38
        }
      ],
      "source": [
        "x_train.shape"
      ]
    },
    {
      "cell_type": "markdown",
      "metadata": {
        "id": "k5DJgjXZS5Tm"
      },
      "source": [
        "### Encode the labels into integers"
      ]
    },
    {
      "cell_type": "code",
      "execution_count": 39,
      "metadata": {
        "id": "BTok9iZLS5Tm"
      },
      "outputs": [],
      "source": [
        "# encode the labels\n",
        "from sklearn.preprocessing import LabelEncoder\n",
        "\n",
        "def encode_label(train_labels, val_labels):\n",
        "    \"\"\"Encodes training and validation labels and returns a dictionary mapping labels to codes.\n",
        "\n",
        "\t# Arguments\n",
        "\t\ttrain_labels: list, training labels.\n",
        "\t\tval_labels: list, validation labels.\n",
        "\n",
        "\t# Returns\n",
        "\t\ty_train, y_val, label_mapping: encoded labels and a dictionary mapping labels to codes.\n",
        "\t\"\"\"\n",
        "    encoder = LabelEncoder()\n",
        "    encoder.fit(train_labels)\n",
        "    y_train = encoder.transform(train_labels)\n",
        "    y_val = encoder.transform(val_labels)\n",
        "\n",
        "    label_mapping = dict(zip(encoder.classes_, encoder.transform(encoder.classes_)))\n",
        "\n",
        "    return y_train, y_val, label_mapping"
      ]
    },
    {
      "cell_type": "code",
      "execution_count": 40,
      "metadata": {
        "id": "zWotGoICS5Tm"
      },
      "outputs": [],
      "source": [
        "y_train, y_val, label_mapping = encode_label(y_train, y_val)"
      ]
    },
    {
      "cell_type": "code",
      "execution_count": 41,
      "metadata": {
        "colab": {
          "base_uri": "https://localhost:8080/"
        },
        "id": "du23wjRCS5Tm",
        "outputId": "c298137f-cee1-4f74-934f-2a1665679122"
      },
      "outputs": [
        {
          "output_type": "execute_result",
          "data": {
            "text/plain": [
              "{'actualidade': 0,\n",
              " 'ambiente': 1,\n",
              " 'bem-estar': 2,\n",
              " 'casa & vida': 3,\n",
              " 'celebridades': 4,\n",
              " 'ciência': 5,\n",
              " 'comida & bebida': 6,\n",
              " 'comédia': 7,\n",
              " 'crime': 8,\n",
              " 'cultura & artes': 9,\n",
              " 'desporto': 10,\n",
              " 'dinheiro': 11,\n",
              " 'educação': 12,\n",
              " 'entretenimento': 13,\n",
              " 'estilo & beleza': 14,\n",
              " 'impacto': 15,\n",
              " 'meia idade': 16,\n",
              " 'meios de comunicação': 17,\n",
              " 'mulher': 18,\n",
              " 'negócios': 19,\n",
              " 'notícias do mundo': 20,\n",
              " 'notícias estranhas': 21,\n",
              " 'parentalidade': 22,\n",
              " 'política': 23,\n",
              " 'religião': 24,\n",
              " 'tecnologia': 25,\n",
              " 'verde': 26,\n",
              " 'viagens': 27,\n",
              " 'vida saudável': 28}"
            ]
          },
          "metadata": {},
          "execution_count": 41
        }
      ],
      "source": [
        "label_mapping"
      ]
    },
    {
      "cell_type": "markdown",
      "metadata": {
        "id": "dr4FyoQDS5Tn"
      },
      "source": [
        "## Building, Training, and Evaluating the Model\n"
      ]
    },
    {
      "cell_type": "markdown",
      "metadata": {
        "id": "ECchzvzfmMlO"
      },
      "source": [
        "####GloVe"
      ]
    },
    {
      "cell_type": "code",
      "execution_count": 42,
      "metadata": {
        "id": "BWgAbSk7lTWQ"
      },
      "outputs": [],
      "source": [
        "file_name = 'glove_s300.txt'\n",
        "full_path = os.path.join(folder_path, file_name)"
      ]
    },
    {
      "cell_type": "code",
      "execution_count": 43,
      "metadata": {
        "colab": {
          "base_uri": "https://localhost:8080/"
        },
        "id": "2SCd77iMmCXa",
        "outputId": "e1959782-40b8-40a0-ee2b-3aaa408e2eeb"
      },
      "outputs": [
        {
          "output_type": "stream",
          "name": "stdout",
          "text": [
            "Skipping line: 00 % -0.040023 -0.002672 -0.022858 0.260644 -0.017643 0.001173 -0.068368 0.048179 -0.018346 -0.009830 0.093557 0.053164 0.061118 -0.056703 0.024302 0.053458 -0.142352 0.031597 -0.055382 -0.022695 0.014720 0.026441 -0.002465 0.054266 0.048117 -0.003321 -0.097339 0.002167 0.090516 -0.085564 0.041040 0.031038 -0.014851 -0.007635 -0.017377 0.079232 0.042513 -0.061471 0.140850 0.044054 0.029572 -0.089555 0.065983 0.007121 0.043298 0.106403 -0.061894 -0.027963 0.013746 0.145442 0.066288 0.023571 0.096237 0.027561 -0.065272 0.187776 0.002649 -0.107769 0.053745 0.024152 0.042198 0.070686 -0.005959 0.179837 0.044830 0.017814 -0.001553 -0.023306 -0.067288 0.049581 0.032340 0.005777 0.049695 0.066404 -0.030094 0.099784 0.088351 0.187100 -0.035177 -0.010672 -0.116715 0.055017 -0.078796 0.093464 -0.065208 0.005161 -0.122170 -0.180093 0.120717 -0.020808 0.033636 -0.024732 0.008585 -0.065151 -0.090832 -0.066617 0.052820 0.000154 -0.016564 -0.080445 0.004378 -0.068553 -0.039122 0.083742 -0.163279 -0.023150 0.096041 -0.015628 -0.046059 0.010178 0.003537 -0.105812 -0.138637 0.043990 -0.078620 -0.013605 -0.151520 0.020370 -0.015624 -0.100677 -0.012553 0.006615 -0.049154 0.064375 0.043693 -0.066570 0.081695 0.018924 -0.066992 0.083556 0.073365 0.057158 0.015365 -0.077473 0.021085 0.045464 -0.067706 -0.036469 -0.003959 -0.037476 -0.068256 -0.031870 0.080661 -0.030518 0.086443 0.004280 0.016900 0.025838 -0.025734 -0.041863 0.047083 -0.045739 -0.054092 0.011406 -0.027269 0.003458 0.041909 -0.140724 -0.013196 0.021753 -0.024021 -0.061261 -0.000408 -0.004810 0.015208 -0.080448 0.034301 -0.065417 -0.026072 -0.043871 -0.025562 0.032448 -0.035726 -0.086621 -0.127477 -0.059691 0.005145 0.002314 -0.029026 -0.039372 0.028666 0.125773 0.032934 0.101873 -0.109249 0.014028 0.039427 -0.061977 0.028229 0.057702 -0.094379 -0.094820 -0.017745 -0.096395 0.072009 0.028554 -0.193787 -0.018952 0.086632 -0.082300 0.069927 0.031759 -0.144237 0.069915 -0.041234 0.011538 0.018340 -0.041181 -0.070854 0.132432 0.102440 -0.011246 0.071450 -0.004019 -0.077213 0.083743 -0.087274 0.068879 -0.039609 -0.017774 -0.114934 0.046783 0.005672 -0.051441 -0.004624 0.077948 -0.010824 -0.131517 0.027721 -0.004155 -0.036158 0.046982 -0.019599 0.000161 -0.005439 -0.014474 0.022941 0.122834 0.019820 0.001141 -0.036026 0.002245 -0.089785 -0.070320 0.045082 0.076069 -0.122999 -0.069049 0.058832 -0.052784 -0.054312 -0.001354 0.115660 0.035403 -0.052214 -0.001752 -0.035319 0.012842 -0.093083 -0.106162 -0.077672 0.096764 0.136384 -0.087834 0.032546 -0.055520 0.072866 0.082213 -0.008883 -0.011797 0.022290 -0.072048 0.063472 -0.106137 -0.071353 0.018117 0.074253 0.036823 -0.091506 -0.048735 -0.004805 0.057595 0.012811 0.028772 -0.018722 -0.032278 0.108566 -0.085269 -0.050043 -0.057118 0.050062 0.084897 0.023795 0.025123 0.067107 -0.016234 0.053258 0.066168 -0.197217 0.013565\n",
            "\n",
            "Skipping line: 三藏法師玄奘奉　詔譯 0.055343 0.047489 0.009971 0.057444 0.000624 0.019479 0.013518 -0.075485 -0.029245 -0.040896 0.002849 -0.024021 0.151589 -0.015256 0.032637 0.072452 -0.057088 0.013790 -0.019514 -0.014382 -0.003135 -0.013289 -0.041818 -0.040908 0.109308 0.032450 0.005359 0.068273 0.049099 -0.043807 0.050223 -0.018773 0.030901 -0.068549 -0.042805 0.052794 0.043984 0.007190 0.086133 -0.080997 -0.016174 0.046053 -0.008361 0.005456 -0.008835 -0.030213 -0.027956 0.053711 0.035797 -0.022736 -0.031581 0.064228 0.008604 0.026012 0.025808 -0.071050 0.058257 0.056146 0.011449 0.092708 -0.037421 0.005956 -0.002486 -0.035330 -0.036316 -0.021288 0.023861 0.051606 -0.025893 0.019813 0.020419 -0.103940 -0.074779 0.005244 -0.001317 0.028503 -0.043235 -0.024966 0.081085 0.083228 -0.007093 0.074006 0.049800 -0.055285 -0.056059 -0.040778 0.014356 -0.003803 0.041409 -0.006319 -0.003258 -0.097394 0.119487 0.007616 0.083314 0.062958 -0.031325 0.057243 -0.016699 -0.004996 -0.007241 0.006659 0.002254 -0.018746 -0.248240 -0.006738 0.100710 0.095174 -0.070667 0.096431 -0.003831 -0.006469 0.150271 0.006682 -0.012626 0.046968 -0.023815 -0.011714 -0.052878 -0.006847 -0.017111 -0.031169 -0.022112 -0.027170 0.019812 -0.002564 0.019116 0.072122 0.021485 0.078969 0.100234 0.104063 -0.021624 0.098611 0.061119 0.037615 -0.044909 -0.083476 0.084316 -0.093949 0.007886 0.111969 0.072304 -0.019963 0.002336 -0.029188 -0.005045 0.005094 0.005217 0.018192 0.046527 -0.057131 -0.008173 -0.059436 0.026350 0.055214 -0.027706 0.037706 -0.029097 0.004176 0.044691 0.050614 -0.067354 0.040628 0.018434 0.038881 0.076380 0.015428 -0.049342 -0.079480 0.054079 -0.034442 0.030005 -0.025375 -0.075938 -0.059697 -0.037829 0.081882 0.029181 0.111452 -0.029601 0.019102 0.105590 0.086366 0.015526 -0.048045 -0.014895 -0.007808 0.057291 -0.038583 -0.011537 -0.024393 0.100328 -0.015703 0.080506 0.011743 -0.039519 0.030204 -0.000151 0.055951 0.007224 -0.020640 -0.005259 -0.034034 -0.112513 0.049057 0.027799 -0.091018 -0.082344 -0.060042 -0.057267 -0.024862 0.056761 -0.045647 -0.117516 -0.011764 0.046379 0.044930 0.005675 0.036896 -0.029174 -0.048481 -0.015036 -0.013767 -0.070287 -0.034870 0.050454 -0.005725 0.038896 -0.024473 -0.034842 -0.054405 -0.075834 0.012547 -0.009909 -0.084029 -0.067204 -0.022447 -0.177500 0.010014 -0.053509 -0.020331 -0.005704 0.042520 0.013745 -0.001995 -0.005755 -0.055228 -0.009515 -0.023251 -0.075525 -0.013285 -0.047900 0.010061 -0.041243 0.034792 -0.068624 0.061465 -0.051529 -0.040019 0.061989 0.026119 0.134272 0.004462 0.064603 0.011218 -0.010928 0.005298 -0.049286 -0.043340 -0.022093 -0.028086 -0.036891 0.039033 0.023726 0.106404 0.068413 0.013473 0.045690 0.034740 -0.040823 -0.042045 -0.035951 -0.025711 -0.116452 -0.028927 -0.016947 0.023373 -0.060015 -0.095518 0.084702 -0.004717 0.007834 0.051170 -0.004926 0.048039 0.006905 0.033700 -0.016346 -0.030291\n",
            "\n",
            "Total 928639 word vectors.\n"
          ]
        }
      ],
      "source": [
        "embeddings_index = {}\n",
        "\n",
        "def is_float(element):\n",
        "    try:\n",
        "        float(element)\n",
        "        return True\n",
        "    except ValueError:\n",
        "        return False\n",
        "\n",
        "with open(full_path, encoding='utf-8') as f:\n",
        "    for line in f:\n",
        "        values = line.replace(',', '.').split()\n",
        "        word = values[0]\n",
        "        # Check if all elements can be converted to float\n",
        "        if all(is_float(v) for v in values[1:]):\n",
        "            vector = np.asarray(values[1:], dtype='float32')\n",
        "            embeddings_index[word] = vector\n",
        "        else:\n",
        "            print(f\"Skipping line: {line}\")\n",
        "\n",
        "print('Total %s word vectors.' % len(embeddings_index))"
      ]
    },
    {
      "cell_type": "code",
      "execution_count": 44,
      "metadata": {
        "colab": {
          "base_uri": "https://localhost:8080/"
        },
        "id": "suC9FAR-nF43",
        "outputId": "bf270fde-82a6-492b-c53a-2f913a6c1d15"
      },
      "outputs": [
        {
          "output_type": "stream",
          "name": "stdout",
          "text": [
            "Found 20000 unique tokens.\n",
            "Total 928639 word vectors.\n"
          ]
        }
      ],
      "source": [
        "print('Found %s unique tokens.' % len(word_index))\n",
        "print('Total %s word vectors.' % len(embeddings_index))"
      ]
    },
    {
      "cell_type": "code",
      "execution_count": 45,
      "metadata": {
        "id": "XENTkhEjnC3-"
      },
      "outputs": [],
      "source": [
        "embeddings_dim = 300\n",
        "\n",
        "embedding_matrix = np.zeros((len(word_index) + 1, embeddings_dim))\n",
        "\n",
        "for word, i in word_index.items():\n",
        "    embedding_vector = embeddings_index.get(word)\n",
        "    if embedding_vector is not None:\n",
        "        # Ensure the embedding_vector is of the correct shape (300,)\n",
        "        embedding_matrix[i] = embedding_vector[:embeddings_dim]"
      ]
    },
    {
      "cell_type": "markdown",
      "metadata": {
        "id": "YKHUOpMiS5To"
      },
      "source": [
        "### LSTM with Attention"
      ]
    },
    {
      "cell_type": "code",
      "execution_count": 46,
      "metadata": {
        "id": "zQaBSG89S5To"
      },
      "outputs": [],
      "source": [
        "from keras import initializers, regularizers, constraints\n",
        "from keras.layers import Layer\n",
        "from keras import backend as K\n",
        "\n",
        "class Attention(Layer):\n",
        "    def __init__(self, step_dim,\n",
        "                 W_regularizer=None, b_regularizer=None,\n",
        "                 W_constraint=None, b_constraint=None,\n",
        "                 bias=True, **kwargs):\n",
        "        self.supports_masking = True\n",
        "        self.init = initializers.get('glorot_uniform')\n",
        "\n",
        "        self.W_regularizer = regularizers.get(W_regularizer)\n",
        "        self.b_regularizer = regularizers.get(b_regularizer)\n",
        "\n",
        "        self.W_constraint = constraints.get(W_constraint)\n",
        "        self.b_constraint = constraints.get(b_constraint)\n",
        "\n",
        "        self.bias = bias\n",
        "        self.step_dim = step_dim\n",
        "        self.features_dim = 0\n",
        "        super(Attention, self).__init__(**kwargs)\n",
        "\n",
        "    def build(self, input_shape):\n",
        "        assert len(input_shape) == 3\n",
        "\n",
        "        self.W = self.add_weight(shape=(input_shape[-1],),\n",
        "                                 initializer=self.init,\n",
        "                                 name='{}_W'.format(self.name),\n",
        "                                 regularizer=self.W_regularizer,\n",
        "                                 constraint=self.W_constraint)\n",
        "        self.features_dim = input_shape[-1]\n",
        "\n",
        "        if self.bias:\n",
        "            self.b = self.add_weight(shape=(input_shape[1],),\n",
        "                                     initializer='zero',\n",
        "                                     name='{}_b'.format(self.name),\n",
        "                                     regularizer=self.b_regularizer,\n",
        "                                     constraint=self.b_constraint)\n",
        "        else:\n",
        "            self.b = None\n",
        "\n",
        "        super(Attention, self).build(input_shape)\n",
        "\n",
        "    def compute_mask(self, input, input_mask=None):\n",
        "        return None\n",
        "\n",
        "    def call(self, x, mask=None):\n",
        "        features_dim = self.features_dim\n",
        "        step_dim = self.step_dim\n",
        "\n",
        "        eij = tf.reshape(tf.linalg.matmul(tf.reshape(x, (-1, features_dim)),\n",
        "                              tf.reshape(self.W, (features_dim, 1))), (-1, step_dim))\n",
        "\n",
        "        if self.bias:\n",
        "            eij += self.b\n",
        "\n",
        "        eij = tf.math.tanh(eij)\n",
        "\n",
        "        a = tf.math.exp(eij)\n",
        "\n",
        "        if mask is not None:\n",
        "            a *= tf.cast(mask, tf.float32)\n",
        "\n",
        "        a /= tf.cast(tf.reduce_sum(a, axis=1, keepdims=True) + K.epsilon(), tf.float32)\n",
        "\n",
        "        a = tf.expand_dims(a, axis=1)\n",
        "        weighted_input = x * a\n",
        "        return tf.reduce_sum(weighted_input, axis=1)\n",
        "\n",
        "    def compute_output_shape(self, input_shape):\n",
        "        return input_shape[0],  self.features_dim"
      ]
    },
    {
      "cell_type": "code",
      "execution_count": 47,
      "metadata": {
        "id": "hzTBrJh-S5Tp"
      },
      "outputs": [],
      "source": [
        "from keras.layers import LSTM, BatchNormalization, Embedding, Dense, Dropout, Input\n",
        "from keras.optimizers import Adam\n",
        "from keras.initializers import Constant\n",
        "from keras.models import Model\n",
        "\n",
        "def lstm_model(lstm_units, dropout_rate, dense_units, learning_rate=0.001):\n",
        "    embedding_layer = Embedding(input_dim=len(word_index) + 1,\n",
        "                                output_dim=embeddings_dim,\n",
        "                                embeddings_initializer=Constant(embedding_matrix),\n",
        "                                trainable=True,\n",
        "                                name='embedding_layer')\n",
        "\n",
        "    lstm_layer = LSTM(\n",
        "        units=lstm_units,\n",
        "        dropout=dropout_rate,\n",
        "        recurrent_dropout=dropout_rate,\n",
        "        return_sequences=True,\n",
        "        name='lstm_layer'\n",
        "    )\n",
        "\n",
        "    model_input = Input(shape=(x_train.shape[1],), name='model_input')\n",
        "\n",
        "    embedding = embedding_layer(model_input)\n",
        "\n",
        "    lstm_output = lstm_layer(embedding)\n",
        "    lstm_output = Dropout(dropout_rate, name='lstm_dropout')(lstm_output)\n",
        "\n",
        "    attention_output = Attention(x_train.shape[1], name='attention_layer')(lstm_output)\n",
        "\n",
        "    dense_output = Dense(dense_units, activation='relu', name='dense_layer')(attention_output)\n",
        "    dense_output = Dropout(dropout_rate)(dense_output)\n",
        "    dense_output = BatchNormalization(name='batch_normalization')(dense_output)\n",
        "\n",
        "    model_output = Dense(29, activation='softmax')(dense_output)\n",
        "\n",
        "    model = Model(inputs=model_input, outputs=model_output, name='lstm_attention_model')\n",
        "\n",
        "    optimizer = Adam(learning_rate=learning_rate)\n",
        "\n",
        "    model.compile(loss='sparse_categorical_crossentropy', optimizer=optimizer, metrics=['acc'])\n",
        "\n",
        "    return model"
      ]
    },
    {
      "cell_type": "code",
      "execution_count": 48,
      "metadata": {
        "colab": {
          "base_uri": "https://localhost:8080/"
        },
        "id": "JQi6AP-JS5Tp",
        "outputId": "686dd69a-2d7e-4df5-83c8-eb7baa338b2a"
      },
      "outputs": [
        {
          "output_type": "stream",
          "name": "stderr",
          "text": [
            "WARNING:tensorflow:Layer lstm_layer will not use cuDNN kernels since it doesn't meet the criteria. It will use a generic GPU kernel as fallback when running on GPU.\n"
          ]
        }
      ],
      "source": [
        "# MAX_SEQUENCE_LENGTH = 300\n",
        "lstm_model_test = lstm_model(300, 0.25, 256)"
      ]
    },
    {
      "cell_type": "code",
      "execution_count": 49,
      "metadata": {
        "colab": {
          "base_uri": "https://localhost:8080/"
        },
        "id": "a4CtMV6GS5Tp",
        "outputId": "057119f9-92dd-4ec9-d91e-f0857de33229"
      },
      "outputs": [
        {
          "output_type": "stream",
          "name": "stdout",
          "text": [
            "Model: \"lstm_attention_model\"\n",
            "_________________________________________________________________\n",
            " Layer (type)                Output Shape              Param #   \n",
            "=================================================================\n",
            " model_input (InputLayer)    [(None, 300)]             0         \n",
            "                                                                 \n",
            " embedding_layer (Embedding  (None, 300, 300)          6000300   \n",
            " )                                                               \n",
            "                                                                 \n",
            " lstm_layer (LSTM)           (None, 300, 300)          721200    \n",
            "                                                                 \n",
            " lstm_dropout (Dropout)      (None, 300, 300)          0         \n",
            "                                                                 \n",
            " attention_layer (Attention  (None, 300)               600       \n",
            " )                                                               \n",
            "                                                                 \n",
            " dense_layer (Dense)         (None, 256)               77056     \n",
            "                                                                 \n",
            " dropout (Dropout)           (None, 256)               0         \n",
            "                                                                 \n",
            " batch_normalization (Batch  (None, 256)               1024      \n",
            " Normalization)                                                  \n",
            "                                                                 \n",
            " dense (Dense)               (None, 29)                7453      \n",
            "                                                                 \n",
            "=================================================================\n",
            "Total params: 6807633 (25.97 MB)\n",
            "Trainable params: 6807121 (25.97 MB)\n",
            "Non-trainable params: 512 (2.00 KB)\n",
            "_________________________________________________________________\n"
          ]
        }
      ],
      "source": [
        "lstm_model_test.summary()"
      ]
    },
    {
      "cell_type": "code",
      "execution_count": 50,
      "metadata": {
        "colab": {
          "base_uri": "https://localhost:8080/"
        },
        "id": "hqi501QXS5Tp",
        "outputId": "f699022d-246e-4508-a3dc-1fcf35cb125f"
      },
      "outputs": [
        {
          "output_type": "stream",
          "name": "stdout",
          "text": [
            "Epoch 1/6\n",
            "756/756 [==============================] - 599s 783ms/step - loss: 2.0708 - acc: 0.4044 - val_loss: 1.7327 - val_acc: 0.4871\n",
            "Epoch 2/6\n",
            "756/756 [==============================] - 584s 773ms/step - loss: 1.3450 - acc: 0.6020 - val_loss: 1.4999 - val_acc: 0.5726\n",
            "Epoch 3/6\n",
            "756/756 [==============================] - 576s 762ms/step - loss: 0.9477 - acc: 0.7180 - val_loss: 1.6901 - val_acc: 0.5536\n",
            "Epoch 4/6\n",
            "756/756 [==============================] - 580s 768ms/step - loss: 0.6286 - acc: 0.8082 - val_loss: 1.7554 - val_acc: 0.5730\n",
            "Epoch 5/6\n",
            "756/756 [==============================] - 577s 763ms/step - loss: 0.3894 - acc: 0.8784 - val_loss: 2.0618 - val_acc: 0.5592\n",
            "Epoch 6/6\n",
            "756/756 [==============================] - 576s 763ms/step - loss: 0.2373 - acc: 0.9246 - val_loss: 2.4429 - val_acc: 0.5682\n"
          ]
        }
      ],
      "source": [
        "history_test = lstm_model_test.fit(x_train, y_train, batch_size=32, epochs=6, validation_data=(x_val, y_val))"
      ]
    },
    {
      "cell_type": "code",
      "execution_count": 53,
      "metadata": {
        "id": "2xYgAlUKS5Tq"
      },
      "outputs": [],
      "source": [
        "def plot_graphs(history, string):\n",
        "\tplt.plot(history.history[string])\n",
        "\tplt.plot(history.history['val_'+string])\n",
        "\tplt.xlabel(\"Epochs\")\n",
        "\tplt.ylabel(string)\n",
        "\tplt.legend([string, 'val_'+string])\n",
        "\tplt.show()"
      ]
    },
    {
      "cell_type": "code",
      "execution_count": 54,
      "metadata": {
        "colab": {
          "base_uri": "https://localhost:8080/",
          "height": 449
        },
        "id": "9sjXY7hAS5Tq",
        "outputId": "d22c15fc-f25b-4e85-e812-b67038254cb1"
      },
      "outputs": [
        {
          "output_type": "display_data",
          "data": {
            "text/plain": [
              "<Figure size 640x480 with 1 Axes>"
            ],
            "image/png": "[encoded data removed]"
          },
          "metadata": {}
        }
      ],
      "source": [
        "plot_graphs(history_test, \"acc\")"
      ]
    },
    {
      "cell_type": "code",
      "execution_count": 55,
      "metadata": {
        "colab": {
          "base_uri": "https://localhost:8080/",
          "height": 449
        },
        "id": "4PGymOU8S5Tq",
        "outputId": "204e2a27-61a6-4606-de1c-bee4e4022ca4"
      },
      "outputs": [
        {
          "output_type": "display_data",
          "data": {
            "text/plain": [
              "<Figure size 640x480 with 1 Axes>"
            ],
            "image/png": "[encoded data removed]"
          },
          "metadata": {}
        }
      ],
      "source": [
        "plot_graphs(history_test, \"loss\")"
      ]
    },
    {
      "cell_type": "code",
      "execution_count": 51,
      "metadata": {
        "colab": {
          "base_uri": "https://localhost:8080/"
        },
        "id": "7m3eWQSH8jmR",
        "outputId": "6d34dbd4-e299-49b5-f7b8-2f82065a92c7"
      },
      "outputs": [
        {
          "output_type": "stream",
          "name": "stderr",
          "text": [
            "WARNING:tensorflow:Layer lstm_layer will not use cuDNN kernels since it doesn't meet the criteria. It will use a generic GPU kernel as fallback when running on GPU.\n"
          ]
        },
        {
          "output_type": "stream",
          "name": "stdout",
          "text": [
            "Model: \"lstm_attention_model\"\n",
            "_________________________________________________________________\n",
            " Layer (type)                Output Shape              Param #   \n",
            "=================================================================\n",
            " model_input (InputLayer)    [(None, 300)]             0         \n",
            "                                                                 \n",
            " embedding_layer (Embedding  (None, 300, 300)          6000300   \n",
            " )                                                               \n",
            "                                                                 \n",
            " lstm_layer (LSTM)           (None, 300, 300)          721200    \n",
            "                                                                 \n",
            " lstm_dropout (Dropout)      (None, 300, 300)          0         \n",
            "                                                                 \n",
            " attention_layer (Attention  (None, 300)               600       \n",
            " )                                                               \n",
            "                                                                 \n",
            " dense_layer (Dense)         (None, 256)               77056     \n",
            "                                                                 \n",
            " dropout_1 (Dropout)         (None, 256)               0         \n",
            "                                                                 \n",
            " batch_normalization (Batch  (None, 256)               1024      \n",
            " Normalization)                                                  \n",
            "                                                                 \n",
            " dense_1 (Dense)             (None, 29)                7453      \n",
            "                                                                 \n",
            "=================================================================\n",
            "Total params: 6807633 (25.97 MB)\n",
            "Trainable params: 6807121 (25.97 MB)\n",
            "Non-trainable params: 512 (2.00 KB)\n",
            "_________________________________________________________________\n"
          ]
        }
      ],
      "source": [
        "lstm_model_test_2 = lstm_model(300, 0.25, 256)\n",
        "lstm_model_test_2.summary()"
      ]
    },
    {
      "cell_type": "code",
      "execution_count": 52,
      "metadata": {
        "colab": {
          "base_uri": "https://localhost:8080/"
        },
        "id": "rvYPhaTZ8quo",
        "outputId": "8f7c6a07-0992-4758-fa31-808b602e29c6"
      },
      "outputs": [
        {
          "output_type": "stream",
          "name": "stdout",
          "text": [
            "Epoch 1/6\n",
            "189/189 [==============================] - 156s 807ms/step - loss: 2.1888 - acc: 0.3675 - val_loss: 2.9894 - val_acc: 0.2737\n",
            "Epoch 2/6\n",
            "189/189 [==============================] - 144s 763ms/step - loss: 1.5182 - acc: 0.5540 - val_loss: 2.2949 - val_acc: 0.5195\n",
            "Epoch 3/6\n",
            "189/189 [==============================] - 138s 730ms/step - loss: 1.1779 - acc: 0.6478 - val_loss: 1.5578 - val_acc: 0.5591\n",
            "Epoch 4/6\n",
            "189/189 [==============================] - 138s 732ms/step - loss: 0.9074 - acc: 0.7223 - val_loss: 1.5925 - val_acc: 0.5615\n",
            "Epoch 5/6\n",
            "189/189 [==============================] - 137s 724ms/step - loss: 0.6709 - acc: 0.7945 - val_loss: 1.5981 - val_acc: 0.5865\n",
            "Epoch 6/6\n",
            "189/189 [==============================] - 138s 732ms/step - loss: 0.4705 - acc: 0.8518 - val_loss: 1.9325 - val_acc: 0.5695\n"
          ]
        }
      ],
      "source": [
        "history_test_2 = lstm_model_test_2.fit(x_train, y_train, batch_size=128, epochs=6, validation_data=(x_val, y_val))"
      ]
    },
    {
      "cell_type": "code",
      "source": [
        "model_path = '/content/drive/My Drive/news_classifier/lstm_model_pt.keras'\n",
        "lstm_model_test.save(model_path)"
      ],
      "metadata": {
        "id": "REHGi7RrZTNa"
      },
      "execution_count": 60,
      "outputs": []
    },
    {
      "cell_type": "code",
      "execution_count": 56,
      "metadata": {
        "colab": {
          "base_uri": "https://localhost:8080/",
          "height": 449
        },
        "outputId": "f0afbd00-5035-440e-e944-2acc44e52cc0",
        "id": "6DAhmT7yYlSq"
      },
      "outputs": [
        {
          "output_type": "display_data",
          "data": {
            "text/plain": [
              "<Figure size 640x480 with 1 Axes>"
            ],
            "image/png": "[encoded data removed]"
          },
          "metadata": {}
        }
      ],
      "source": [
        "plot_graphs(history_test_2, \"acc\")"
      ]
    },
    {
      "cell_type": "code",
      "source": [
        "plot_graphs(history_test_2, \"loss\")"
      ],
      "metadata": {
        "colab": {
          "base_uri": "https://localhost:8080/",
          "height": 449
        },
        "id": "S2hpzMNLYo4u",
        "outputId": "cc20f0cc-b39d-4fe9-d2ec-923b167902aa"
      },
      "execution_count": 57,
      "outputs": [
        {
          "output_type": "display_data",
          "data": {
            "text/plain": [
              "<Figure size 640x480 with 1 Axes>"
            ],
            "image/png": "[encoded data removed]"
          },
          "metadata": {}
        }
      ]
    },
    {
      "cell_type": "markdown",
      "metadata": {
        "id": "WfPtM2UsS5Tq"
      },
      "source": [
        "### Tune the hyperparameters"
      ]
    },
    {
      "cell_type": "code",
      "source": [
        "!pip install keras-tuner"
      ],
      "metadata": {
        "colab": {
          "base_uri": "https://localhost:8080/"
        },
        "id": "fDnLwm3WJRU9",
        "outputId": "4c3c7e53-29a3-4efb-fa11-cf856ca13b29"
      },
      "execution_count": null,
      "outputs": [
        {
          "output_type": "stream",
          "name": "stdout",
          "text": [
            "Collecting keras-tuner\n",
            "  Downloading keras_tuner-1.4.7-py3-none-any.whl (129 kB)\n",
            "\u001b[?25l     \u001b[90m━━━━━━━━━━━━━━━━━━━━━━━━━━━━━━━━━━━━━━━━\u001b[0m \u001b[32m0.0/129.1 kB\u001b[0m \u001b[31m?\u001b[0m eta \u001b[36m-:--:--\u001b[0m\r\u001b[2K     \u001b[90m━━━━━━━━━━━━━━━━━━━━━━━━━━━━━━━━━━━━━━━━\u001b[0m \u001b[32m129.1/129.1 kB\u001b[0m \u001b[31m3.7 MB/s\u001b[0m eta \u001b[36m0:00:00\u001b[0m\n",
            "\u001b[?25hRequirement already satisfied: keras in /usr/local/lib/python3.10/dist-packages (from keras-tuner) (2.15.0)\n",
            "Requirement already satisfied: packaging in /usr/local/lib/python3.10/dist-packages (from keras-tuner) (24.0)\n",
            "Requirement already satisfied: requests in /usr/local/lib/python3.10/dist-packages (from keras-tuner) (2.31.0)\n",
            "Collecting kt-legacy (from keras-tuner)\n",
            "  Downloading kt_legacy-1.0.5-py3-none-any.whl (9.6 kB)\n",
            "Requirement already satisfied: charset-normalizer<4,>=2 in /usr/local/lib/python3.10/dist-packages (from requests->keras-tuner) (3.3.2)\n",
            "Requirement already satisfied: idna<4,>=2.5 in /usr/local/lib/python3.10/dist-packages (from requests->keras-tuner) (3.7)\n",
            "Requirement already satisfied: urllib3<3,>=1.21.1 in /usr/local/lib/python3.10/dist-packages (from requests->keras-tuner) (2.0.7)\n",
            "Requirement already satisfied: certifi>=2017.4.17 in /usr/local/lib/python3.10/dist-packages (from requests->keras-tuner) (2024.2.2)\n",
            "Installing collected packages: kt-legacy, keras-tuner\n",
            "Successfully installed keras-tuner-1.4.7 kt-legacy-1.0.5\n"
          ]
        }
      ]
    },
    {
      "cell_type": "code",
      "execution_count": null,
      "metadata": {
        "id": "-yTSQwCCS5Tq"
      },
      "outputs": [],
      "source": [
        "from keras_tuner import RandomSearch\n",
        "\n",
        "def tune_model(hp):\n",
        "    #hyperparameters\n",
        "    dropout_rate = hp.Float('dropout_rate', min_value=0.0, max_value=0.5, step=0.1)\n",
        "    dense_units = hp.Int('dense_units', min_value=32, max_value=512, step=32)\n",
        "    learning_rate = hp.Choice('learning_rate', values=[1e-2, 1e-3, 1e-4])\n",
        "\n",
        "    model = lstm_model(300, dropout_rate, dense_units, learning_rate)\n",
        "\n",
        "    return model"
      ]
    },
    {
      "cell_type": "code",
      "execution_count": null,
      "metadata": {
        "id": "43XqdKIpS5Tq"
      },
      "outputs": [],
      "source": [
        "tuner = RandomSearch(\n",
        "    tune_model,\n",
        "    objective='val_accuracy',\n",
        "    max_trials=5,\n",
        "    executions_per_trial=3,\n",
        "    directory='project',\n",
        "    project_name='lstm_tuning'\n",
        ")"
      ]
    },
    {
      "cell_type": "code",
      "execution_count": null,
      "metadata": {
        "id": "jx1yO5slS5Tr"
      },
      "outputs": [],
      "source": [
        "# MAX_SEQUENCE_LENGTH = 300\n",
        "lstm_model_D = lstm_model(300, 0.25)"
      ]
    },
    {
      "cell_type": "code",
      "execution_count": null,
      "metadata": {
        "id": "ZS4k1MWNS5Tr",
        "outputId": "dfd90b62-f939-4115-d040-1a2045337a62"
      },
      "outputs": [
        {
          "data": {
            "text/html": [
              "<pre style=\"white-space:pre;overflow-x:auto;line-height:normal;font-family:Menlo,'DejaVu Sans Mono',consolas,'Courier New',monospace\"><span style=\"font-weight: bold\">Model: \"functional_1\"</span>\n",
              "</pre>\n"
            ],
            "text/plain": [
              "\u001b[1mModel: \"functional_1\"\u001b[0m\n"
            ]
          },
          "metadata": {},
          "output_type": "display_data"
        },
        {
          "data": {
            "text/html": [
              "<pre style=\"white-space:pre;overflow-x:auto;line-height:normal;font-family:Menlo,'DejaVu Sans Mono',consolas,'Courier New',monospace\">┏━━━━━━━━━━━━━━━━━━━━━━━━━━━━━━━━━┳━━━━━━━━━━━━━━━━━━━━━━━━┳━━━━━━━━━━━━━━━┓\n",
              "┃<span style=\"font-weight: bold\"> Layer (type)                    </span>┃<span style=\"font-weight: bold\"> Output Shape           </span>┃<span style=\"font-weight: bold\">       Param # </span>┃\n",
              "┡━━━━━━━━━━━━━━━━━━━━━━━━━━━━━━━━━╇━━━━━━━━━━━━━━━━━━━━━━━━╇━━━━━━━━━━━━━━━┩\n",
              "│ input_layer (<span style=\"color: #0087ff; text-decoration-color: #0087ff\">InputLayer</span>)        │ (<span style=\"color: #00d7ff; text-decoration-color: #00d7ff\">None</span>, <span style=\"color: #00af00; text-decoration-color: #00af00\">300</span>)            │             <span style=\"color: #00af00; text-decoration-color: #00af00\">0</span> │\n",
              "├─────────────────────────────────┼────────────────────────┼───────────────┤\n",
              "│ embedding (<span style=\"color: #0087ff; text-decoration-color: #0087ff\">Embedding</span>)           │ (<span style=\"color: #00d7ff; text-decoration-color: #00d7ff\">None</span>, <span style=\"color: #00af00; text-decoration-color: #00af00\">300</span>, <span style=\"color: #00af00; text-decoration-color: #00af00\">200</span>)       │    <span style=\"color: #00af00; text-decoration-color: #00af00\">10,675,800</span> │\n",
              "├─────────────────────────────────┼────────────────────────┼───────────────┤\n",
              "│ lstm (<span style=\"color: #0087ff; text-decoration-color: #0087ff\">LSTM</span>)                     │ (<span style=\"color: #00d7ff; text-decoration-color: #00d7ff\">None</span>, <span style=\"color: #00af00; text-decoration-color: #00af00\">300</span>, <span style=\"color: #00af00; text-decoration-color: #00af00\">300</span>)       │       <span style=\"color: #00af00; text-decoration-color: #00af00\">601,200</span> │\n",
              "├─────────────────────────────────┼────────────────────────┼───────────────┤\n",
              "│ dropout (<span style=\"color: #0087ff; text-decoration-color: #0087ff\">Dropout</span>)               │ (<span style=\"color: #00d7ff; text-decoration-color: #00d7ff\">None</span>, <span style=\"color: #00af00; text-decoration-color: #00af00\">300</span>, <span style=\"color: #00af00; text-decoration-color: #00af00\">300</span>)       │             <span style=\"color: #00af00; text-decoration-color: #00af00\">0</span> │\n",
              "├─────────────────────────────────┼────────────────────────┼───────────────┤\n",
              "│ attention (<span style=\"color: #0087ff; text-decoration-color: #0087ff\">Attention</span>)           │ (<span style=\"color: #00d7ff; text-decoration-color: #00d7ff\">None</span>, <span style=\"color: #00af00; text-decoration-color: #00af00\">300</span>)            │           <span style=\"color: #00af00; text-decoration-color: #00af00\">600</span> │\n",
              "├─────────────────────────────────┼────────────────────────┼───────────────┤\n",
              "│ dense (<span style=\"color: #0087ff; text-decoration-color: #0087ff\">Dense</span>)                   │ (<span style=\"color: #00d7ff; text-decoration-color: #00d7ff\">None</span>, <span style=\"color: #00af00; text-decoration-color: #00af00\">256</span>)            │        <span style=\"color: #00af00; text-decoration-color: #00af00\">77,056</span> │\n",
              "├─────────────────────────────────┼────────────────────────┼───────────────┤\n",
              "│ dropout_1 (<span style=\"color: #0087ff; text-decoration-color: #0087ff\">Dropout</span>)             │ (<span style=\"color: #00d7ff; text-decoration-color: #00d7ff\">None</span>, <span style=\"color: #00af00; text-decoration-color: #00af00\">256</span>)            │             <span style=\"color: #00af00; text-decoration-color: #00af00\">0</span> │\n",
              "├─────────────────────────────────┼────────────────────────┼───────────────┤\n",
              "│ batch_normalization             │ (<span style=\"color: #00d7ff; text-decoration-color: #00d7ff\">None</span>, <span style=\"color: #00af00; text-decoration-color: #00af00\">256</span>)            │         <span style=\"color: #00af00; text-decoration-color: #00af00\">1,024</span> │\n",
              "│ (<span style=\"color: #0087ff; text-decoration-color: #0087ff\">BatchNormalization</span>)            │                        │               │\n",
              "├─────────────────────────────────┼────────────────────────┼───────────────┤\n",
              "│ dense_1 (<span style=\"color: #0087ff; text-decoration-color: #0087ff\">Dense</span>)                 │ (<span style=\"color: #00d7ff; text-decoration-color: #00d7ff\">None</span>, <span style=\"color: #00af00; text-decoration-color: #00af00\">29</span>)             │         <span style=\"color: #00af00; text-decoration-color: #00af00\">7,453</span> │\n",
              "└─────────────────────────────────┴────────────────────────┴───────────────┘\n",
              "</pre>\n"
            ],
            "text/plain": [
              "┏━━━━━━━━━━━━━━━━━━━━━━━━━━━━━━━━━┳━━━━━━━━━━━━━━━━━━━━━━━━┳━━━━━━━━━━━━━━━┓\n",
              "┃\u001b[1m \u001b[0m\u001b[1mLayer (type)                   \u001b[0m\u001b[1m \u001b[0m┃\u001b[1m \u001b[0m\u001b[1mOutput Shape          \u001b[0m\u001b[1m \u001b[0m┃\u001b[1m \u001b[0m\u001b[1m      Param #\u001b[0m\u001b[1m \u001b[0m┃\n",
              "┡━━━━━━━━━━━━━━━━━━━━━━━━━━━━━━━━━╇━━━━━━━━━━━━━━━━━━━━━━━━╇━━━━━━━━━━━━━━━┩\n",
              "│ input_layer (\u001b[38;5;33mInputLayer\u001b[0m)        │ (\u001b[38;5;45mNone\u001b[0m, \u001b[38;5;34m300\u001b[0m)            │             \u001b[38;5;34m0\u001b[0m │\n",
              "├─────────────────────────────────┼────────────────────────┼───────────────┤\n",
              "│ embedding (\u001b[38;5;33mEmbedding\u001b[0m)           │ (\u001b[38;5;45mNone\u001b[0m, \u001b[38;5;34m300\u001b[0m, \u001b[38;5;34m200\u001b[0m)       │    \u001b[38;5;34m10,675,800\u001b[0m │\n",
              "├─────────────────────────────────┼────────────────────────┼───────────────┤\n",
              "│ lstm (\u001b[38;5;33mLSTM\u001b[0m)                     │ (\u001b[38;5;45mNone\u001b[0m, \u001b[38;5;34m300\u001b[0m, \u001b[38;5;34m300\u001b[0m)       │       \u001b[38;5;34m601,200\u001b[0m │\n",
              "├─────────────────────────────────┼────────────────────────┼───────────────┤\n",
              "│ dropout (\u001b[38;5;33mDropout\u001b[0m)               │ (\u001b[38;5;45mNone\u001b[0m, \u001b[38;5;34m300\u001b[0m, \u001b[38;5;34m300\u001b[0m)       │             \u001b[38;5;34m0\u001b[0m │\n",
              "├─────────────────────────────────┼────────────────────────┼───────────────┤\n",
              "│ attention (\u001b[38;5;33mAttention\u001b[0m)           │ (\u001b[38;5;45mNone\u001b[0m, \u001b[38;5;34m300\u001b[0m)            │           \u001b[38;5;34m600\u001b[0m │\n",
              "├─────────────────────────────────┼────────────────────────┼───────────────┤\n",
              "│ dense (\u001b[38;5;33mDense\u001b[0m)                   │ (\u001b[38;5;45mNone\u001b[0m, \u001b[38;5;34m256\u001b[0m)            │        \u001b[38;5;34m77,056\u001b[0m │\n",
              "├─────────────────────────────────┼────────────────────────┼───────────────┤\n",
              "│ dropout_1 (\u001b[38;5;33mDropout\u001b[0m)             │ (\u001b[38;5;45mNone\u001b[0m, \u001b[38;5;34m256\u001b[0m)            │             \u001b[38;5;34m0\u001b[0m │\n",
              "├─────────────────────────────────┼────────────────────────┼───────────────┤\n",
              "│ batch_normalization             │ (\u001b[38;5;45mNone\u001b[0m, \u001b[38;5;34m256\u001b[0m)            │         \u001b[38;5;34m1,024\u001b[0m │\n",
              "│ (\u001b[38;5;33mBatchNormalization\u001b[0m)            │                        │               │\n",
              "├─────────────────────────────────┼────────────────────────┼───────────────┤\n",
              "│ dense_1 (\u001b[38;5;33mDense\u001b[0m)                 │ (\u001b[38;5;45mNone\u001b[0m, \u001b[38;5;34m29\u001b[0m)             │         \u001b[38;5;34m7,453\u001b[0m │\n",
              "└─────────────────────────────────┴────────────────────────┴───────────────┘\n"
            ]
          },
          "metadata": {},
          "output_type": "display_data"
        },
        {
          "data": {
            "text/html": [
              "<pre style=\"white-space:pre;overflow-x:auto;line-height:normal;font-family:Menlo,'DejaVu Sans Mono',consolas,'Courier New',monospace\"><span style=\"font-weight: bold\"> Total params: </span><span style=\"color: #00af00; text-decoration-color: #00af00\">11,363,133</span> (43.35 MB)\n",
              "</pre>\n"
            ],
            "text/plain": [
              "\u001b[1m Total params: \u001b[0m\u001b[38;5;34m11,363,133\u001b[0m (43.35 MB)\n"
            ]
          },
          "metadata": {},
          "output_type": "display_data"
        },
        {
          "data": {
            "text/html": [
              "<pre style=\"white-space:pre;overflow-x:auto;line-height:normal;font-family:Menlo,'DejaVu Sans Mono',consolas,'Courier New',monospace\"><span style=\"font-weight: bold\"> Trainable params: </span><span style=\"color: #00af00; text-decoration-color: #00af00\">11,362,621</span> (43.34 MB)\n",
              "</pre>\n"
            ],
            "text/plain": [
              "\u001b[1m Trainable params: \u001b[0m\u001b[38;5;34m11,362,621\u001b[0m (43.34 MB)\n"
            ]
          },
          "metadata": {},
          "output_type": "display_data"
        },
        {
          "data": {
            "text/html": [
              "<pre style=\"white-space:pre;overflow-x:auto;line-height:normal;font-family:Menlo,'DejaVu Sans Mono',consolas,'Courier New',monospace\"><span style=\"font-weight: bold\"> Non-trainable params: </span><span style=\"color: #00af00; text-decoration-color: #00af00\">512</span> (2.00 KB)\n",
              "</pre>\n"
            ],
            "text/plain": [
              "\u001b[1m Non-trainable params: \u001b[0m\u001b[38;5;34m512\u001b[0m (2.00 KB)\n"
            ]
          },
          "metadata": {},
          "output_type": "display_data"
        }
      ],
      "source": [
        "lstm_model_D.summary()"
      ]
    },
    {
      "cell_type": "code",
      "execution_count": null,
      "metadata": {
        "id": "9a2Wb0kuS5Tr",
        "outputId": "f54d850f-f147-46ed-bd12-011fd3c971a4"
      },
      "outputs": [
        {
          "name": "stdout",
          "output_type": "stream",
          "text": [
            "Epoch 1/10\n",
            "\u001b[1m267/267\u001b[0m \u001b[32m━━━━━━━━━━━━━━━━━━━━\u001b[0m\u001b[37m\u001b[0m \u001b[1m527s\u001b[0m 2s/step - acc: 0.2121 - loss: 2.7274 - val_acc: 0.4111 - val_loss: 2.7571\n",
            "Epoch 2/10\n",
            "\u001b[1m267/267\u001b[0m \u001b[32m━━━━━━━━━━━━━━━━━━━━\u001b[0m\u001b[37m\u001b[0m \u001b[1m563s\u001b[0m 2s/step - acc: 0.5093 - loss: 1.6480 - val_acc: 0.5580 - val_loss: 1.6531\n",
            "Epoch 3/10\n",
            "\u001b[1m267/267\u001b[0m \u001b[32m━━━━━━━━━━━━━━━━━━━━\u001b[0m\u001b[37m\u001b[0m \u001b[1m569s\u001b[0m 2s/step - acc: 0.6081 - loss: 1.3070 - val_acc: 0.5993 - val_loss: 1.3524\n",
            "Epoch 4/10\n",
            "\u001b[1m267/267\u001b[0m \u001b[32m━━━━━━━━━━━━━━━━━━━━\u001b[0m\u001b[37m\u001b[0m \u001b[1m567s\u001b[0m 2s/step - acc: 0.6764 - loss: 1.0588 - val_acc: 0.6178 - val_loss: 1.3298\n",
            "Epoch 5/10\n",
            "\u001b[1m267/267\u001b[0m \u001b[32m━━━━━━━━━━━━━━━━━━━━\u001b[0m\u001b[37m\u001b[0m \u001b[1m571s\u001b[0m 2s/step - acc: 0.7255 - loss: 0.8824 - val_acc: 0.6213 - val_loss: 1.3631\n",
            "Epoch 6/10\n",
            "\u001b[1m267/267\u001b[0m \u001b[32m━━━━━━━━━━━━━━━━━━━━\u001b[0m\u001b[37m\u001b[0m \u001b[1m565s\u001b[0m 2s/step - acc: 0.7869 - loss: 0.6915 - val_acc: 0.6314 - val_loss: 1.3769\n",
            "Epoch 7/10\n",
            "\u001b[1m267/267\u001b[0m \u001b[32m━━━━━━━━━━━━━━━━━━━━\u001b[0m\u001b[37m\u001b[0m \u001b[1m576s\u001b[0m 2s/step - acc: 0.8308 - loss: 0.5383 - val_acc: 0.6286 - val_loss: 1.4646\n",
            "Epoch 8/10\n",
            "\u001b[1m267/267\u001b[0m \u001b[32m━━━━━━━━━━━━━━━━━━━━\u001b[0m\u001b[37m\u001b[0m \u001b[1m561s\u001b[0m 2s/step - acc: 0.8765 - loss: 0.4051 - val_acc: 0.6269 - val_loss: 1.5388\n",
            "Epoch 9/10\n",
            "\u001b[1m267/267\u001b[0m \u001b[32m━━━━━━━━━━━━━━━━━━━━\u001b[0m\u001b[37m\u001b[0m \u001b[1m569s\u001b[0m 2s/step - acc: 0.9039 - loss: 0.3030 - val_acc: 0.6121 - val_loss: 1.7693\n",
            "Epoch 10/10\n",
            "\u001b[1m267/267\u001b[0m \u001b[32m━━━━━━━━━━━━━━━━━━━━\u001b[0m\u001b[37m\u001b[0m \u001b[1m556s\u001b[0m 2s/step - acc: 0.9246 - loss: 0.2319 - val_acc: 0.6085 - val_loss: 1.7221\n"
          ]
        }
      ],
      "source": [
        "history_D = lstm_model_D.fit(x_train, y_train, batch_size=128, epochs=10, validation_data=(x_val, y_val), shuffle=True)"
      ]
    },
    {
      "cell_type": "code",
      "execution_count": null,
      "metadata": {
        "id": "14lYBxE7S5Ts"
      },
      "outputs": [],
      "source": [
        "# MAX_SEQUENCE_LENGTH = 300 and dropout = 0.3\n",
        "lstm_model_F = lstm_model(300, 0.3)"
      ]
    },
    {
      "cell_type": "code",
      "execution_count": null,
      "metadata": {
        "id": "qUeRY8UFS5Ts",
        "outputId": "35e05bcb-ac99-4a7e-fd47-5850e1a40294"
      },
      "outputs": [
        {
          "data": {
            "text/html": [
              "<pre style=\"white-space:pre;overflow-x:auto;line-height:normal;font-family:Menlo,'DejaVu Sans Mono',consolas,'Courier New',monospace\"><span style=\"font-weight: bold\">Model: \"functional_3\"</span>\n",
              "</pre>\n"
            ],
            "text/plain": [
              "\u001b[1mModel: \"functional_3\"\u001b[0m\n"
            ]
          },
          "metadata": {},
          "output_type": "display_data"
        },
        {
          "data": {
            "text/html": [
              "<pre style=\"white-space:pre;overflow-x:auto;line-height:normal;font-family:Menlo,'DejaVu Sans Mono',consolas,'Courier New',monospace\">┏━━━━━━━━━━━━━━━━━━━━━━━━━━━━━━━━━┳━━━━━━━━━━━━━━━━━━━━━━━━┳━━━━━━━━━━━━━━━┓\n",
              "┃<span style=\"font-weight: bold\"> Layer (type)                    </span>┃<span style=\"font-weight: bold\"> Output Shape           </span>┃<span style=\"font-weight: bold\">       Param # </span>┃\n",
              "┡━━━━━━━━━━━━━━━━━━━━━━━━━━━━━━━━━╇━━━━━━━━━━━━━━━━━━━━━━━━╇━━━━━━━━━━━━━━━┩\n",
              "│ input_layer_1 (<span style=\"color: #0087ff; text-decoration-color: #0087ff\">InputLayer</span>)      │ (<span style=\"color: #00d7ff; text-decoration-color: #00d7ff\">None</span>, <span style=\"color: #00af00; text-decoration-color: #00af00\">300</span>)            │             <span style=\"color: #00af00; text-decoration-color: #00af00\">0</span> │\n",
              "├─────────────────────────────────┼────────────────────────┼───────────────┤\n",
              "│ embedding_1 (<span style=\"color: #0087ff; text-decoration-color: #0087ff\">Embedding</span>)         │ (<span style=\"color: #00d7ff; text-decoration-color: #00d7ff\">None</span>, <span style=\"color: #00af00; text-decoration-color: #00af00\">300</span>, <span style=\"color: #00af00; text-decoration-color: #00af00\">200</span>)       │     <span style=\"color: #00af00; text-decoration-color: #00af00\">4,000,200</span> │\n",
              "├─────────────────────────────────┼────────────────────────┼───────────────┤\n",
              "│ lstm_1 (<span style=\"color: #0087ff; text-decoration-color: #0087ff\">LSTM</span>)                   │ (<span style=\"color: #00d7ff; text-decoration-color: #00d7ff\">None</span>, <span style=\"color: #00af00; text-decoration-color: #00af00\">300</span>, <span style=\"color: #00af00; text-decoration-color: #00af00\">300</span>)       │       <span style=\"color: #00af00; text-decoration-color: #00af00\">601,200</span> │\n",
              "├─────────────────────────────────┼────────────────────────┼───────────────┤\n",
              "│ dropout_2 (<span style=\"color: #0087ff; text-decoration-color: #0087ff\">Dropout</span>)             │ (<span style=\"color: #00d7ff; text-decoration-color: #00d7ff\">None</span>, <span style=\"color: #00af00; text-decoration-color: #00af00\">300</span>, <span style=\"color: #00af00; text-decoration-color: #00af00\">300</span>)       │             <span style=\"color: #00af00; text-decoration-color: #00af00\">0</span> │\n",
              "├─────────────────────────────────┼────────────────────────┼───────────────┤\n",
              "│ attention_1 (<span style=\"color: #0087ff; text-decoration-color: #0087ff\">Attention</span>)         │ (<span style=\"color: #00d7ff; text-decoration-color: #00d7ff\">None</span>, <span style=\"color: #00af00; text-decoration-color: #00af00\">300</span>)            │           <span style=\"color: #00af00; text-decoration-color: #00af00\">600</span> │\n",
              "├─────────────────────────────────┼────────────────────────┼───────────────┤\n",
              "│ dense_2 (<span style=\"color: #0087ff; text-decoration-color: #0087ff\">Dense</span>)                 │ (<span style=\"color: #00d7ff; text-decoration-color: #00d7ff\">None</span>, <span style=\"color: #00af00; text-decoration-color: #00af00\">256</span>)            │        <span style=\"color: #00af00; text-decoration-color: #00af00\">77,056</span> │\n",
              "├─────────────────────────────────┼────────────────────────┼───────────────┤\n",
              "│ dropout_3 (<span style=\"color: #0087ff; text-decoration-color: #0087ff\">Dropout</span>)             │ (<span style=\"color: #00d7ff; text-decoration-color: #00d7ff\">None</span>, <span style=\"color: #00af00; text-decoration-color: #00af00\">256</span>)            │             <span style=\"color: #00af00; text-decoration-color: #00af00\">0</span> │\n",
              "├─────────────────────────────────┼────────────────────────┼───────────────┤\n",
              "│ batch_normalization_1           │ (<span style=\"color: #00d7ff; text-decoration-color: #00d7ff\">None</span>, <span style=\"color: #00af00; text-decoration-color: #00af00\">256</span>)            │         <span style=\"color: #00af00; text-decoration-color: #00af00\">1,024</span> │\n",
              "│ (<span style=\"color: #0087ff; text-decoration-color: #0087ff\">BatchNormalization</span>)            │                        │               │\n",
              "├─────────────────────────────────┼────────────────────────┼───────────────┤\n",
              "│ dense_3 (<span style=\"color: #0087ff; text-decoration-color: #0087ff\">Dense</span>)                 │ (<span style=\"color: #00d7ff; text-decoration-color: #00d7ff\">None</span>, <span style=\"color: #00af00; text-decoration-color: #00af00\">31</span>)             │         <span style=\"color: #00af00; text-decoration-color: #00af00\">7,967</span> │\n",
              "└─────────────────────────────────┴────────────────────────┴───────────────┘\n",
              "</pre>\n"
            ],
            "text/plain": [
              "┏━━━━━━━━━━━━━━━━━━━━━━━━━━━━━━━━━┳━━━━━━━━━━━━━━━━━━━━━━━━┳━━━━━━━━━━━━━━━┓\n",
              "┃\u001b[1m \u001b[0m\u001b[1mLayer (type)                   \u001b[0m\u001b[1m \u001b[0m┃\u001b[1m \u001b[0m\u001b[1mOutput Shape          \u001b[0m\u001b[1m \u001b[0m┃\u001b[1m \u001b[0m\u001b[1m      Param #\u001b[0m\u001b[1m \u001b[0m┃\n",
              "┡━━━━━━━━━━━━━━━━━━━━━━━━━━━━━━━━━╇━━━━━━━━━━━━━━━━━━━━━━━━╇━━━━━━━━━━━━━━━┩\n",
              "│ input_layer_1 (\u001b[38;5;33mInputLayer\u001b[0m)      │ (\u001b[38;5;45mNone\u001b[0m, \u001b[38;5;34m300\u001b[0m)            │             \u001b[38;5;34m0\u001b[0m │\n",
              "├─────────────────────────────────┼────────────────────────┼───────────────┤\n",
              "│ embedding_1 (\u001b[38;5;33mEmbedding\u001b[0m)         │ (\u001b[38;5;45mNone\u001b[0m, \u001b[38;5;34m300\u001b[0m, \u001b[38;5;34m200\u001b[0m)       │     \u001b[38;5;34m4,000,200\u001b[0m │\n",
              "├─────────────────────────────────┼────────────────────────┼───────────────┤\n",
              "│ lstm_1 (\u001b[38;5;33mLSTM\u001b[0m)                   │ (\u001b[38;5;45mNone\u001b[0m, \u001b[38;5;34m300\u001b[0m, \u001b[38;5;34m300\u001b[0m)       │       \u001b[38;5;34m601,200\u001b[0m │\n",
              "├─────────────────────────────────┼────────────────────────┼───────────────┤\n",
              "│ dropout_2 (\u001b[38;5;33mDropout\u001b[0m)             │ (\u001b[38;5;45mNone\u001b[0m, \u001b[38;5;34m300\u001b[0m, \u001b[38;5;34m300\u001b[0m)       │             \u001b[38;5;34m0\u001b[0m │\n",
              "├─────────────────────────────────┼────────────────────────┼───────────────┤\n",
              "│ attention_1 (\u001b[38;5;33mAttention\u001b[0m)         │ (\u001b[38;5;45mNone\u001b[0m, \u001b[38;5;34m300\u001b[0m)            │           \u001b[38;5;34m600\u001b[0m │\n",
              "├─────────────────────────────────┼────────────────────────┼───────────────┤\n",
              "│ dense_2 (\u001b[38;5;33mDense\u001b[0m)                 │ (\u001b[38;5;45mNone\u001b[0m, \u001b[38;5;34m256\u001b[0m)            │        \u001b[38;5;34m77,056\u001b[0m │\n",
              "├─────────────────────────────────┼────────────────────────┼───────────────┤\n",
              "│ dropout_3 (\u001b[38;5;33mDropout\u001b[0m)             │ (\u001b[38;5;45mNone\u001b[0m, \u001b[38;5;34m256\u001b[0m)            │             \u001b[38;5;34m0\u001b[0m │\n",
              "├─────────────────────────────────┼────────────────────────┼───────────────┤\n",
              "│ batch_normalization_1           │ (\u001b[38;5;45mNone\u001b[0m, \u001b[38;5;34m256\u001b[0m)            │         \u001b[38;5;34m1,024\u001b[0m │\n",
              "│ (\u001b[38;5;33mBatchNormalization\u001b[0m)            │                        │               │\n",
              "├─────────────────────────────────┼────────────────────────┼───────────────┤\n",
              "│ dense_3 (\u001b[38;5;33mDense\u001b[0m)                 │ (\u001b[38;5;45mNone\u001b[0m, \u001b[38;5;34m31\u001b[0m)             │         \u001b[38;5;34m7,967\u001b[0m │\n",
              "└─────────────────────────────────┴────────────────────────┴───────────────┘\n"
            ]
          },
          "metadata": {},
          "output_type": "display_data"
        },
        {
          "data": {
            "text/html": [
              "<pre style=\"white-space:pre;overflow-x:auto;line-height:normal;font-family:Menlo,'DejaVu Sans Mono',consolas,'Courier New',monospace\"><span style=\"font-weight: bold\"> Total params: </span><span style=\"color: #00af00; text-decoration-color: #00af00\">4,688,047</span> (17.88 MB)\n",
              "</pre>\n"
            ],
            "text/plain": [
              "\u001b[1m Total params: \u001b[0m\u001b[38;5;34m4,688,047\u001b[0m (17.88 MB)\n"
            ]
          },
          "metadata": {},
          "output_type": "display_data"
        },
        {
          "data": {
            "text/html": [
              "<pre style=\"white-space:pre;overflow-x:auto;line-height:normal;font-family:Menlo,'DejaVu Sans Mono',consolas,'Courier New',monospace\"><span style=\"font-weight: bold\"> Trainable params: </span><span style=\"color: #00af00; text-decoration-color: #00af00\">4,687,535</span> (17.88 MB)\n",
              "</pre>\n"
            ],
            "text/plain": [
              "\u001b[1m Trainable params: \u001b[0m\u001b[38;5;34m4,687,535\u001b[0m (17.88 MB)\n"
            ]
          },
          "metadata": {},
          "output_type": "display_data"
        },
        {
          "data": {
            "text/html": [
              "<pre style=\"white-space:pre;overflow-x:auto;line-height:normal;font-family:Menlo,'DejaVu Sans Mono',consolas,'Courier New',monospace\"><span style=\"font-weight: bold\"> Non-trainable params: </span><span style=\"color: #00af00; text-decoration-color: #00af00\">512</span> (2.00 KB)\n",
              "</pre>\n"
            ],
            "text/plain": [
              "\u001b[1m Non-trainable params: \u001b[0m\u001b[38;5;34m512\u001b[0m (2.00 KB)\n"
            ]
          },
          "metadata": {},
          "output_type": "display_data"
        }
      ],
      "source": [
        "lstm_model_F.summary()"
      ]
    },
    {
      "cell_type": "code",
      "execution_count": null,
      "metadata": {
        "id": "_h7Bovw6S5Ts",
        "outputId": "e800d6ec-cb48-49be-e953-f612f4149d02"
      },
      "outputs": [
        {
          "name": "stdout",
          "output_type": "stream",
          "text": [
            "Epoch 1/10\n",
            "\u001b[1m194/194\u001b[0m \u001b[32m━━━━━━━━━━━━━━━━━━━━\u001b[0m\u001b[37m\u001b[0m \u001b[1m397s\u001b[0m 2s/step - acc: 0.0601 - loss: 3.3739 - val_acc: 0.0777 - val_loss: 3.2952\n",
            "Epoch 2/10\n",
            "\u001b[1m194/194\u001b[0m \u001b[32m━━━━━━━━━━━━━━━━━━━━\u001b[0m\u001b[37m\u001b[0m \u001b[1m397s\u001b[0m 2s/step - acc: 0.1201 - loss: 3.0191 - val_acc: 0.2011 - val_loss: 2.9161\n",
            "Epoch 3/10\n",
            "\u001b[1m194/194\u001b[0m \u001b[32m━━━━━━━━━━━━━━━━━━━━\u001b[0m\u001b[37m\u001b[0m \u001b[1m414s\u001b[0m 2s/step - acc: 0.2227 - loss: 2.5828 - val_acc: 0.3414 - val_loss: 2.2623\n",
            "Epoch 4/10\n",
            "\u001b[1m194/194\u001b[0m \u001b[32m━━━━━━━━━━━━━━━━━━━━\u001b[0m\u001b[37m\u001b[0m \u001b[1m409s\u001b[0m 2s/step - acc: 0.3815 - loss: 2.0599 - val_acc: 0.4321 - val_loss: 1.9139\n",
            "Epoch 5/10\n",
            "\u001b[1m194/194\u001b[0m \u001b[32m━━━━━━━━━━━━━━━━━━━━\u001b[0m\u001b[37m\u001b[0m \u001b[1m372s\u001b[0m 2s/step - acc: 0.5018 - loss: 1.6749 - val_acc: 0.4957 - val_loss: 1.7361\n",
            "Epoch 6/10\n",
            "\u001b[1m194/194\u001b[0m \u001b[32m━━━━━━━━━━━━━━━━━━━━\u001b[0m\u001b[37m\u001b[0m \u001b[1m388s\u001b[0m 2s/step - acc: 0.5856 - loss: 1.3752 - val_acc: 0.5116 - val_loss: 1.7319\n",
            "Epoch 7/10\n",
            "\u001b[1m194/194\u001b[0m \u001b[32m━━━━━━━━━━━━━━━━━━━━\u001b[0m\u001b[37m\u001b[0m \u001b[1m358s\u001b[0m 2s/step - acc: 0.6456 - loss: 1.1708 - val_acc: 0.5368 - val_loss: 1.7005\n",
            "Epoch 8/10\n",
            "\u001b[1m194/194\u001b[0m \u001b[32m━━━━━━━━━━━━━━━━━━━━\u001b[0m\u001b[37m\u001b[0m \u001b[1m351s\u001b[0m 2s/step - acc: 0.7003 - loss: 0.9803 - val_acc: 0.5381 - val_loss: 1.7065\n",
            "Epoch 9/10\n",
            "\u001b[1m194/194\u001b[0m \u001b[32m━━━━━━━━━━━━━━━━━━━━\u001b[0m\u001b[37m\u001b[0m \u001b[1m351s\u001b[0m 2s/step - acc: 0.7415 - loss: 0.8459 - val_acc: 0.5551 - val_loss: 1.7368\n",
            "Epoch 10/10\n",
            "\u001b[1m194/194\u001b[0m \u001b[32m━━━━━━━━━━━━━━━━━━━━\u001b[0m\u001b[37m\u001b[0m \u001b[1m350s\u001b[0m 2s/step - acc: 0.7849 - loss: 0.7070 - val_acc: 0.5507 - val_loss: 1.7945\n"
          ]
        }
      ],
      "source": [
        "history_F = lstm_model_F.fit(x_train, y_train, batch_size=128, epochs=10, validation_data=(x_val, y_val))"
      ]
    }
  ],
  "metadata": {
    "accelerator": "GPU",
    "colab": {
      "collapsed_sections": [
        "RE-StmDi4HCz"
      ],
      "gpuType": "T4",
      "machine_shape": "hm",
      "provenance": []
    },
    "kernelspec": {
      "display_name": "Python 3",
      "name": "python3"
    },
    "language_info": {
      "codemirror_mode": {
        "name": "ipython",
        "version": 3
      },
      "file_extension": ".py",
      "mimetype": "text/x-python",
      "name": "python",
      "nbconvert_exporter": "python",
      "pygments_lexer": "ipython3",
      "version": "3.12.2"
    }
  },
  "nbformat": 4,
  "nbformat_minor": 0
}